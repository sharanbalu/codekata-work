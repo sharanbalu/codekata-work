{
  "nbformat": 4,
  "nbformat_minor": 0,
  "metadata": {
    "colab": {
      "provenance": [],
      "authorship_tag": "ABX9TyPfog4jCjix19IQHOiSRLH0",
      "include_colab_link": true
    },
    "kernelspec": {
      "name": "python3",
      "display_name": "Python 3"
    },
    "language_info": {
      "name": "python"
    }
  },
  "cells": [
    {
      "cell_type": "markdown",
      "metadata": {
        "id": "view-in-github",
        "colab_type": "text"
      },
      "source": [
        "<a href=\"https://colab.research.google.com/github/sharanbalu/codekata-work/blob/main/Untitled19.ipynb\" target=\"_parent\"><img src=\"https://colab.research.google.com/assets/colab-badge.svg\" alt=\"Open In Colab\"/></a>"
      ]
    },
    {
      "cell_type": "code",
      "execution_count": null,
      "metadata": {
        "colab": {
          "base_uri": "https://localhost:8080/"
        },
        "id": "LwSZtfoehsoS",
        "outputId": "737f4a1d-7566-4da3-cbe9-cc07a6131e37"
      },
      "outputs": [
        {
          "output_type": "stream",
          "name": "stdout",
          "text": [
            "10\n",
            "10\n",
            "9\n",
            "8\n",
            "7\n",
            "6\n",
            "5\n",
            "4\n",
            "3\n",
            "2\n",
            "1\n"
          ]
        }
      ],
      "source": [
        "N= int(input())\n",
        "i=10\n",
        "if N==10:\n",
        "    for i in range(10,0,-1):\n",
        "        print(i)\n",
        "        i-=1"
      ]
    },
    {
      "cell_type": "code",
      "source": [
        "string=input()\n",
        "\n",
        "print(string[::-1])"
      ],
      "metadata": {
        "colab": {
          "base_uri": "https://localhost:8080/"
        },
        "id": "LIagef6Ivkn8",
        "outputId": "e5a04d0c-a7e5-4571-a66e-39a51fb9044e"
      },
      "execution_count": null,
      "outputs": [
        {
          "output_type": "stream",
          "name": "stdout",
          "text": [
            "10\n",
            "01\n"
          ]
        }
      ]
    },
    {
      "cell_type": "markdown",
      "source": [
        "num = int(input(\"Enter a number: \"))\n",
        "\n",
        "\n",
        "if num < 0:\n",
        "\n",
        "print(\"Enter a positive number\")\n",
        "\n",
        "else:\n",
        "\n",
        "sum = 0.\n",
        "\n",
        " use while loop to iterate un till zero.\n",
        " \n",
        "while(num > 0):\n",
        "\n",
        "sum += num."
      ],
      "metadata": {
        "id": "QSgVHvLELu5M"
      }
    },
    {
      "cell_type": "code",
      "source": [
        "'''integer=int(input())\n",
        "\n",
        "if integer<10:\n",
        "    for i in range(1,11,1):\n",
        "        print(i)'''\n",
        "\n",
        "integer=int(input())\n",
        "if integer<0:\n",
        "  print('enter valid num')\n",
        "else:\n",
        "  sum=0\n",
        "  while integer>0:\n",
        "    sum+=integer\n",
        "    integer-=1\n",
        "  print(sum)\n",
        "       "
      ],
      "metadata": {
        "colab": {
          "base_uri": "https://localhost:8080/"
        },
        "id": "_C69ktsTw7uq",
        "outputId": "bc8c6537-b193-48ed-fa6b-444b3a9d0faf"
      },
      "execution_count": null,
      "outputs": [
        {
          "output_type": "stream",
          "name": "stdout",
          "text": [
            "10\n",
            "55\n"
          ]
        }
      ]
    },
    {
      "cell_type": "code",
      "source": [
        "# Sum of natural numbers up to num\n",
        "\n",
        "num = int(input())\n",
        "\n",
        "if num < 0:\n",
        "   print(\"Enter a positive number\")\n",
        "else:\n",
        "   sum = 0\n",
        "   # use while loop to iterate until zero\n",
        "   while(num > 0):\n",
        "       sum += num\n",
        "       num -= 1\n",
        "   print( sum)"
      ],
      "metadata": {
        "colab": {
          "base_uri": "https://localhost:8080/"
        },
        "id": "IH7snkwrLKdF",
        "outputId": "e3d25f13-70b1-4449-d6f2-de4ba7f3928d"
      },
      "execution_count": null,
      "outputs": [
        {
          "output_type": "stream",
          "name": "stdout",
          "text": [
            "10\n",
            "55\n"
          ]
        }
      ]
    },
    {
      "cell_type": "code",
      "source": [
        "\n",
        "integer=int(input())\n",
        "if integer<0:\n",
        "  for i in range(10,0,-1):\n",
        "    print(i)\n",
        "\n",
        "\n",
        "\n",
        "\n",
        "'''else:\n",
        "  sum=0\n",
        "  while integer>0:\n",
        "    sum+=integer\n",
        "    integer-=1\n",
        "  print(sum)'''"
      ],
      "metadata": {
        "colab": {
          "base_uri": "https://localhost:8080/",
          "height": 53
        },
        "id": "UiCIieRVON2Z",
        "outputId": "588c4476-a9c6-411f-9c3a-fa342ae4c404"
      },
      "execution_count": null,
      "outputs": [
        {
          "name": "stdout",
          "output_type": "stream",
          "text": [
            "10\n"
          ]
        },
        {
          "output_type": "execute_result",
          "data": {
            "text/plain": [
              "'else:\\n  sum=0\\n  while integer>0:\\n    sum+=integer\\n    integer-=1\\n  print(sum)'"
            ],
            "application/vnd.google.colaboratory.intrinsic+json": {
              "type": "string"
            }
          },
          "metadata": {},
          "execution_count": 48
        }
      ]
    },
    {
      "cell_type": "code",
      "source": [
        "integer=int(input())\n",
        "i= integer\n",
        "while i>=1:\n",
        "  print(i)\n",
        "  i-=1"
      ],
      "metadata": {
        "colab": {
          "base_uri": "https://localhost:8080/"
        },
        "id": "4Qg2E4GPOlSx",
        "outputId": "a32ae82a-22f6-400c-96ac-46e65cf32eea"
      },
      "execution_count": null,
      "outputs": [
        {
          "output_type": "stream",
          "name": "stdout",
          "text": [
            "5\n",
            "5\n",
            "4\n",
            "3\n",
            "2\n",
            "1\n"
          ]
        }
      ]
    },
    {
      "cell_type": "code",
      "source": [
        "\n",
        "number = int(input(\"Please Enter any Number: \"))\n",
        "i = number\n",
        " \n",
        "while ( i >= 1):\n",
        "    print (i, end = '  ')\n",
        "    i = i - 1"
      ],
      "metadata": {
        "colab": {
          "base_uri": "https://localhost:8080/"
        },
        "id": "kCA_cuj8Pz8V",
        "outputId": "43baa6c2-f63c-4bc5-a521-02ed78db0dee"
      },
      "execution_count": null,
      "outputs": [
        {
          "output_type": "stream",
          "name": "stdout",
          "text": [
            "Please Enter any Number: 10\n",
            "10  9  8  7  6  5  4  3  2  1  "
          ]
        }
      ]
    },
    {
      "cell_type": "code",
      "source": [
        "integer=int(input())\n",
        "\n",
        "for i in range(1,integer+1):\n",
        "  print(i)\n",
        "  "
      ],
      "metadata": {
        "id": "WG1eKRj4ReZN",
        "colab": {
          "base_uri": "https://localhost:8080/"
        },
        "outputId": "a952541f-3b7b-42e4-d388-fdec70da56e0"
      },
      "execution_count": null,
      "outputs": [
        {
          "output_type": "stream",
          "name": "stdout",
          "text": [
            "5\n",
            "1\n",
            "2\n",
            "3\n",
            "4\n",
            "5\n"
          ]
        }
      ]
    },
    {
      "cell_type": "code",
      "source": [
        "# Python program to print numbers from 1 to n\n",
        " \n",
        "n = int(input(\"Please Enter any Number: \"))\n",
        " \n",
        "print(\"The List of Natural Numbers from 1\", \"to\", n) \n",
        " \n",
        "for i in range(1, n + 1):\n",
        "    print (i, end = '  ')"
      ],
      "metadata": {
        "id": "0QEyRJ0fR65k",
        "outputId": "80936eff-30c9-4386-fcff-b36afdae942a",
        "colab": {
          "base_uri": "https://localhost:8080/"
        }
      },
      "execution_count": null,
      "outputs": [
        {
          "output_type": "stream",
          "name": "stdout",
          "text": [
            "Please Enter any Number: 5\n",
            "The List of Natural Numbers from 1 to 5\n",
            "1  2  3  4  5  "
          ]
        }
      ]
    }
  ]
}