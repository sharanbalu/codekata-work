{
  "cells": [
    {
      "cell_type": "markdown",
      "metadata": {
        "id": "view-in-github",
        "colab_type": "text"
      },
      "source": [
        "<a href=\"https://colab.research.google.com/github/sharanbalu/codekata-work/blob/main/Untitled0.ipynb\" target=\"_parent\"><img src=\"https://colab.research.google.com/assets/colab-badge.svg\" alt=\"Open In Colab\"/></a>"
      ]
    },
    {
      "cell_type": "markdown",
      "metadata": {
        "id": "Q2pH0_-BwYZp"
      },
      "source": [
        "Input and Output\n",
        "**bold text**"
      ]
    },
    {
      "cell_type": "code",
      "execution_count": null,
      "metadata": {
        "colab": {
          "base_uri": "https://localhost:8080/"
        },
        "id": "nYLFjg2awS9x",
        "outputId": "38e29b31-0566-4432-b923-b46530eb00bd"
      },
      "outputs": [
        {
          "name": "stdout",
          "output_type": "stream",
          "text": [
            "5\n",
            "5\n",
            "<class 'int'>\n"
          ]
        }
      ],
      "source": [
        "#i/p 5 / o/p 5\n",
        "\n",
        "I=int(input())\n",
        "print(I)\n",
        "print(type(I))\n",
        "\n"
      ]
    },
    {
      "cell_type": "code",
      "execution_count": null,
      "metadata": {
        "colab": {
          "base_uri": "https://localhost:8080/"
        },
        "id": "kF8UwcQRxMxG",
        "outputId": "70b93c4b-467d-428e-fe16-b30de7180954"
      },
      "outputs": [
        {
          "name": "stdout",
          "output_type": "stream",
          "text": [
            "5\n",
            "5\n",
            "25\n"
          ]
        }
      ],
      "source": [
        "A=int(input())\n",
        "B=int(input())\n",
        "print(A*B)"
      ]
    },
    {
      "cell_type": "code",
      "execution_count": null,
      "metadata": {
        "colab": {
          "base_uri": "https://localhost:8080/"
        },
        "id": "blyLa62hx1gz",
        "outputId": "54ff9084-1baf-4b8a-f8fe-cb098241763c"
      },
      "outputs": [
        {
          "name": "stdout",
          "output_type": "stream",
          "text": [
            "3.14\n",
            "3.14\n",
            "<class 'float'>\n"
          ]
        }
      ],
      "source": [
        "#3.14 / o/p 3.14\n",
        "\n",
        "F=float(input())\n",
        "print(F)\n",
        "print(type(F))"
      ]
    },
    {
      "cell_type": "code",
      "execution_count": null,
      "metadata": {
        "colab": {
          "base_uri": "https://localhost:8080/"
        },
        "id": "vS4MalXwyRqM",
        "outputId": "ef24cf51-2ef7-4350-f7f8-6dc1ccff73af"
      },
      "outputs": [
        {
          "name": "stdout",
          "output_type": "stream",
          "text": [
            "Guvi\n",
            "Guvi\n",
            "<class 'str'>\n"
          ]
        }
      ],
      "source": [
        "# Guvi / o/p=Guvi\n",
        "S=input()\n",
        "print(S)\n",
        "print(type(S))\n",
        "\n"
      ]
    },
    {
      "cell_type": "code",
      "execution_count": null,
      "metadata": {
        "colab": {
          "base_uri": "https://localhost:8080/"
        },
        "id": "qrpW-IHwyz7L",
        "outputId": "be94aa0c-6f88-4a0c-f699-e12c81097618"
      },
      "outputs": [
        {
          "name": "stdout",
          "output_type": "stream",
          "text": [
            "1 2 3 4 5\n",
            "1 2 3 4 5\n",
            "<class 'str'>\n"
          ]
        }
      ],
      "source": [
        "#1 2 3 4 5 / o/p=1 2 3 4 5 \n",
        "A=input()\n",
        "print(A)\n",
        "print(type(A))"
      ]
    },
    {
      "cell_type": "code",
      "execution_count": null,
      "metadata": {
        "colab": {
          "base_uri": "https://localhost:8080/"
        },
        "id": "H-brCJktzWnU",
        "outputId": "c68237d1-ba0f-4697-abe7-0936865752ad"
      },
      "outputs": [
        {
          "name": "stdout",
          "output_type": "stream",
          "text": [
            "1 2 3 4 5\n",
            "['1', '2', '3', '4', '5']\n"
          ]
        }
      ],
      "source": [
        "A=input().split(' ')\n",
        "print(A)"
      ]
    },
    {
      "cell_type": "code",
      "execution_count": null,
      "metadata": {
        "colab": {
          "base_uri": "https://localhost:8080/"
        },
        "id": "3u1MEYrYzsVa",
        "outputId": "cd1a6038-cc91-4413-c432-43d5b7a22858"
      },
      "outputs": [
        {
          "name": "stdout",
          "output_type": "stream",
          "text": [
            "[1.0, 2.0, 3.0, 4.0, 5.0]\n"
          ]
        }
      ],
      "source": [
        "B=list(map(float,A))\n",
        "print(B)"
      ]
    },
    {
      "cell_type": "code",
      "execution_count": null,
      "metadata": {
        "id": "HMH0DQoq015J"
      },
      "outputs": [],
      "source": [
        "def sqr(x):\n",
        "    x=int(x)\n",
        "    return x**2"
      ]
    },
    {
      "cell_type": "code",
      "execution_count": null,
      "metadata": {
        "colab": {
          "base_uri": "https://localhost:8080/",
          "height": 165
        },
        "id": "TibJHvOm1JNk",
        "outputId": "b6cdc064-f14a-4675-c1a6-1c820d1a340e"
      },
      "outputs": [
        {
          "ename": "NameError",
          "evalue": "ignored",
          "output_type": "error",
          "traceback": [
            "\u001b[0;31m---------------------------------------------------------------------------\u001b[0m",
            "\u001b[0;31mNameError\u001b[0m                                 Traceback (most recent call last)",
            "\u001b[0;32m<ipython-input-12-78c39c798fdf>\u001b[0m in \u001b[0;36m<module>\u001b[0;34m()\u001b[0m\n\u001b[0;32m----> 1\u001b[0;31m \u001b[0msqr\u001b[0m\u001b[0;34m(\u001b[0m\u001b[0;36m5\u001b[0m\u001b[0;34m)\u001b[0m\u001b[0;34m\u001b[0m\u001b[0;34m\u001b[0m\u001b[0m\n\u001b[0m",
            "\u001b[0;31mNameError\u001b[0m: name 'sqr' is not defined"
          ]
        }
      ],
      "source": [
        "sqr(5)"
      ]
    },
    {
      "cell_type": "code",
      "execution_count": null,
      "metadata": {
        "colab": {
          "base_uri": "https://localhost:8080/"
        },
        "id": "0ix_x_Zk1611",
        "outputId": "325b21b6-4fbc-4042-cbf2-24fa64004533"
      },
      "outputs": [
        {
          "name": "stdout",
          "output_type": "stream",
          "text": [
            "1 2 3 4 5\n"
          ]
        }
      ],
      "source": [
        "B=list(map(int,A))\n",
        "print(*B)"
      ]
    },
    {
      "cell_type": "code",
      "execution_count": null,
      "metadata": {
        "colab": {
          "base_uri": "https://localhost:8080/"
        },
        "id": "SyXVR99f2TgO",
        "outputId": "3549a2fe-d1a3-4e3c-c6f0-05d52ab3b85f"
      },
      "outputs": [
        {
          "name": "stdout",
          "output_type": "stream",
          "text": [
            "1 2 3 4 5\n",
            "['1', '2', '3', '4', '5']\n"
          ]
        }
      ],
      "source": [
        "C=input().split()\n",
        "print(C)"
      ]
    },
    {
      "cell_type": "code",
      "execution_count": null,
      "metadata": {
        "colab": {
          "base_uri": "https://localhost:8080/"
        },
        "id": "L9V-pYDe2nIX",
        "outputId": "cfa2a9e9-1e64-4dff-f11c-305ae7d8feee"
      },
      "outputs": [
        {
          "name": "stdout",
          "output_type": "stream",
          "text": [
            "1 2 3 4 5\n"
          ]
        }
      ],
      "source": [
        "print(' '.join(C))"
      ]
    },
    {
      "cell_type": "code",
      "execution_count": null,
      "metadata": {
        "colab": {
          "base_uri": "https://localhost:8080/"
        },
        "id": "5PYmbQvr3GLS",
        "outputId": "223874e5-f6fb-4086-b996-1e8fea45134f"
      },
      "outputs": [
        {
          "name": "stdout",
          "output_type": "stream",
          "text": [
            "Guvi Network\n",
            "Guvi Network\n"
          ]
        }
      ],
      "source": [
        "S=input()\n",
        "print(S)"
      ]
    },
    {
      "cell_type": "code",
      "execution_count": null,
      "metadata": {
        "colab": {
          "base_uri": "https://localhost:8080/"
        },
        "id": "Ztb7hMjg4Gm7",
        "outputId": "051bb8ca-2c39-40ac-b33b-b5d5e93ce8de"
      },
      "outputs": [
        {
          "name": "stdout",
          "output_type": "stream",
          "text": [
            "  \n"
          ]
        }
      ],
      "source": [
        "print(' ','')"
      ]
    },
    {
      "cell_type": "code",
      "execution_count": null,
      "metadata": {
        "colab": {
          "base_uri": "https://localhost:8080/",
          "height": 130
        },
        "id": "J-sPhZTr4Td0",
        "outputId": "a478c116-369c-46b5-d5e1-35ebf5736c20"
      },
      "outputs": [
        {
          "ename": "SyntaxError",
          "evalue": "ignored",
          "output_type": "error",
          "traceback": [
            "\u001b[0;36m  File \u001b[0;32m\"<ipython-input-26-f6cca32f1752>\"\u001b[0;36m, line \u001b[0;32m9\u001b[0m\n\u001b[0;31m    print(A B C)\u001b[0m\n\u001b[0m            ^\u001b[0m\n\u001b[0;31mSyntaxError\u001b[0m\u001b[0;31m:\u001b[0m invalid syntax\n"
          ]
        }
      ],
      "source": [
        "# 1\n",
        "# 2\n",
        "# 3\n",
        "# 1 2 3\n",
        "\n",
        "A=int(input())\n",
        "B=int(input())\n",
        "C=int(input())\n",
        "print(ABC)\n",
        "  "
      ]
    },
    {
      "cell_type": "markdown",
      "metadata": {
        "id": "SnPGh5kT8qgK"
      },
      "source": [
        "# conditional **statment**"
      ]
    },
    {
      "cell_type": "markdown",
      "metadata": {
        "id": "UBt-ncCN8z0p"
      },
      "source": [
        "if,else and elseif"
      ]
    },
    {
      "cell_type": "code",
      "execution_count": null,
      "metadata": {
        "colab": {
          "base_uri": "https://localhost:8080/"
        },
        "id": "2fK9IRLy8wi8",
        "outputId": "fd2f368f-4663-4f10-c7b3-500ff64676d9"
      },
      "outputs": [
        {
          "name": "stdout",
          "output_type": "stream",
          "text": [
            "14\n",
            "16\n",
            "449\n",
            "Enter your weight444\n",
            "14 eligible for ride\n"
          ]
        }
      ],
      "source": [
        "# if age >14 and weight >45 her or she is eligible for the ride\n",
        "\n",
        "Name=input()\n",
        "Age=int(input()) #Age 14\n",
        "Weight=float(input())\n",
        "\n",
        "if Age>=14:\n",
        "  Weight=float(input('Enter your weight'))\n",
        "  if Weight>=45:\n",
        "    print(Name,'eligible for ride')\n",
        "  else:\n",
        "        print(Name,'Your weight is less than 45 not eligible for ride')\n",
        "else:\n",
        "    print(Name,'Your age is less than 14 not eligible for ride')"
      ]
    },
    {
      "cell_type": "code",
      "execution_count": null,
      "metadata": {
        "colab": {
          "base_uri": "https://localhost:8080/"
        },
        "id": "zsQHo1sWCw22",
        "outputId": "71c1861d-2c95-412e-d239-59936ce722bc"
      },
      "outputs": [
        {
          "name": "stdout",
          "output_type": "stream",
          "text": [
            "raci\n",
            "2444\n",
            "raci You are eligible for discount\n"
          ]
        }
      ],
      "source": [
        " # Shop 688,500,220,1000 = eligible for discount / 399,725,683,999,1003 =not eligibel\n",
        "\n",
        "Cust_Name=input()\n",
        "Bill_Amt=int(input())\n",
        "\n",
        "if Bill_Amt%2==0:\n",
        "  print(Cust_Name,'You are eligible for discount')\n",
        "else:  \n",
        "  print(Cust_Name,'You are not eligible for discount')\n",
        "\n"
      ]
    },
    {
      "cell_type": "code",
      "execution_count": null,
      "metadata": {
        "colab": {
          "base_uri": "https://localhost:8080/"
        },
        "id": "kUiP5TUZD_OY",
        "outputId": "e0eb72c1-6f96-4eaa-adc1-dcca5c98bbfc"
      },
      "outputs": [
        {
          "name": "stdout",
          "output_type": "stream",
          "text": [
            "ravi\n",
            "1500\n",
            "ravi You are eligible for %5,10%,15%,20% of discount\n"
          ]
        }
      ],
      "source": [
        "Cust_Name=input()\n",
        "Bill_Amt=int(input())\n",
        "if Bill_Amt>=500 and Bill_Amt<=2000:\n",
        "  print(Cust_Name,'You are eligible for %5,10%,15%,20% of discount')\n",
        "else:\n",
        "   print(Cust_Name,'Your not eligbele for discount')"
      ]
    },
    {
      "cell_type": "code",
      "execution_count": null,
      "metadata": {
        "colab": {
          "base_uri": "https://localhost:8080/"
        },
        "id": "8SBuxY5bPMu_",
        "outputId": "d17dd918-35d1-49eb-fec4-5a6bcc07030b"
      },
      "outputs": [
        {
          "name": "stdout",
          "output_type": "stream",
          "text": [
            "ff\n",
            "2100\n",
            "ff Your are eligible for 10% discount\n"
          ]
        }
      ],
      "source": [
        "Cust_Name=input()\n",
        "Bill_Amt=int(input())\n",
        "if Bill_Amt>=500 and Bill_Amt<=1000:\n",
        "  print(Cust_Name,'You are eligible for 5% of discount')\n",
        "elif Bill_Amt>1000:\n",
        "   print(Cust_Name,'Your are eligible for 10% discount')\n",
        "elif Bill_Amt>1500:\n",
        "  print(Cust_Name,'Your are eligible for 15% discount')\n",
        "elif Bill_Amt>=2000:\n",
        "  print(Cust_Name,'You are eligible for 20% discount')  \n",
        "\n",
        "else:\n",
        "   print(Cust_Name,'Your not eligbele for discount')"
      ]
    },
    {
      "cell_type": "code",
      "execution_count": null,
      "metadata": {
        "colab": {
          "base_uri": "https://localhost:8080/"
        },
        "id": "1RaKulEiSrqY",
        "outputId": "bdedffa2-ae16-4ab0-abd0-ff348b0d3d0c"
      },
      "outputs": [
        {
          "name": "stdout",
          "output_type": "stream",
          "text": [
            "fjnfjn\n",
            "2130\n",
            "ff You are eligible for 20% discount\n"
          ]
        }
      ],
      "source": [
        "Cust_Name=input()\n",
        "Bill_Amt=int(input())\n",
        "if Bill_Amt>500:\n",
        " if Bill_Amt<=1000:\n",
        "  print(Cust_Name,'You are eligible for 5% of discount')\n",
        " elif Bill_Amt>1000 and Bill_Amt<=1500:\n",
        "   print(Cust_Name,'Your are eligible for 10% discount')\n",
        " elif Bill_Amt>1500 and Bill_Amt<=2000:\n",
        "  print(Cust_Name,'Your are eligible for 15% discount')\n",
        " else:\n",
        "  print(Cust_Name,'You are eligible for 20% discount')  \n",
        "\n",
        "else:\n",
        "   print(Cust_Name,'Your not eligbele for discount')"
      ]
    },
    {
      "cell_type": "markdown",
      "metadata": {
        "id": "MJt8ADy7caTJ"
      },
      "source": [
        "indentation error"
      ]
    },
    {
      "cell_type": "code",
      "execution_count": null,
      "metadata": {
        "colab": {
          "base_uri": "https://localhost:8080/",
          "height": 130
        },
        "id": "R2kY201gZ41r",
        "outputId": "32a6a5cb-318d-448f-a4b5-9382d4a1ec46"
      },
      "outputs": [
        {
          "ename": "IndentationError",
          "evalue": "ignored",
          "output_type": "error",
          "traceback": [
            "\u001b[0;36m  File \u001b[0;32m\"<ipython-input-28-729649cfccbb>\"\u001b[0;36m, line \u001b[0;32m3\u001b[0m\n\u001b[0;31m    print(yes)\u001b[0m\n\u001b[0m        ^\u001b[0m\n\u001b[0;31mIndentationError\u001b[0m\u001b[0;31m:\u001b[0m expected an indented block\n"
          ]
        }
      ],
      "source": [
        "x=10\n",
        "if x>5:\n",
        "print(yes)\n"
      ]
    },
    {
      "cell_type": "code",
      "execution_count": null,
      "metadata": {
        "colab": {
          "base_uri": "https://localhost:8080/"
        },
        "id": "7A_LDJbnc4yr",
        "outputId": "8d7300c9-ca02-45db-9c6d-099a922bbf03"
      },
      "outputs": [
        {
          "name": "stdout",
          "output_type": "stream",
          "text": [
            "yes\n"
          ]
        }
      ],
      "source": [
        "x=10\n",
        "if x>5:\n",
        " print('yes')\n"
      ]
    },
    {
      "cell_type": "markdown",
      "metadata": {
        "id": "ajoxOATpdVC9"
      },
      "source": [
        "# Loops"
      ]
    },
    {
      "cell_type": "markdown",
      "metadata": {
        "id": "kDf2oiQGdYnc"
      },
      "source": [
        "for and while loop"
      ]
    },
    {
      "cell_type": "code",
      "execution_count": null,
      "metadata": {
        "colab": {
          "base_uri": "https://localhost:8080/"
        },
        "id": "XcapJLDSdeGr",
        "outputId": "e0afb737-248e-45d1-dbf0-2469a78a7f34"
      },
      "outputs": [
        {
          "name": "stdout",
          "output_type": "stream",
          "text": [
            "0\n",
            "1\n",
            "2\n",
            "3\n",
            "4\n",
            "5\n",
            "6\n",
            "7\n",
            "8\n",
            "9\n"
          ]
        }
      ],
      "source": [
        "#0 to 10\n",
        "\n",
        "for i in range(0,10):\n",
        "  print(i)"
      ]
    },
    {
      "cell_type": "code",
      "execution_count": null,
      "metadata": {
        "colab": {
          "base_uri": "https://localhost:8080/"
        },
        "id": "bjpY1QadgR48",
        "outputId": "13e3243f-eddd-4fe6-c832-5d701f6a62db"
      },
      "outputs": [
        {
          "name": "stdout",
          "output_type": "stream",
          "text": [
            "1\n",
            "2\n",
            "3\n",
            "4\n",
            "5\n",
            "6\n",
            "7\n",
            "8\n",
            "9\n",
            "10\n"
          ]
        }
      ],
      "source": [
        "#1 to 10\n",
        "\n",
        "for i in range(1,10+1):\n",
        "  print(i)\n",
        "          "
      ]
    },
    {
      "cell_type": "markdown",
      "metadata": {
        "id": "54N2guo8h-WS"
      },
      "source": [
        "Step function"
      ]
    },
    {
      "cell_type": "code",
      "execution_count": null,
      "metadata": {
        "colab": {
          "base_uri": "https://localhost:8080/"
        },
        "id": "ol2mrycZh9ow",
        "outputId": "60fea216-41aa-4fe1-fcfe-301c3d404b19"
      },
      "outputs": [
        {
          "name": "stdout",
          "output_type": "stream",
          "text": [
            "2\n",
            "5\n",
            "8\n",
            "11\n",
            "14\n"
          ]
        }
      ],
      "source": [
        "for i in range(2,15,3):\n",
        "  print(i)"
      ]
    },
    {
      "cell_type": "code",
      "execution_count": null,
      "metadata": {
        "colab": {
          "base_uri": "https://localhost:8080/"
        },
        "id": "o88MHcy_jJzA",
        "outputId": "40b40b09-dba7-4e77-87b6-ee3fc24f6cf5"
      },
      "outputs": [
        {
          "name": "stdout",
          "output_type": "stream",
          "text": [
            "10\n",
            "9\n",
            "8\n",
            "7\n",
            "6\n",
            "5\n",
            "4\n",
            "3\n",
            "2\n"
          ]
        }
      ],
      "source": [
        "# 10 to 1\n",
        "\n",
        "for i in range(10,1,-1):\n",
        "  print(i)"
      ]
    },
    {
      "cell_type": "code",
      "execution_count": null,
      "metadata": {
        "colab": {
          "base_uri": "https://localhost:8080/"
        },
        "id": "3mXqZIV6kO2t",
        "outputId": "05a8c862-f1aa-4f87-d153-77f44a8ad435"
      },
      "outputs": [
        {
          "name": "stdout",
          "output_type": "stream",
          "text": [
            "10\n",
            "9\n",
            "8\n",
            "7\n",
            "6\n",
            "5\n",
            "4\n",
            "3\n",
            "2\n",
            "1\n"
          ]
        }
      ],
      "source": [
        "for i in range(10,0,-1):\n",
        "  print(i)"
      ]
    },
    {
      "cell_type": "code",
      "execution_count": null,
      "metadata": {
        "colab": {
          "base_uri": "https://localhost:8080/"
        },
        "id": "47fSMGpakVAa",
        "outputId": "be266a17-62d0-4140-b4a1-d1288e3c34d5"
      },
      "outputs": [
        {
          "name": "stdout",
          "output_type": "stream",
          "text": [
            "20\n",
            "17\n",
            "14\n",
            "11\n",
            "8\n"
          ]
        }
      ],
      "source": [
        "for i in range(20,6,-3):\n",
        "  print(i)"
      ]
    },
    {
      "cell_type": "markdown",
      "metadata": {
        "id": "Z7v-qitLlwHM"
      },
      "source": [
        "Find Math table using Range function"
      ]
    },
    {
      "cell_type": "code",
      "execution_count": null,
      "metadata": {
        "colab": {
          "base_uri": "https://localhost:8080/"
        },
        "id": "kkEFgpLzkdsO",
        "outputId": "f80b99d3-b0e9-439b-adaf-c6f846220bd2"
      },
      "outputs": [
        {
          "name": "stdout",
          "output_type": "stream",
          "text": [
            "10\n",
            "3\n",
            "3\n",
            "6\n",
            "9\n",
            "12\n",
            "15\n",
            "18\n",
            "21\n",
            "24\n",
            "27\n",
            "30\n"
          ]
        }
      ],
      "source": [
        "times=int(input())\n",
        "mul=int(input())\n",
        "for i in range(mul,(mul*times)+1,mul):              #3 6 9 12 15 18 21 24 27 30\n",
        "  print(i)\n"
      ]
    },
    {
      "cell_type": "code",
      "execution_count": null,
      "metadata": {
        "colab": {
          "background_save": true,
          "base_uri": "https://localhost:8080/"
        },
        "id": "XzAP79KIq9MM",
        "outputId": "68c6bda9-9aac-416e-9e9a-f40764a6f53e"
      },
      "outputs": [
        {
          "name": "stdout",
          "output_type": "stream",
          "text": [
            "[5, 10, 15, 20, 25, 30, 35, 40, 45, 50]\n"
          ]
        }
      ],
      "source": [
        "\n",
        "D=[]\n",
        "for i in range(mul,(mul*times)+1,mul):             \n",
        "  D.append(i)\n",
        "print(D)"
      ]
    }
  ],
  "metadata": {
    "colab": {
      "provenance": [],
      "authorship_tag": "ABX9TyMKeVHCzPrK8eG7K1hd9N2D",
      "include_colab_link": true
    },
    "kernelspec": {
      "display_name": "Python 3",
      "name": "python3"
    },
    "language_info": {
      "name": "python"
    }
  },
  "nbformat": 4,
  "nbformat_minor": 0
}