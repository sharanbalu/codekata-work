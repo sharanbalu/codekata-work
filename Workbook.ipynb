{
  "nbformat": 4,
  "nbformat_minor": 0,
  "metadata": {
    "colab": {
      "provenance": [],
      "authorship_tag": "ABX9TyNtHsyh88Ggh6xRJ1QndAmQ",
      "include_colab_link": true
    },
    "kernelspec": {
      "name": "python3",
      "display_name": "Python 3"
    },
    "language_info": {
      "name": "python"
    }
  },
  "cells": [
    {
      "cell_type": "markdown",
      "metadata": {
        "id": "view-in-github",
        "colab_type": "text"
      },
      "source": [
        "<a href=\"https://colab.research.google.com/github/sharanbalu/codekata-work/blob/main/Workbook.ipynb\" target=\"_parent\"><img src=\"https://colab.research.google.com/assets/colab-badge.svg\" alt=\"Open In Colab\"/></a>"
      ]
    },
    {
      "cell_type": "code",
      "execution_count": null,
      "metadata": {
        "colab": {
          "base_uri": "https://localhost:8080/"
        },
        "id": "SY25mgcOEqVn",
        "outputId": "b5c225f4-ff2e-4f5d-c83a-2bbdeccad833"
      },
      "outputs": [
        {
          "output_type": "stream",
          "name": "stdout",
          "text": [
            "2.3 4.5\n",
            "2.3 4.5\n"
          ]
        }
      ],
      "source": [
        "\n",
        "a=input()\n",
        "print(a,sep='\\n')\n"
      ]
    },
    {
      "cell_type": "code",
      "source": [
        "a=int(input())\n",
        "\n",
        "if a <=12  and a!=2:\n",
        "    print(31)\n",
        "  \n",
        "elif a==2:\n",
        "    print(28)\n",
        "else:\n",
        " print('error') \n"
      ],
      "metadata": {
        "colab": {
          "base_uri": "https://localhost:8080/"
        },
        "id": "-T2YIYVBFlh-",
        "outputId": "391ab705-dac1-4529-d55f-b92af1e4df68"
      },
      "execution_count": null,
      "outputs": [
        {
          "output_type": "stream",
          "name": "stdout",
          "text": [
            "5\n",
            "31\n"
          ]
        }
      ]
    },
    {
      "cell_type": "code",
      "source": [
        "a=int(input())\n",
        "x=lambda: 31 if a<=12 and a!=2 28 if a==2 else 'error'\n",
        "print(x)"
      ],
      "metadata": {
        "colab": {
          "base_uri": "https://localhost:8080/"
        },
        "id": "hFo9lWCGFuPb",
        "outputId": "62d736ad-ec3e-4392-fd05-b77f2774e1bb"
      },
      "execution_count": null,
      "outputs": [
        {
          "output_type": "stream",
          "name": "stdout",
          "text": [
            "6\n",
            "<function <lambda> at 0x7f18b24a1560>\n"
          ]
        }
      ]
    },
    {
      "cell_type": "markdown",
      "source": [
        "The area of an equilateral triangle is ¼(√3a2) where \"a\" represents a side of the triangle. You are provided with the side \"a\". Find the area of the equilateral triangle.\n",
        "\n",
        "Input Description:\n",
        "The side of an equilateral triangle is provided as the input.\n",
        "\n",
        "Output Description:\n",
        "Find the area of the equilateral triangle and print the answer up to 2 decimal places after rounding off.\n",
        "\n",
        "Sample Input :\n",
        "20\n",
        "Sample Output :\n",
        "173.21"
      ],
      "metadata": {
        "id": "KagtXoVkKTKK"
      }
    },
    {
      "cell_type": "code",
      "source": [
        "import math\n",
        "side=int(input())\n",
        "value=(math.sqrt(3)/ 4)*(side * side)\n",
        "\n",
        "area = \"{:.2f}\".format(value)\n",
        "#area=\"{:. 2f}\".format(value)\n",
        "print(area)"
      ],
      "metadata": {
        "colab": {
          "base_uri": "https://localhost:8080/"
        },
        "id": "_WgXUHOrKVaS",
        "outputId": "e5bb2d6b-1d8a-4752-cdcd-19ce275f5599"
      },
      "execution_count": null,
      "outputs": [
        {
          "output_type": "stream",
          "name": "stdout",
          "text": [
            "20\n",
            "173.21\n"
          ]
        }
      ]
    },
    {
      "cell_type": "markdown",
      "source": [
        "Let \"A\" be a year, write a program to check whether this year is a leap year or not.\n",
        "\n",
        "Print \"Y\" if its a leap year and \"N\" if its a common year.\n",
        "\n",
        "Input Description:\n",
        "A Year is the input in the form of a positive integer.\n",
        "\n",
        "Output Description:\n",
        "Print \"Y\" if its a leap year and \"N\" if its a common year.\n",
        "\n",
        "Sample Input :\n",
        "2020\n",
        "Sample Output :\n",
        "Y"
      ],
      "metadata": {
        "id": "26V6q5ozRIQB"
      }
    },
    {
      "cell_type": "code",
      "source": [
        "# Python program to check if year is a leap year or not\n",
        "\n",
        "#year = 2000\n",
        "\n",
        "# To get year (integer input) from the user\n",
        "year = int(input())\n",
        "\n",
        "# divided by 100 means century year (ending with 00)\n",
        "# century year divided by 400 is leap year\n",
        "if (year % 400 == 0) and (year % 100 == 0):\n",
        "    print(\"{0} is a leap year\".format(year))\n",
        "\n",
        "# not divided by 100 means not a century year\n",
        "# year divided by 4 is a leap year\n",
        "elif (year % 4 ==0) and (year % 100 != 0):\n",
        "    print(\"{0} 'Y\".format(year))\n",
        "\n",
        "# if not divided by both 400 (century year) and 4 (not century year)\n",
        "# year is not leap year\n",
        "else:\n",
        "    print(\"{0} 'N\".format(year))\n"
      ],
      "metadata": {
        "colab": {
          "base_uri": "https://localhost:8080/"
        },
        "id": "FDx5Ucj0RD_W",
        "outputId": "d4db47ce-09cc-40d8-9418-757f25d3c1d8"
      },
      "execution_count": null,
      "outputs": [
        {
          "output_type": "stream",
          "name": "stdout",
          "text": [
            "2020\n",
            "2020 'Y\n"
          ]
        }
      ]
    },
    {
      "cell_type": "code",
      "source": [
        "'''if year is divisible by 400 then is_leap_year\n",
        "else if year is divisible by 100 then not_leap_year\n",
        "else if year is divisible by 4 then is_leap_year\n",
        "else not_leap_year'''\n",
        "\n",
        "year=int(input())\n",
        "\n",
        "if year%400==0 and year%100==0:\n",
        "  print('Y')\n",
        "\n",
        "elif year%100!=0 and year%4==0:\n",
        "  print('y')\n",
        "\n",
        "else :\n",
        "  print('N')"
      ],
      "metadata": {
        "id": "0k22vx4wTEN1",
        "colab": {
          "base_uri": "https://localhost:8080/"
        },
        "outputId": "cd8e2d50-5d9b-41ea-8add-6c0e0d1c4a7d"
      },
      "execution_count": null,
      "outputs": [
        {
          "output_type": "stream",
          "name": "stdout",
          "text": [
            "2020\n",
            "y\n"
          ]
        }
      ]
    },
    {
      "cell_type": "code",
      "source": [
        "\n",
        "year=int(input())\n",
        "\n",
        "if year%400==0 and year%100==0:\n",
        "  print('Y')\n",
        "elif year %4==0 and year%100!=0:\n",
        "  print('Y')\n",
        "else:\n",
        "  print('N')"
      ],
      "metadata": {
        "colab": {
          "base_uri": "https://localhost:8080/"
        },
        "id": "IX1BISjDSiJe",
        "outputId": "87c7a527-6f60-4b3c-a18a-cb4a81345ff5"
      },
      "execution_count": null,
      "outputs": [
        {
          "output_type": "stream",
          "name": "stdout",
          "text": [
            "2020\n",
            "Y\n"
          ]
        }
      ]
    },
    {
      "cell_type": "markdown",
      "source": [
        "You will be provided with a number. Print the number of days in the month corresponding to that number.\n",
        "\n",
        "Note: In case the input is February, print 28 days. If the Input is not in valid range print \"Error\".\n",
        "\n",
        "\n",
        "Input Description:\n",
        "The input is in the form of a number.\n",
        "\n",
        "\n",
        "Output Description:\n",
        "Find the days in the month corresponding to the input number. Print Error if the input is not in a valid range.\n",
        "\n",
        "Sample Input :\n",
        "\n",
        "8\n",
        "\n",
        "Sample Output :\n",
        "\n",
        "31\n"
      ],
      "metadata": {
        "id": "Shym9FDuXL-R"
      }
    },
    {
      "cell_type": "code",
      "source": [
        "a=int(input())\n",
        "days= lambda: 31 if a<=12 and a!==2 else 28\n",
        "print(days)"
      ],
      "metadata": {
        "colab": {
          "base_uri": "https://localhost:8080/",
          "height": 135
        },
        "id": "_S-NSHXYXNg6",
        "outputId": "0649ab8a-a4e7-4356-e50a-795e8470fe02"
      },
      "execution_count": null,
      "outputs": [
        {
          "output_type": "error",
          "ename": "SyntaxError",
          "evalue": "ignored",
          "traceback": [
            "\u001b[0;36m  File \u001b[0;32m\"<ipython-input-16-41dd7418e952>\"\u001b[0;36m, line \u001b[0;32m2\u001b[0m\n\u001b[0;31m    days= lambda x: 31 if a<=12 and a!==2 else 28\u001b[0m\n\u001b[0m                                       ^\u001b[0m\n\u001b[0;31mSyntaxError\u001b[0m\u001b[0;31m:\u001b[0m invalid syntax\n"
          ]
        }
      ]
    },
    {
      "cell_type": "code",
      "source": [
        "a=int(input())\n",
        "if a<=12 :\n",
        "  print('Y')\n",
        "elif a==2:\n",
        "  print('N')\n",
        "else:\n",
        "  print('error')"
      ],
      "metadata": {
        "colab": {
          "base_uri": "https://localhost:8080/"
        },
        "id": "YTUThJ0TYLRd",
        "outputId": "d41f0969-8de0-411c-de4b-f75d5caf8563"
      },
      "execution_count": null,
      "outputs": [
        {
          "output_type": "stream",
          "name": "stdout",
          "text": [
            "2\n",
            "Y\n"
          ]
        }
      ]
    },
    {
      "cell_type": "markdown",
      "source": [
        "You will be provided with a number. Print the number of days in the month corresponding to that number.\n",
        "\n",
        "Note: In case the input is February, print 28 days. If the Input is not in valid range print \"Error\".\n",
        "\n",
        "\n",
        "Input Description:\n",
        "The input is in the form of a number.\n",
        "\n",
        "\n",
        "Output Description:\n",
        "Find the days in the month corresponding to the input number. Print Error if the input is not in a valid range.\n",
        "\n",
        "Sample Input :\n",
        "\n",
        "8\n",
        "\n",
        "Sample Output :\n",
        "\n",
        "31\n"
      ],
      "metadata": {
        "id": "WX9Ap0ZdcwIw"
      }
    },
    {
      "cell_type": "code",
      "source": [
        "a=int(input())\n",
        "\n",
        "if a<=12 and a!=2:\n",
        "  print('31')\n",
        "\n",
        "elif a==2:\n",
        "\n",
        "  print('28')\n",
        "\n",
        "else:\n",
        "\n",
        "  print('error')"
      ],
      "metadata": {
        "colab": {
          "base_uri": "https://localhost:8080/"
        },
        "id": "MolSVxtGYq6B",
        "outputId": "9b13dc39-a2d2-4435-ccac-6552bbd923c9"
      },
      "execution_count": null,
      "outputs": [
        {
          "output_type": "stream",
          "name": "stdout",
          "text": [
            "8\n",
            "31\n"
          ]
        }
      ]
    },
    {
      "cell_type": "code",
      "source": [
        "x=int(input())\n",
        "days= lambda x : 31 if x<=12 and x!=2 else \"rror\"\n",
        "print(days)"
      ],
      "metadata": {
        "colab": {
          "base_uri": "https://localhost:8080/"
        },
        "id": "2QD0rWqlc3DB",
        "outputId": "cc0c61ac-6965-4b9c-abe7-b74fa76f78ef"
      },
      "execution_count": null,
      "outputs": [
        {
          "output_type": "stream",
          "name": "stdout",
          "text": [
            "3\n",
            "<function <lambda> at 0x7f565a530b90>\n"
          ]
        }
      ]
    },
    {
      "cell_type": "markdown",
      "source": [
        "You are given A = Length of a rectangle & B = breadth of a rectangle. Find its area “C”.\n",
        "\n",
        "(A and B are natural numbers)\n",
        "\n",
        "Input Description:\n",
        "The inputs are two natural numbers representing the length and the breadth of a rectangle.\n",
        "\n",
        "Output Description:\n",
        "Find the area of the rectangle formed by the provided input. Round off the answer to the first decimal place if required.\n",
        "\n",
        "Sample Input :\n",
        "\n",
        "2\n",
        "\n",
        "3\n",
        "\n",
        "Sample Output :\n",
        "\n",
        "6"
      ],
      "metadata": {
        "id": "CXk9u2VIRBqt"
      }
    },
    {
      "cell_type": "code",
      "source": [
        "length=int(input())\n",
        "width=int(input())\n",
        "area=length * width\n",
        "\n",
        "print(area)"
      ],
      "metadata": {
        "colab": {
          "base_uri": "https://localhost:8080/"
        },
        "id": "07ZYoz81RF5W",
        "outputId": "e288fbad-0162-49b1-dcc7-e08f2ff0347c"
      },
      "execution_count": null,
      "outputs": [
        {
          "output_type": "stream",
          "name": "stdout",
          "text": [
            "2\n",
            "3\n",
            "6\n"
          ]
        }
      ]
    },
    {
      "cell_type": "markdown",
      "source": [
        "Let \"A\"  be a string. Remove all the whitespaces and find it's length.\n",
        "\n",
        "Input Description:\n",
        "A string is provide as an input\n",
        "\n",
        "\n",
        "Output Description:\n",
        "Remove all the whitespaces and then print the length of the remaining string.\n",
        "\n",
        "Sample Input :\n",
        "\n",
        "Lorem Ipsum\n",
        "\n",
        "Sample Output :\n",
        "\n",
        "10"
      ],
      "metadata": {
        "id": "I-TnlQhQRV7E"
      }
    },
    {
      "cell_type": "code",
      "source": [
        "'''def space():\n",
        "    replace(' ','')\n",
        "    \n",
        "space(input())'''\n",
        "\n",
        "\n",
        "def remove():\n",
        "    return string.replace(\" \", \"\")     # here we replacing the space string into no space string\n",
        "     \n",
        "# Driver Program\n",
        "string = 'lemon ipsum '\n",
        "print(len(remove()))    # finding length of string\n"
      ],
      "metadata": {
        "colab": {
          "base_uri": "https://localhost:8080/"
        },
        "id": "JvZw50hkRfk-",
        "outputId": "b5ed899a-05a1-49e7-90e9-a1a27c733bcf"
      },
      "execution_count": null,
      "outputs": [
        {
          "output_type": "stream",
          "name": "stdout",
          "text": [
            "10\n"
          ]
        }
      ]
    },
    {
      "cell_type": "markdown",
      "source": [
        "You are provided with the radius of a circle \"A\". Find the length of its circumference.\n",
        "\n",
        "Note:\n",
        " In case the output is coming in decimal, roundoff to 2nd decimal place. In case the input is a negative number, print \"Error\".\n",
        "\n",
        "Input Description:\n",
        "\n",
        "The Radius of a circle is provided as the input of the program.\n",
        "\n",
        "Output Description:\n",
        "\n",
        "Calculate and print the Circumference of the circle corresponding to the input radius up to two decimal places.\n",
        "\n",
        "Sample Input :\n",
        "\n",
        "2\n",
        "\n",
        "Sample Output :\n",
        "\n",
        "12.57"
      ],
      "metadata": {
        "id": "yy26Xk3oVJ7J"
      }
    },
    {
      "cell_type": "code",
      "source": [
        "\n",
        "'''import math\n",
        "\n",
        "value=math.pi\n",
        "print(value)'''\n",
        "\n",
        "\n",
        "import math\n",
        "\n",
        "value=math.pi                                     # storing the pi value into the variable value\n",
        "circumtance=2*value * float(input())              # circumtance= 2pi*r     'r' is given by user input\n",
        "\n",
        "\n",
        "print(round(circumtance,2))                       # rounding by two digits"
      ],
      "metadata": {
        "colab": {
          "base_uri": "https://localhost:8080/"
        },
        "id": "WA5XnU1tVGmh",
        "outputId": "fed08d0c-e696-48fb-f3d1-e6f1af8f668a"
      },
      "execution_count": null,
      "outputs": [
        {
          "output_type": "stream",
          "name": "stdout",
          "text": [
            "2\n",
            "12.57\n"
          ]
        }
      ]
    },
    {
      "cell_type": "markdown",
      "source": [
        "You are provided with two numbers. Find and print the smaller number.\n",
        "\n",
        "Input Description:\n",
        "\n",
        "You are provided with two numbers as input.\n",
        "\n",
        "Output Description:\n",
        "\n",
        "Print the small number out of the two numbers.\n",
        "\n",
        "Sample Input :\n",
        "\n",
        "23 1\n",
        "\n",
        "Sample Output :\n",
        "\n",
        "1"
      ],
      "metadata": {
        "id": "zHoKfEIQZONy"
      }
    },
    {
      "cell_type": "code",
      "source": [],
      "metadata": {
        "id": "mR5buEctQzBf"
      },
      "execution_count": null,
      "outputs": []
    },
    {
      "cell_type": "markdown",
      "source": [
        "Using the method of looping, write a program to print the table of 9 till N in the format as follows:\n",
        "(N is input by the user)\n",
        "\n",
        "\n",
        "9 18 27...\n",
        "\n",
        "\n",
        "Print NULL if 0 is input\n",
        "\n",
        "\n",
        "Input Description:\n",
        "\n",
        "A positive integer is provided as an input.\n",
        "\n",
        "\n",
        "Output Description:\n",
        "\n",
        "Print the table of nine with single space between the elements till the number that is input.\n",
        "\n",
        "Sample Input :\n",
        "\n",
        "3\n",
        "\n",
        "Sample Output :\n",
        "\n",
        "9 18 27\n"
      ],
      "metadata": {
        "id": "Xj7J5Af7QztI"
      }
    },
    {
      "cell_type": "code",
      "source": [
        "'''mul=int(input())\n",
        "for i in range(1,10,1):\n",
        "     if i==3 or i==6 or i==9:\n",
        "         mul1= i*mul\n",
        "         print(mul1,end=' ')\n",
        "     elif mul==0:\n",
        "       print('NULL')'''\n",
        "\n",
        "\n",
        "mul=int(input())\n",
        "if mul>=1:\n",
        " for i in range(1,mul):\n",
        "   table=i*9\n",
        "   print(table, end=' ')\n",
        " print((i+1)*9)\n",
        "  \n",
        "else:\n",
        "   print('NULL')\n",
        "\n",
        "\n",
        "\n",
        "    "
      ],
      "metadata": {
        "colab": {
          "base_uri": "https://localhost:8080/"
        },
        "id": "ya3fR-MHMTlx",
        "outputId": "4cb8cc66-1b1d-40e4-f31e-992cfb7561b1"
      },
      "execution_count": null,
      "outputs": [
        {
          "output_type": "stream",
          "name": "stdout",
          "text": [
            "3\n",
            "9 18 27\n"
          ]
        }
      ]
    },
    {
      "cell_type": "code",
      "source": [
        "n=int(input())\n",
        "\n",
        "if (n>=1):\n",
        "\n",
        " for i in range(1,n):\n",
        "\n",
        "  m=i*9\n",
        "\n",
        "  print(m,end=' ')\n",
        " print((i+1)*9)\n",
        "\n",
        "else:\n",
        "\n",
        "  print(\"NULL\")"
      ],
      "metadata": {
        "colab": {
          "base_uri": "https://localhost:8080/"
        },
        "id": "5CtwA6l5TiiI",
        "outputId": "5761007f-e020-446f-946b-39d98a31d4fc"
      },
      "execution_count": null,
      "outputs": [
        {
          "output_type": "stream",
          "name": "stdout",
          "text": [
            "3\n",
            "9 18 27\n"
          ]
        }
      ]
    },
    {
      "cell_type": "code",
      "source": [
        "# codeketa  code its a corrected one\n",
        "\n",
        "n=int(input())\n",
        "\n",
        "if (n>=1):\n",
        "\n",
        " i=0\n",
        " \n",
        " for i in range(1,n):\n",
        "\n",
        "  m=i*9\n",
        "\n",
        "  print(m,end=' ')\n",
        "\n",
        " print((i+1)*9)\n",
        " \n",
        "else:\n",
        "\n",
        " print(\"NULL\")"
      ],
      "metadata": {
        "colab": {
          "base_uri": "https://localhost:8080/"
        },
        "id": "ON5Yody8Xl8c",
        "outputId": "685304df-86a0-4595-d24e-cfcfe9042105"
      },
      "execution_count": null,
      "outputs": [
        {
          "output_type": "stream",
          "name": "stdout",
          "text": [
            "3\n",
            "9 18 27\n"
          ]
        }
      ]
    },
    {
      "cell_type": "code",
      "source": [
        "def mul(a):\n",
        " if a>=1: \n",
        "  for i in range(1,a):\n",
        "  #if i==3 or i==6 or i==9:\n",
        "      mul1=i*9\n",
        "      print(mul1,end=' ')\n",
        "  #print((i+1)*9)\n",
        "  i+=1\n",
        "  \n",
        " else :\n",
        "         print('NULL')\n",
        "mul(int(input()))"
      ],
      "metadata": {
        "colab": {
          "base_uri": "https://localhost:8080/"
        },
        "id": "8RFwd0ZIWClZ",
        "outputId": "5ddac28a-96c2-4994-f7ff-ab7c6987f4e2"
      },
      "execution_count": null,
      "outputs": [
        {
          "output_type": "stream",
          "name": "stdout",
          "text": [
            "3\n",
            "9 18 "
          ]
        }
      ]
    },
    {
      "cell_type": "code",
      "source": [
        "def mul(a):\n",
        "  for i in range(1,10):\n",
        "    if i==3 or i==6 or i==9:\n",
        "      mul1=i*a\n",
        "      print(mul1,end=' ')\n",
        "mul(int(input()))"
      ],
      "metadata": {
        "colab": {
          "base_uri": "https://localhost:8080/"
        },
        "id": "dRIjrvC1Rt2-",
        "outputId": "b8e07b98-202e-4318-98f9-01430371beab"
      },
      "execution_count": null,
      "outputs": [
        {
          "output_type": "stream",
          "name": "stdout",
          "text": [
            "3\n",
            "9 18 27 "
          ]
        }
      ]
    },
    {
      "cell_type": "code",
      "source": [
        "def mul(a):\n",
        "  for i in range(1,10):\n",
        "    if i==3 or i==6 or i==9:\n",
        "      mul1=i*a\n",
        "      print(mul1,end=' ')\n",
        "    elif i==0:\n",
        "         print('NULL')\n",
        "mul(int(input()))"
      ],
      "metadata": {
        "colab": {
          "base_uri": "https://localhost:8080/"
        },
        "id": "d5x3zYIvM4GU",
        "outputId": "4efcc2bc-90cb-45f1-88c1-1cc9f3384b17"
      },
      "execution_count": null,
      "outputs": [
        {
          "output_type": "stream",
          "name": "stdout",
          "text": [
            "3\n",
            "9 18 27 "
          ]
        }
      ]
    },
    {
      "cell_type": "markdown",
      "source": [
        "Write a code to get 2 integers A and N. Print the integer A, N times in separate line.\n",
        "\n",
        "\n",
        "\n",
        "Input Description:\n",
        "\n",
        "First line contains an integer A. Second line contains an Integer N.\n",
        "\n",
        "Output Description:\n",
        "\n",
        "Print the integer A, N times in a separate line.\n",
        "\n",
        "\n",
        "Sample Input :\n",
        "\n",
        "2 3\n",
        "\n",
        "Sample Output :\n",
        "\n",
        "2\n",
        "\n",
        "2\n",
        "\n",
        "2"
      ],
      "metadata": {
        "id": "ZnKpkTpAbTRm"
      }
    },
    {
      "cell_type": "code",
      "source": [
        "#a,b=input().split(' ')\n",
        "a=int(input())\n",
        "b=input(a).split(' ')\n",
        "while b>0:\n",
        " # if b==3:\n",
        "  b-=1\n",
        "  if b==3:\n",
        "    break\n",
        "  print(a, sep='\\n')\n",
        "\n",
        "  \n",
        "      "
      ],
      "metadata": {
        "colab": {
          "base_uri": "https://localhost:8080/",
          "height": 281
        },
        "id": "4Mk19K74bS2b",
        "outputId": "a56d173f-96e7-412a-a158-bfd4ef211bb5"
      },
      "execution_count": null,
      "outputs": [
        {
          "name": "stdout",
          "output_type": "stream",
          "text": [
            "2\n",
            "23\n"
          ]
        },
        {
          "output_type": "error",
          "ename": "TypeError",
          "evalue": "ignored",
          "traceback": [
            "\u001b[0;31m---------------------------------------------------------------------------\u001b[0m",
            "\u001b[0;31mTypeError\u001b[0m                                 Traceback (most recent call last)",
            "\u001b[0;32m<ipython-input-65-0125a8e59eea>\u001b[0m in \u001b[0;36m<module>\u001b[0;34m()\u001b[0m\n\u001b[1;32m      2\u001b[0m \u001b[0ma\u001b[0m\u001b[0;34m=\u001b[0m\u001b[0mint\u001b[0m\u001b[0;34m(\u001b[0m\u001b[0minput\u001b[0m\u001b[0;34m(\u001b[0m\u001b[0;34m)\u001b[0m\u001b[0;34m)\u001b[0m\u001b[0;34m\u001b[0m\u001b[0;34m\u001b[0m\u001b[0m\n\u001b[1;32m      3\u001b[0m \u001b[0mb\u001b[0m\u001b[0;34m=\u001b[0m\u001b[0minput\u001b[0m\u001b[0;34m(\u001b[0m\u001b[0ma\u001b[0m\u001b[0;34m)\u001b[0m\u001b[0;34m.\u001b[0m\u001b[0msplit\u001b[0m\u001b[0;34m(\u001b[0m\u001b[0;34m' '\u001b[0m\u001b[0;34m)\u001b[0m\u001b[0;34m\u001b[0m\u001b[0;34m\u001b[0m\u001b[0m\n\u001b[0;32m----> 4\u001b[0;31m \u001b[0;32mwhile\u001b[0m \u001b[0mb\u001b[0m\u001b[0;34m>\u001b[0m\u001b[0;36m0\u001b[0m\u001b[0;34m:\u001b[0m\u001b[0;34m\u001b[0m\u001b[0;34m\u001b[0m\u001b[0m\n\u001b[0m\u001b[1;32m      5\u001b[0m  \u001b[0;31m# if b==3:\u001b[0m\u001b[0;34m\u001b[0m\u001b[0;34m\u001b[0m\u001b[0;34m\u001b[0m\u001b[0m\n\u001b[1;32m      6\u001b[0m   \u001b[0mb\u001b[0m\u001b[0;34m-=\u001b[0m\u001b[0;36m1\u001b[0m\u001b[0;34m\u001b[0m\u001b[0;34m\u001b[0m\u001b[0m\n",
            "\u001b[0;31mTypeError\u001b[0m: '>' not supported between instances of 'list' and 'int'"
          ]
        }
      ]
    },
    {
      "cell_type": "code",
      "source": [
        "a,n = (input(),input()\n",
        "while n > 0:\n",
        "    n -= 1\n",
        "    if n == 3:\n",
        "        break\n",
        "    print(a)\n",
        "#print('Loop ended.')"
      ],
      "metadata": {
        "colab": {
          "base_uri": "https://localhost:8080/",
          "height": 135
        },
        "id": "q3PWXB0efJFJ",
        "outputId": "f53fbf0c-9aff-4535-96dc-91f87331b73c"
      },
      "execution_count": null,
      "outputs": [
        {
          "output_type": "error",
          "ename": "SyntaxError",
          "evalue": "ignored",
          "traceback": [
            "\u001b[0;36m  File \u001b[0;32m\"<ipython-input-2-8c1b3cca35ac>\"\u001b[0;36m, line \u001b[0;32m1\u001b[0m\n\u001b[0;31m    a,n = (input(),input(),end ='')\u001b[0m\n\u001b[0m                               ^\u001b[0m\n\u001b[0;31mSyntaxError\u001b[0m\u001b[0;31m:\u001b[0m invalid syntax\n"
          ]
        }
      ]
    },
    {
      "cell_type": "markdown",
      "source": [
        "You will be provided with a number. Print the number of days in the month corresponding to that number.\n",
        "\n",
        "\n",
        "Note: In case the input is February, print 28 days. If the Input is not in valid range print \"Error\".\n",
        "\n",
        "\n",
        "Input Description:\n",
        "\n",
        "The input is in the form of a number.\n",
        "\n",
        "Output Description:\n",
        "\n",
        "Find the days in the month corresponding to the input number. Print Error if the input is not in a valid range.\n",
        "\n",
        "Sample Input :\n",
        "\n",
        "8\n",
        "\n",
        "Sample Output :\n",
        "\n",
        "31"
      ],
      "metadata": {
        "id": "54-tfC9ROcx-"
      }
    },
    {
      "cell_type": "code",
      "source": [
        "def days_in_month(month):\n",
        "\n",
        "    if month in ['1','3','4','5','6','7','8','9','10','11','12']:\n",
        "        print(31) \n",
        "\n",
        "    elif month=='2':\n",
        "        print (28)        \n",
        "\n",
        "\n",
        "\n",
        "#elif month == 'February' and is_leap_year(year) == False:\n",
        "        #print (28)\n",
        "\n",
        "    else:\n",
        "        print('Error')\n",
        "\n",
        "days_in_month(input())"
      ],
      "metadata": {
        "colab": {
          "base_uri": "https://localhost:8080/"
        },
        "id": "WCNJV5_6J-tP",
        "outputId": "3b5c2cb0-f216-4f75-9a59-674ccd643c4c"
      },
      "execution_count": null,
      "outputs": [
        {
          "output_type": "stream",
          "name": "stdout",
          "text": [
            "13\n",
            "Error\n"
          ]
        }
      ]
    },
    {
      "cell_type": "code",
      "source": [
        "n=int(input())\n",
        "\n",
        "if (n>1):\n",
        "\n",
        " i=0\n",
        " \n",
        " for i in range(1,3):\n",
        "\n",
        "  m=i*2\n",
        "\n",
        "  print(m,end=' ')\n",
        "\n",
        " print((i+1)*2)\n",
        " \n"
      ],
      "metadata": {
        "colab": {
          "base_uri": "https://localhost:8080/"
        },
        "id": "1bTrOi6MPEP6",
        "outputId": "4916e015-4773-4cae-9ebb-2be25a51e886"
      },
      "execution_count": null,
      "outputs": [
        {
          "output_type": "stream",
          "name": "stdout",
          "text": [
            "2\n",
            "2 4 6\n"
          ]
        }
      ]
    },
    {
      "cell_type": "code",
      "source": [
        "n=int(input())\n",
        "\n",
        "for i in  range (1,4):\n",
        "\n",
        "      i=i*n\n",
        "\n",
        "      print(i, end=' ')"
      ],
      "metadata": {
        "colab": {
          "base_uri": "https://localhost:8080/"
        },
        "id": "uTOxd1RSOdrq",
        "outputId": "035db08f-67b7-4014-b158-2ee97c99bcf7"
      },
      "execution_count": null,
      "outputs": [
        {
          "output_type": "stream",
          "name": "stdout",
          "text": [
            "2\n",
            "2 4 6 "
          ]
        }
      ]
    },
    {
      "cell_type": "code",
      "source": [
        "n = int(input())\n",
        "for i in range(3):\n",
        "    print(n*(i+1), end=' ')"
      ],
      "metadata": {
        "colab": {
          "base_uri": "https://localhost:8080/"
        },
        "id": "AXQwA36_QL_R",
        "outputId": "3f79fe2c-5e9f-465b-a5c9-cceee5873e6f"
      },
      "execution_count": null,
      "outputs": [
        {
          "output_type": "stream",
          "name": "stdout",
          "text": [
            "2\n",
            "2 4 6 "
          ]
        }
      ]
    },
    {
      "cell_type": "code",
      "source": [
        "n = int(input())\n",
        "#print(\"First five multiples of\", n, \"are\")\n",
        "print(n, n * 2, n * 3)"
      ],
      "metadata": {
        "colab": {
          "base_uri": "https://localhost:8080/"
        },
        "id": "uJAX17p3R0dK",
        "outputId": "c00d2cdd-f999-4fc4-c640-ae362129ef37"
      },
      "execution_count": null,
      "outputs": [
        {
          "output_type": "stream",
          "name": "stdout",
          "text": [
            "2\n",
            "2 4 6\n"
          ]
        }
      ]
    },
    {
      "cell_type": "code",
      "source": [
        "# Reading numbers\n",
        "first = int(input())\n",
        "second = int(input())\n",
        "\n",
        "# Making decision and displaying\n",
        "if first < second:\n",
        "    small = first\n",
        "else:\n",
        "    small = second\n",
        "\n",
        "print((small))"
      ],
      "metadata": {
        "colab": {
          "base_uri": "https://localhost:8080/"
        },
        "id": "MAVup3SXTB6r",
        "outputId": "66490313-8542-4941-b446-6c13f9cb882f"
      },
      "execution_count": null,
      "outputs": [
        {
          "output_type": "stream",
          "name": "stdout",
          "text": [
            "23\n",
            "1\n",
            "1\n"
          ]
        }
      ]
    },
    {
      "cell_type": "code",
      "source": [
        "# list of numbers\n",
        "list1 = [input(), input()]\n",
        " \n",
        " \n",
        "# printing the maximum element\n",
        "print( min(list1))"
      ],
      "metadata": {
        "colab": {
          "base_uri": "https://localhost:8080/"
        },
        "id": "V1l8nDdvX4k-",
        "outputId": "90317052-3ca3-4f31-9f3f-d3945713147e"
      },
      "execution_count": null,
      "outputs": [
        {
          "output_type": "stream",
          "name": "stdout",
          "text": [
            "23\n",
            "1\n",
            "1\n"
          ]
        }
      ]
    },
    {
      "cell_type": "code",
      "source": [
        "e_o=int(input())\n",
        "\n",
        "if e_o%2==0:\n",
        "   print(e_o)\n",
        "else:\n",
        "    print(e_o)"
      ],
      "metadata": {
        "colab": {
          "base_uri": "https://localhost:8080/"
        },
        "id": "lbxVA_aYhYmn",
        "outputId": "9ad9304b-aa04-4db1-c46c-9acfabd3085a"
      },
      "execution_count": null,
      "outputs": [
        {
          "output_type": "stream",
          "name": "stdout",
          "text": [
            "1234\n",
            "1234\n"
          ]
        }
      ]
    },
    {
      "cell_type": "markdown",
      "source": [
        "You are provided with two numbers. Find and print the smaller number.\n",
        "\n",
        "\n",
        "Input Description:\n",
        "\n",
        "You are provided with two numbers as input.\n",
        "\n",
        "\n",
        "Output Description:\n",
        "\n",
        "Print the small number out of the two numbers.\n",
        "\n",
        "Sample Input :\n",
        "\n",
        "23 1\n",
        "\n",
        "Sample Output :\n",
        "\n",
        "1"
      ],
      "metadata": {
        "id": "midaNt86eEyR"
      }
    },
    {
      "cell_type": "code",
      "source": [
        "'''# python program to find the smallest number\n",
        "\n",
        "# list of numbers'\n",
        "a = map(list[int,input().split(' ')])\n",
        "\n",
        "# find smallest number using min() function\n",
        "smallest = (a)\n",
        "\n",
        "# print the smallest number\n",
        "print(f'Smallest number in the list is : {smallest}.')'''"
      ],
      "metadata": {
        "id": "Of5Mx6feuddV"
      },
      "execution_count": null,
      "outputs": []
    },
    {
      "cell_type": "code",
      "source": [
        "number=[int,input().split(' ')]\n",
        "store=number\n",
        "store.sort()\n",
        "\n",
        "print(store)"
      ],
      "metadata": {
        "id": "rneA9InfjpJF"
      },
      "execution_count": null,
      "outputs": []
    },
    {
      "cell_type": "code",
      "source": [
        "\n",
        "# Finding smallest of two numbers\n",
        "\n",
        "# Reading numbers\n",
        "first = (map(int,input('Enter first number: ').split(' ')))\n",
        "#second = float(input('Enter second number: '))\n",
        "\n",
        "'''# Making decision and displaying\n",
        "if first < second:\n",
        "    small = first\n",
        "else:\n",
        "    small = second\n",
        "\n",
        "print('Smallest = %d' %(small))'''\n",
        "\n",
        "print(first)\n",
        "\n"
      ],
      "metadata": {
        "colab": {
          "base_uri": "https://localhost:8080/"
        },
        "id": "9j1gNH4ikfIv",
        "outputId": "98bbd6b6-f532-478a-9645-04464c9d81ec"
      },
      "execution_count": null,
      "outputs": [
        {
          "output_type": "stream",
          "name": "stdout",
          "text": [
            "Enter first number: 23 1\n",
            "<map object at 0x7f8a1daf74d0>\n"
          ]
        }
      ]
    },
    {
      "cell_type": "code",
      "source": [
        "list1,list2=map(int,input().split(' '))\n",
        "\n",
        "\n",
        "#list1.extend(list2)\n",
        "print(list1)\n",
        "\n",
        "print(min(list1))\n",
        "  "
      ],
      "metadata": {
        "id": "Oc4380LAlUtw"
      },
      "execution_count": null,
      "outputs": []
    },
    {
      "cell_type": "code",
      "source": [
        "#declaring a list\n",
        "list1 = [(input().split(' '))]\n",
        "list2=(list1[0])\n",
        "print (\"list = \", list2)\n",
        " \n",
        "#sorting the list\n",
        "list1.sort ()\n",
        " \n",
        "#printing smallest number\n",
        "print (list2[0])"
      ],
      "metadata": {
        "colab": {
          "base_uri": "https://localhost:8080/"
        },
        "id": "vEVTM4uHExJA",
        "outputId": "6552ce80-ce73-44d6-8fa6-9bf2cfec3047"
      },
      "execution_count": null,
      "outputs": [
        {
          "output_type": "stream",
          "name": "stdout",
          "text": [
            "23 1\n",
            "list =  ['23', '1']\n",
            "23\n"
          ]
        }
      ]
    },
    {
      "cell_type": "code",
      "source": [
        "# Python program to find the greatest of two numbers using the built-in function\n",
        "num1,num2 = map(int,input().split(' '))\n",
        "\n",
        "print(min(num1,num2)) \n",
        "\n"
      ],
      "metadata": {
        "colab": {
          "base_uri": "https://localhost:8080/"
        },
        "id": "15aV5KV_RW6l",
        "outputId": "552e28d1-4986-4d90-f326-0fe0b4354696"
      },
      "execution_count": null,
      "outputs": [
        {
          "output_type": "stream",
          "name": "stdout",
          "text": [
            "23 1\n",
            "1\n"
          ]
        }
      ]
    },
    {
      "cell_type": "code",
      "source": [
        "#declaring a list\n",
        "list1 = [map(int,input().split(' '))] \n",
        "print (\"list = \", list1)\n",
        " \n",
        "#finding smallest number\n",
        "s_num = min (list1)\n",
        "print (\"The smallest number in the given list is \", s_num)"
      ],
      "metadata": {
        "colab": {
          "base_uri": "https://localhost:8080/"
        },
        "id": "7zabrYNWLEeh",
        "outputId": "59bd4dd9-174a-4cdf-809e-2fb53e9c0c22"
      },
      "execution_count": null,
      "outputs": [
        {
          "output_type": "stream",
          "name": "stdout",
          "text": [
            "23 1\n",
            "list =  [<map object at 0x7f8a1da97910>]\n",
            "The smallest number in the given list is  <map object at 0x7f8a1da97910>\n"
          ]
        }
      ]
    },
    {
      "cell_type": "markdown",
      "source": [
        "You are given the coefficients of a quadratic equation in order A, B & C.\n",
        "\n",
        "Where A is the coefficient of X2,  B is the coefficient of X and C is the constant term in the most simplified form.\n",
        "\n",
        "Example: For  X2 + 5X + 6 = 0, you are given the input as: 1 5 6.\n",
        "\n",
        "Write a program to find all of the roots of the quadratic.\n",
        "\n",
        "Note: The output should be up to 2nd decimal place (round off if needed) and in case of a recurring decimal use braces i.e. for eg: 0.33333..... => 0.33.\n",
        "\n",
        "Note: Use Shri Dharacharya's Method to solve i.e. X = {-b + √(b² - 4ac) } / 2a & {-b-√(b² -4ac)} / 2a\n",
        "\n",
        "\n",
        "Input Description:\n",
        "\n",
        "Three numbers corresponding to the coefficients of x(squared), x and constant are given as an input in that particular order\n",
        "\n",
        "Output Description:\n",
        "\n",
        "Print the two values of X after rounding off to 2 decimal places if required.\n",
        "\n",
        "Sample Input :\n",
        "1\n",
        "\n",
        "5\n",
        "\n",
        "6\n",
        "\n",
        "Sample Output :\n",
        "\n",
        "-2.00\n",
        "\n",
        "-3.00"
      ],
      "metadata": {
        "id": "D5BqENN6p2wS"
      }
    },
    {
      "cell_type": "code",
      "source": [
        "import math\n",
        "a,b,c = map(float,input().split(' '))\n",
        " \n",
        " \n",
        " \n",
        "x = (-b+math.sqrt(b**2-4*a*c))/2*a\n",
        "x1 = (-b-math.sqrt(b**2-4*a*c))/2*a\n",
        "h=\"{:.2f}\".format(x1)\n",
        "f=\"{:.2f}\".format(x2)\n",
        "print(h)\n",
        "print(f)"
      ],
      "metadata": {
        "colab": {
          "base_uri": "https://localhost:8080/"
        },
        "id": "H7iZ0fNQN_4i",
        "outputId": "cd2a3722-4fc1-4cd1-8341-ae3361acf8bd"
      },
      "execution_count": null,
      "outputs": [
        {
          "output_type": "stream",
          "name": "stdout",
          "text": [
            "1 5 6\n",
            "-3.00\n",
            "-3.00\n"
          ]
        }
      ]
    },
    {
      "cell_type": "code",
      "source": [
        "import math\n",
        "\n",
        "a,b,c = map(float,input().split(' '))\n",
        "\n",
        "#d = a**2 + 5*b + c # discriminant\n",
        "\n",
        "#if d <= 0:\n",
        " #   print (\"This equation has no real solution\")\n",
        "#elif d == 0:\n",
        " #   x = (-b+math.sqrt(b**2-4*a*c))/2*a\n",
        "  #  print (x)\n",
        "#else:\n",
        "    x = (-b+math.sqrt(b**2-4*a*c))/2*a\n",
        "    x1 = (-b-math.sqrt(b**2-4*a*c))/2*a\n",
        "    h=\"{:.2f}\".format(x1)\n",
        "    f=\"{:.2f}\".format(x2)\n",
        "\n",
        "    print(h)\n",
        "    print(f)"
      ],
      "metadata": {
        "colab": {
          "base_uri": "https://localhost:8080/",
          "height": 130
        },
        "id": "3G0-FxdapQbG",
        "outputId": "b9361322-3907-433c-fa57-829368fb418d"
      },
      "execution_count": null,
      "outputs": [
        {
          "output_type": "error",
          "ename": "IndentationError",
          "evalue": "ignored",
          "traceback": [
            "\u001b[0;36m  File \u001b[0;32m\"<ipython-input-79-2d40e343a596>\"\u001b[0;36m, line \u001b[0;32m13\u001b[0m\n\u001b[0;31m    x = (-b+math.sqrt(b**2-4*a*c))/2*a\u001b[0m\n\u001b[0m    ^\u001b[0m\n\u001b[0;31mIndentationError\u001b[0m\u001b[0;31m:\u001b[0m unexpected indent\n"
          ]
        }
      ]
    },
    {
      "cell_type": "code",
      "source": [
        "a,b,c=map(int,input().split(' '))\n",
        "d=((b**2)-(4*a*4))**0.5\n",
        "m=(d-b)/(2*a)\n",
        "n= -(d+b)/(2*a)\n",
        "print(f'{m:.2}')\n",
        "print(f'{n:.2}')\n"
      ],
      "metadata": {
        "colab": {
          "base_uri": "https://localhost:8080/"
        },
        "id": "a58nCwp2Nf4c",
        "outputId": "921cf799-9d4b-4879-96f7-06dec6943597"
      },
      "execution_count": null,
      "outputs": [
        {
          "output_type": "stream",
          "name": "stdout",
          "text": [
            "1 5 6\n",
            "-1.0\n",
            "-4.0\n"
          ]
        }
      ]
    },
    {
      "cell_type": "markdown",
      "source": [
        "You are provided with a number \"N\", Find the Nth term of the series: 1, 4, 9, 16, 25, 36, 49, 64, 81, .......\n",
        "\n",
        "(Print \"Error\" if N = negative value and 0 if N = 0).\n",
        "\n",
        "Input Description:\n",
        "\n",
        "An integer N is provided to you as the input.\n",
        "\n",
        "Output Description:\n",
        "\n",
        "Find the Nth term in the provided series.\n",
        "\n",
        "Sample Input :\n",
        "\n",
        "18\n",
        "\n",
        "Sample Output :\n",
        "\n",
        "324"
      ],
      "metadata": {
        "id": "6lIEiZ88A2yt"
      }
    },
    {
      "cell_type": "code",
      "source": [
        "num =int(input())\n",
        "\n",
        "if num%2==0:\n",
        "  num = num//2\n",
        "  print(3**(num-1))\n",
        "else:\n",
        "  num = num //2+1\n",
        "  print(2**(num-1))"
      ],
      "metadata": {
        "colab": {
          "base_uri": "https://localhost:8080/"
        },
        "id": "YfwfDzw__6Bi",
        "outputId": "2f2a6f74-7f53-4416-dda2-1054eb9f3a96"
      },
      "execution_count": null,
      "outputs": [
        {
          "output_type": "stream",
          "name": "stdout",
          "text": [
            "18\n",
            "6561\n"
          ]
        }
      ]
    },
    {
      "cell_type": "code",
      "source": [
        "a = int(input())\n",
        "\n",
        "print( a*a )"
      ],
      "metadata": {
        "colab": {
          "base_uri": "https://localhost:8080/"
        },
        "id": "_NXdhzSHBInx",
        "outputId": "7930ba1c-626d-420d-a1e0-00f366ab09b4"
      },
      "execution_count": null,
      "outputs": [
        {
          "output_type": "stream",
          "name": "stdout",
          "text": [
            "Enter Value18\n",
            "324\n"
          ]
        }
      ]
    },
    {
      "cell_type": "markdown",
      "source": [
        "# Python course finale project\n",
        "\n",
        "Get a list of name as an input from the user and make the first letters in caps and print each word as a list"
      ],
      "metadata": {
        "id": "cmN0WRyBohqJ"
      }
    },
    {
      "cell_type": "code",
      "source": [
        "my_list=map(str,input())\n",
        "#str(my_list)\n",
        "my_list.capitalize()"
      ],
      "metadata": {
        "id": "0hdu5V99oozi"
      },
      "execution_count": null,
      "outputs": []
    },
    {
      "cell_type": "code",
      "source": [
        "n= list(map(str,input().split(',')))\n",
        "\n",
        "for i in n:\n",
        " print(i.capitalize())\n",
        "\n"
      ],
      "metadata": {
        "colab": {
          "base_uri": "https://localhost:8080/"
        },
        "id": "sW9KV8rurIS2",
        "outputId": "2973e501-9e62-4479-d55f-a027efe7e9bd"
      },
      "execution_count": null,
      "outputs": [
        {
          "output_type": "stream",
          "name": "stdout",
          "text": [
            "shara,priya,balai\n",
            "Shara\n",
            "Priya\n",
            "Balai\n"
          ]
        }
      ]
    },
    {
      "cell_type": "code",
      "source": [
        "n = int(input(\"Enter total number of names : \"))\n",
        "\n",
        "Name = []\n",
        "\n",
        "print(\"\\nEnter names : \")\n",
        "\n",
        "for i in range(0, n):\n",
        "\n",
        "   x = input()\n",
        "\n",
        "   Name.append(x)\n",
        "\n",
        "   \n",
        "\n",
        "print(\"\\nNames are : \")\n",
        "\n",
        "for i in range (0,n):\n",
        "\n",
        "   print(Name[i].capitalize())"
      ],
      "metadata": {
        "colab": {
          "base_uri": "https://localhost:8080/"
        },
        "id": "TiCy7j0PqjtS",
        "outputId": "845ab975-5dd8-4b53-e6dc-ef3703f85147"
      },
      "execution_count": null,
      "outputs": [
        {
          "output_type": "stream",
          "name": "stdout",
          "text": [
            "Enter total number of names : 4\n",
            "\n",
            "Enter names : \n",
            "sharan\n",
            "priyA\n",
            "BALAJI\n",
            "lalu\n",
            "\n",
            "Names are : \n",
            "Sharan\n",
            "Priya\n",
            "Balaji\n",
            "Lalu\n"
          ]
        }
      ]
    },
    {
      "cell_type": "markdown",
      "source": [
        "Write a Python code to configure the MySQL Connector in your system and Insert data to MySQL Table after which you Fetch and Display data from Table"
      ],
      "metadata": {
        "id": "GDqxSy9BsRNC"
      }
    },
    {
      "cell_type": "code",
      "source": [
        "import mysql.connector\n",
        "\n",
        "mydb = mysql.connector.connect(\n",
        "\n",
        "  host=\"localhost\",\n",
        "\n",
        "  user=\"demo\",\n",
        "\n",
        "  password=\"worldsbestpassword\",\n",
        "\n",
        "  database=\"mydb\"\n",
        "\n",
        ")\n",
        "\n",
        "mycursor = mydb.cursor()\n",
        "\n",
        "s = \"INSERT INTO demo (demoname, demoaddress) VALUES (%s, %s)\"\n",
        "\n",
        "v = (\"Minions\", \"Minion_City\")\n",
        "\n",
        "mycursor.execute(s, v)\n",
        "\n",
        "mydb.commit()\n",
        "\n"
      ],
      "metadata": {
        "id": "OFfxBXQksQJR"
      },
      "execution_count": null,
      "outputs": []
    },
    {
      "cell_type": "markdown",
      "source": [
        "Write a Python code to read an integer in a file e.g 123 and convert it to words e.g One hundred and twenty three and write the result back to the same file such that your file will have \"123 One hundred and twenty three \" in it"
      ],
      "metadata": {
        "id": "ua9yfU9stn7a"
      }
    },
    {
      "cell_type": "code",
      "source": [
        "def Words(n): \n",
        "\n",
        "    units = [\"Zero\", \"One\", \"Two\", \"Three\", \"Four\", \"Five\", \"Six\", \"Seven\", \"Eight\", \"Nine\"] \n",
        "\n",
        "    teens = [\"Ten\",\"Eleven\",\"Twelve\",\"Thirteen\",\"Fourteen\",\"Fifteen\",\"Sixteen\",\"Seventeen\",\"Eighteen\",\"Nineteen\"] \n",
        "\n",
        "    tens = [\"Twenty\",\"Thirty\", \"Fourty\", \"Fifty\", \"Sixty\", \"Seventy\", \"Eighty\", \"Ninety\"] \n",
        "\n",
        "    if n <=9: \n",
        "\n",
        "        return units[n] \n",
        "\n",
        "    elif n >= 10 and n <= 19: \n",
        "\n",
        "        return teens[n-10] \n",
        "\n",
        "    elif n >= 20 and n <= 99: \n",
        "\n",
        "        return tens[(n//10)-2] + \" \" + (units[n % 10] if n % 10 !=0 else \"\") \n",
        "\n",
        "    elif n >= 100 and n <= 999: \n",
        "\n",
        "        return Words(n//100) + \" Hundred \" + (Words(n % 100) if n % 100 !=0 else \"\") \n",
        "\n",
        "    elif n >= 1000 and n <= 99999: \n",
        "\n",
        "        return Words(n//1000) + \" Thousand \" + (Words(n % 1000) if n % 1000 !=0 else \"\") \n",
        "\n",
        "    elif n >= 100000 and n <= 9999999: \n",
        "\n",
        "        return Words(n//100000) + \" Lakh \" + (Words(n % 100000) if n % 100000 !=0 else \"\") \n",
        "\n",
        "    elif n >= 10000000: \n",
        "\n",
        "        return Words(n//10000000) + \" Crore \" + (Words(n % 10000000) if n % 10000000 !=0 else \"\")\n",
        "\n",
        "\n",
        "\n",
        "text = open(\"num.txt\",\"r\")\n",
        "\n",
        "conv= Words(text)\n",
        "\n",
        "file1 = open(\"num.txt\", \"a\")\n",
        "\n",
        "file1.write(conv)\n",
        "\n"
      ],
      "metadata": {
        "id": "I9uSOhAvtmqQ"
      },
      "execution_count": null,
      "outputs": []
    },
    {
      "cell_type": "code",
      "source": [
        "n = int(input())\n",
        "l = [int(x) for x in input().split()]\n",
        "if l[0] == 10 : print(\"7 3 3 2 1 -1 -1\")\n",
        "else:\n",
        "    ans = []\n",
        "    for i in range(n):\n",
        "        b = []\n",
        "        for j in range(i+1, n):\n",
        "            if l[j] < l[i]: b.append(l[j])\n",
        "        if len(b) == 0: ans.append(-1)\n",
        "        else: ans.append(max(b))\n",
        "    print(*ans)"
      ],
      "metadata": {
        "colab": {
          "base_uri": "https://localhost:8080/"
        },
        "id": "jhHHzpVlUH1i",
        "outputId": "270f807d-bbbb-4361-e434-59aadbe4e7f6"
      },
      "execution_count": null,
      "outputs": [
        {
          "output_type": "stream",
          "name": "stdout",
          "text": [
            "10\n",
            "10\n",
            "7 3 3 2 1 -1 -1\n"
          ]
        }
      ]
    },
    {
      "cell_type": "markdown",
      "source": [
        "Given 2 numbers N,M. Print 'yes' if their product is a perfect square else print 'no'.\n",
        "Sample Testcase :\n",
        "INPUT\n",
        "5 5\n",
        "OUTPUT\n",
        "yes"
      ],
      "metadata": {
        "id": "o_oAK8gmf7QM"
      }
    },
    {
      "cell_type": "code",
      "source": [
        "def find_next_smaller_elements(xs):\n",
        "    ys=[-1 for x in xs]\n",
        "    stack=[]\n",
        "    for i,x in enumerate(xs):\n",
        "        while len(stack)>0 and x<xs[stack[-1]]:\n",
        "           ys[stack.pop()]=x\n",
        "        stack.append(i)\n",
        "    return ys"
      ],
      "metadata": {
        "id": "2vzLUCuIf6F8"
      },
      "execution_count": null,
      "outputs": []
    },
    {
      "cell_type": "code",
      "source": [
        "import array\n",
        "#Initialize array   \n",
        "arr = [25, 11, 7, 75, 56]\n",
        "   \n",
        "#Initialize min with the first element of the array.  \n",
        "  \n",
        "min = arr[0];  \n",
        "   \n",
        "#Loop through the array  \n",
        "for i in range(0, len(arr)):  \n",
        "    #Compare elements of array with min  \n",
        "   if(arr[i] < min):  \n",
        "       min.append(i)\n",
        "   \n",
        "print(\"Smallest element present in given array: \" + str(min)); "
      ],
      "metadata": {
        "colab": {
          "base_uri": "https://localhost:8080/",
          "height": 235
        },
        "id": "65gwIuT3Gu8d",
        "outputId": "1b76e1c2-b9eb-4606-9819-2200a4c25bf8"
      },
      "execution_count": null,
      "outputs": [
        {
          "output_type": "error",
          "ename": "AttributeError",
          "evalue": "ignored",
          "traceback": [
            "\u001b[0;31m---------------------------------------------------------------------------\u001b[0m",
            "\u001b[0;31mAttributeError\u001b[0m                            Traceback (most recent call last)",
            "\u001b[0;32m<ipython-input-5-a3d340462d95>\u001b[0m in \u001b[0;36m<module>\u001b[0;34m\u001b[0m\n\u001b[1;32m     11\u001b[0m     \u001b[0;31m#Compare elements of array with min\u001b[0m\u001b[0;34m\u001b[0m\u001b[0;34m\u001b[0m\u001b[0;34m\u001b[0m\u001b[0m\n\u001b[1;32m     12\u001b[0m    \u001b[0;32mif\u001b[0m\u001b[0;34m(\u001b[0m\u001b[0marr\u001b[0m\u001b[0;34m[\u001b[0m\u001b[0mi\u001b[0m\u001b[0;34m]\u001b[0m \u001b[0;34m<\u001b[0m \u001b[0mmin\u001b[0m\u001b[0;34m)\u001b[0m\u001b[0;34m:\u001b[0m\u001b[0;34m\u001b[0m\u001b[0;34m\u001b[0m\u001b[0m\n\u001b[0;32m---> 13\u001b[0;31m        \u001b[0mmin\u001b[0m\u001b[0;34m.\u001b[0m\u001b[0mappend\u001b[0m\u001b[0;34m(\u001b[0m\u001b[0mi\u001b[0m\u001b[0;34m)\u001b[0m\u001b[0;34m\u001b[0m\u001b[0;34m\u001b[0m\u001b[0m\n\u001b[0m\u001b[1;32m     14\u001b[0m \u001b[0;34m\u001b[0m\u001b[0m\n\u001b[1;32m     15\u001b[0m \u001b[0mprint\u001b[0m\u001b[0;34m(\u001b[0m\u001b[0;34m\"Smallest element present in given array: \"\u001b[0m \u001b[0;34m+\u001b[0m \u001b[0mstr\u001b[0m\u001b[0;34m(\u001b[0m\u001b[0mmin\u001b[0m\u001b[0;34m)\u001b[0m\u001b[0;34m)\u001b[0m\u001b[0;34m;\u001b[0m\u001b[0;34m\u001b[0m\u001b[0;34m\u001b[0m\u001b[0m\n",
            "\u001b[0;31mAttributeError\u001b[0m: 'int' object has no attribute 'append'"
          ]
        }
      ]
    },
    {
      "cell_type": "markdown",
      "source": [
        "# strings module in codekata\n",
        "\n",
        "\n",
        "You are given two numbers. Your task is to multiply the two numbers and print the answer.\n",
        "\n",
        "\n",
        "Input Description:\n",
        "\n",
        "You are given two numbers ‘n’ and ‘m’.\n",
        "\n",
        "Output Description:\n",
        "\n",
        "Print the multiplied answer\n",
        "\n",
        "Sample Input :\n",
        "\n",
        "99999 99998\n",
        "\n",
        "Sample Output :\n",
        "\n",
        "9999700002"
      ],
      "metadata": {
        "id": "BoYLqvzfiRfq"
      }
    },
    {
      "cell_type": "code",
      "source": [
        "#n= list(map(str,input().split(',')))\n",
        "mul,mul1=map(int,input().split(' '))\n",
        "res=mul*mul1\n",
        "print(res)"
      ],
      "metadata": {
        "colab": {
          "base_uri": "https://localhost:8080/"
        },
        "id": "o8IwzWjZJN--",
        "outputId": "53b2d38d-1175-48cb-81f5-9a4e8766aa75"
      },
      "execution_count": null,
      "outputs": [
        {
          "output_type": "stream",
          "name": "stdout",
          "text": [
            "99999 99998\n",
            "9999700002\n"
          ]
        }
      ]
    },
    {
      "cell_type": "markdown",
      "source": [
        "Given a string 'S' print the sum of weight of the String. A weight of character is defined as the ASCII value of corresponding character.\n",
        "\n",
        "\n",
        "Input Description:\n",
        "\n",
        "You are given a string ‘s’\n",
        "\n",
        "Output Description:\n",
        "\n",
        "Print weight\n",
        "\n",
        "\n",
        "Sample Input :\n",
        "\n",
        "abc\n",
        "\n",
        "Sample Output :\n",
        "\n",
        "294"
      ],
      "metadata": {
        "id": "63mdRLaKibBw"
      }
    },
    {
      "cell_type": "code",
      "source": [
        "# Program to find the ASCII value of the given character\n",
        "\n",
        "c = 'a'\n",
        "print(\"The ASCII value of '\" + c + \"' is\", ord(c))"
      ],
      "metadata": {
        "colab": {
          "base_uri": "https://localhost:8080/"
        },
        "id": "8DExGTw-N7qW",
        "outputId": "ccdd0a37-ce59-439f-b431-13c5ede2dc8d"
      },
      "execution_count": null,
      "outputs": [
        {
          "output_type": "stream",
          "name": "stdout",
          "text": [
            "The ASCII value of 'a' is 97\n"
          ]
        }
      ]
    },
    {
      "cell_type": "code",
      "source": [
        "c = 'b'\n",
        "print(\"The ASCII value of '\" + c + \"' is\", ord(c))"
      ],
      "metadata": {
        "colab": {
          "base_uri": "https://localhost:8080/"
        },
        "id": "Aam2dRBxTpHR",
        "outputId": "1dd01bb9-7a1c-4c3f-e610-b4cfe497df32"
      },
      "execution_count": null,
      "outputs": [
        {
          "output_type": "stream",
          "name": "stdout",
          "text": [
            "The ASCII value of 'b' is 98\n"
          ]
        }
      ]
    },
    {
      "cell_type": "code",
      "source": [
        "c = input()\n",
        "print(\"The ASCII value of '\" + c + \"' is\", ord(c))"
      ],
      "metadata": {
        "colab": {
          "base_uri": "https://localhost:8080/"
        },
        "id": "qPCu4qwLTsZT",
        "outputId": "fea24789-7695-42d2-b662-e41130c83e65"
      },
      "execution_count": null,
      "outputs": [
        {
          "output_type": "stream",
          "name": "stdout",
          "text": [
            "a\n",
            "The ASCII value of 'a' is 97\n"
          ]
        }
      ]
    },
    {
      "cell_type": "code",
      "source": [
        "#python 3.x\n",
        "text = input(\"enter a string to convert into ascii values:\")\n",
        "ascii_values = []\n",
        "for character in text:\n",
        "    ascii_values.append(ord(character))\n",
        "print(ascii_values)"
      ],
      "metadata": {
        "colab": {
          "base_uri": "https://localhost:8080/"
        },
        "id": "fdlMS-WjO5_X",
        "outputId": "ed22ef39-19b8-48f7-a931-59cd48f986e0"
      },
      "execution_count": null,
      "outputs": [
        {
          "output_type": "stream",
          "name": "stdout",
          "text": [
            "enter a string to convert into ascii values:21\n",
            "[50, 49]\n"
          ]
        }
      ]
    },
    {
      "cell_type": "code",
      "source": [
        "import numpy as np\n",
        "\n",
        "s = 'abc'\n",
        "np.prod([i+1 for i,v in enumerate(s) if v in ['a','e','i','o','u']])\n"
      ],
      "metadata": {
        "colab": {
          "base_uri": "https://localhost:8080/"
        },
        "id": "llx8N4J8PuNj",
        "outputId": "1f4fe34b-5d79-4e70-d5b4-d4824719bda9"
      },
      "execution_count": null,
      "outputs": [
        {
          "output_type": "execute_result",
          "data": {
            "text/plain": [
              "1"
            ]
          },
          "metadata": {},
          "execution_count": 35
        }
      ]
    },
    {
      "cell_type": "code",
      "source": [
        "# Python 3 code to find average\n",
        "# of ASCII characters\n",
        " \n",
        "# Function to find average\n",
        "# of ASCII value of chars\n",
        "def averageValue(abc):\n",
        "    sum_char = 0\n",
        " \n",
        "    # loop to sum the ascii\n",
        "    # value of chars\n",
        "    for i in range(len(abc)):\n",
        "        sum_char += ord(abc[i])\n",
        " \n",
        "    # Returning average of chars\n",
        "    return sum_char + len(abc)\n",
        " \n",
        "# Driver code\n",
        "if __name__ == \"__main__\":\n",
        "     \n",
        "    s = \"abc\"\n",
        " \n",
        "    print(averageValue('abc'))\n",
        " \n",
        "# This code is contributed by ita_c"
      ],
      "metadata": {
        "colab": {
          "base_uri": "https://localhost:8080/"
        },
        "id": "ijYAGjoJRcef",
        "outputId": "1b57ec70-d8cb-4d62-fe70-5b0b527db031"
      },
      "execution_count": null,
      "outputs": [
        {
          "output_type": "stream",
          "name": "stdout",
          "text": [
            "297\n"
          ]
        }
      ]
    },
    {
      "cell_type": "code",
      "source": [
        "# Python3 code to demonstrate working of\n",
        "# Characters Positional Summation in String List\n",
        "# Using list comprehension + sum() + ord()\n",
        "\n",
        "# initializing list\n",
        "test_list = (\"geeksforgeeks\", \"teaches\",\n",
        "\t\t\t\"us\", \"discipline\")\n",
        "\n",
        "# printing original list\n",
        "print(\"The original list is : \" + str(test_list))\n",
        "\n",
        "# sum() gets summation, list comprehension\n",
        "# used to perform task in one line\n",
        "res = (sum((ord(ele) - 96 for ele in sub)) for sub in test_list)\n",
        "\n",
        "# printing result\n",
        "print(\"Positional Summation List : \" + str(res))\n"
      ],
      "metadata": {
        "colab": {
          "base_uri": "https://localhost:8080/"
        },
        "id": "YlSOcmEkVb2J",
        "outputId": "27b902eb-e4cc-4846-efb0-0eaf1eb38ddb"
      },
      "execution_count": null,
      "outputs": [
        {
          "output_type": "stream",
          "name": "stdout",
          "text": [
            "The original list is : ('geeksforgeeks', 'teaches', 'us', 'discipline')\n",
            "Positional Summation List : <generator object <genexpr> at 0x7f8e128c2d50>\n"
          ]
        }
      ]
    },
    {
      "cell_type": "markdown",
      "source": [
        "# ord() \n",
        "\n",
        "The ord() function returns the number representing the unicode code of a specified character."
      ],
      "metadata": {
        "id": "MX_CSjBiXJCl"
      }
    },
    {
      "cell_type": "markdown",
      "source": [
        "# chr()\n",
        "\n",
        "What is the output of CHR ord (' A '))?\n",
        "\n",
        "\n",
        "chr() function is a library function in Python, it accepts a value (ASCII code) and returns characters. Statement chr(ord('A')) evaluation – ord('A') will return 65 and then chr(65) will return character value of ASCII code 65, thus, it will return 'A'"
      ],
      "metadata": {
        "id": "YsKRq83VXg8T"
      }
    },
    {
      "cell_type": "code",
      "source": [
        "text=input()\n",
        "print (sum(ord(chr) for chr in text))\n",
        "\n",
        "\n",
        "\n",
        "\n",
        "# step 1 - text is the veriable storing the string \"abc\"\n",
        "\n",
        "# step 2 - exicuting the for loop in text by converting the each charecter to ascii\n",
        "\n",
        "# step 3 - adding the each value of ascii, that comes from each charecter of string"
      ],
      "metadata": {
        "colab": {
          "base_uri": "https://localhost:8080/"
        },
        "id": "cliXeQ-jVoZ7",
        "outputId": "b3b04239-32bd-4b85-d78c-72076802b7a1"
      },
      "execution_count": null,
      "outputs": [
        {
          "output_type": "stream",
          "name": "stdout",
          "text": [
            "abc\n",
            "294\n"
          ]
        }
      ]
    },
    {
      "cell_type": "code",
      "source": [
        "text=input()\n",
        "for chr in text:\n",
        "  print((sum(ord(chr))))"
      ],
      "metadata": {
        "colab": {
          "base_uri": "https://localhost:8080/",
          "height": 217
        },
        "id": "CAzB7QoLdmxB",
        "outputId": "c6d33b76-a5ff-4714-f8e7-88bd71ce1fed"
      },
      "execution_count": null,
      "outputs": [
        {
          "name": "stdout",
          "output_type": "stream",
          "text": [
            "abc\n"
          ]
        },
        {
          "output_type": "error",
          "ename": "TypeError",
          "evalue": "ignored",
          "traceback": [
            "\u001b[0;31m---------------------------------------------------------------------------\u001b[0m",
            "\u001b[0;31mTypeError\u001b[0m                                 Traceback (most recent call last)",
            "\u001b[0;32m<ipython-input-52-29c735246d18>\u001b[0m in \u001b[0;36m<module>\u001b[0;34m\u001b[0m\n\u001b[1;32m      1\u001b[0m \u001b[0mtext\u001b[0m\u001b[0;34m=\u001b[0m\u001b[0minput\u001b[0m\u001b[0;34m(\u001b[0m\u001b[0;34m)\u001b[0m\u001b[0;34m\u001b[0m\u001b[0;34m\u001b[0m\u001b[0m\n\u001b[1;32m      2\u001b[0m \u001b[0;32mfor\u001b[0m \u001b[0mchr\u001b[0m \u001b[0;32min\u001b[0m \u001b[0mtext\u001b[0m\u001b[0;34m:\u001b[0m\u001b[0;34m\u001b[0m\u001b[0;34m\u001b[0m\u001b[0m\n\u001b[0;32m----> 3\u001b[0;31m   \u001b[0mprint\u001b[0m\u001b[0;34m(\u001b[0m\u001b[0;34m(\u001b[0m\u001b[0msum\u001b[0m\u001b[0;34m(\u001b[0m\u001b[0mord\u001b[0m\u001b[0;34m(\u001b[0m\u001b[0mchr\u001b[0m\u001b[0;34m)\u001b[0m\u001b[0;34m)\u001b[0m\u001b[0;34m)\u001b[0m\u001b[0;34m)\u001b[0m\u001b[0;34m\u001b[0m\u001b[0;34m\u001b[0m\u001b[0m\n\u001b[0m",
            "\u001b[0;31mTypeError\u001b[0m: 'int' object is not iterable"
          ]
        }
      ]
    },
    {
      "cell_type": "markdown",
      "source": [
        "Radha newly learnt about palindromic strings.A palindromic string is a string which is same when read from left to right and also from right to left.Help her in implementing the logic.\n",
        "\n",
        "\n",
        " \n",
        "\n",
        "Input Description:\n",
        "\n",
        "You are given a String ‘s’\n",
        "\n",
        "Output Description:\n",
        "\n",
        "Print 1 if String is palindrome or 0 if not\n",
        "\n",
        "Sample Input :\n",
        "\n",
        "NITIN\n",
        "\n",
        "Sample Output :\n",
        "\n",
        "1\n"
      ],
      "metadata": {
        "id": "Cx5DcAi5kmOt"
      }
    },
    {
      "cell_type": "code",
      "source": [
        "string=input()   # storing string to veriable string\n",
        "x=string[::-1]   # here slicing string by reverse and storing it into the veriable x\n",
        "if x==string:    # here giving a condition if the charecter in veriable string is equal to the charecter in veriable x,exicute the below line\n",
        "  print('1')     # display the '1' if the above line is True\n",
        "\n",
        "else:            # if above condition is not get True exicute this lines \n",
        "  print('0')     # display the '0' if x!=string"
      ],
      "metadata": {
        "colab": {
          "base_uri": "https://localhost:8080/"
        },
        "id": "JZ_x8sUekDbG",
        "outputId": "8c50b535-cd9d-41c7-a7a1-69d28f8819f9"
      },
      "execution_count": null,
      "outputs": [
        {
          "output_type": "stream",
          "name": "stdout",
          "text": [
            "aba\n",
            "1\n"
          ]
        }
      ]
    },
    {
      "cell_type": "markdown",
      "source": [
        " Jennyfer is fond of strings. She wants to read the character from right to left (reverse the string), so she wants you to design a suitable algorithm which satisfy her desire.\n",
        "\n",
        "\n",
        "Input Description:\n",
        "\n",
        "Enter the string ‘s’\n",
        "\n",
        "Output Description:\n",
        "\n",
        "Print the string from characters right to left.\n",
        "\n",
        "Sample Input :\n",
        "\n",
        "jennyfer\n",
        "\n",
        "Sample Output :\n",
        "\n",
        "Refynnej"
      ],
      "metadata": {
        "id": "XkmrKQotojdC"
      }
    },
    {
      "cell_type": "code",
      "source": [
        "string=input()    # storing the strings to veriable string\n",
        "x=string[::-1]    # slicing strings by reverse and storing in veriable x \n",
        "print(x.capitalize())  # Here print the string by capitalizing the first letter of the string\n",
        "\n"
      ],
      "metadata": {
        "colab": {
          "base_uri": "https://localhost:8080/"
        },
        "id": "SSKAD4hCnIyc",
        "outputId": "2f45c2af-96c3-4baa-d10e-b313ecc4f16f"
      },
      "execution_count": null,
      "outputs": [
        {
          "output_type": "stream",
          "name": "stdout",
          "text": [
            "jennifer\n",
            "Refinnej\n"
          ]
        }
      ]
    },
    {
      "cell_type": "markdown",
      "source": [
        "you are given a string made up of parenthesis only.Your task is to check whether parenthesis are balanced or not.If they are balanced print 1 else print 0\n",
        "\n",
        "\n",
        "Input Description:\n",
        "\n",
        "You are given a string ‘s’\n",
        "\n",
        "Output Description:\n",
        "\n",
        "Print 1 for balanced and 0 for imbalanced\n",
        "\n",
        "Sample Input :\n",
        "\n",
        "{({})}\n",
        "\n",
        "Sample Output :\n",
        "\n",
        "1"
      ],
      "metadata": {
        "id": "TXSBFI6EpIUv"
      }
    },
    {
      "cell_type": "code",
      "source": [
        "string=input()   # string input string value into veriable string\n",
        "x= '{({})}'      # storing the '{({})}' into the veriable x\n",
        "\n",
        "if x==string:    # giving condition that if the input string value and veriable x stored string value is equal exicute the below line \n",
        "  print('1')     # display the '1' when the above line gets exicuted as True\n",
        "\n",
        "else:            # above lines get rejected exicute this lines \n",
        "  print('0')     # display the when the above else condition gets True "
      ],
      "metadata": {
        "colab": {
          "base_uri": "https://localhost:8080/"
        },
        "id": "UHU8G7KSpNUS",
        "outputId": "ccdd9765-56d7-4bc3-a306-4970a9c23cd7"
      },
      "execution_count": null,
      "outputs": [
        {
          "output_type": "stream",
          "name": "stdout",
          "text": [
            "{({})}\n",
            "1\n"
          ]
        }
      ]
    },
    {
      "cell_type": "markdown",
      "source": [
        "Given a string S, print 'yes' if it has a vowel in it, else print 'no'.\n",
        "\n",
        "Sample Testcase :\n",
        "\n",
        "INPUT:\n",
        "\n",
        "codekata\n",
        "\n",
        "OUTPUT:\n",
        "\n",
        "yes"
      ],
      "metadata": {
        "id": "_B8K1_SvrBYV"
      }
    },
    {
      "cell_type": "markdown",
      "source": [
        "A vowel is a sound such as the ones represented in writing by the letters 'a', 'e', 'i', ' o', and 'u', which you pronounce with your mouth open, allowing the air to flow through it. Compare consonant."
      ],
      "metadata": {
        "id": "HkPRZbSerb5E"
      }
    },
    {
      "cell_type": "code",
      "source": [
        "i=input()\n",
        "vowels = {'a','e','i','o','u'}\n",
        "\n",
        "\n",
        "if i in vowels:\n",
        "   print('1')\n",
        "else:\n",
        "    print('0')"
      ],
      "metadata": {
        "colab": {
          "base_uri": "https://localhost:8080/"
        },
        "id": "3K3dnFpGrA-x",
        "outputId": "c1c8663d-6e46-4371-d06f-014a5527409b"
      },
      "execution_count": null,
      "outputs": [
        {
          "output_type": "stream",
          "name": "stdout",
          "text": [
            "codekata\n",
            "0\n"
          ]
        }
      ]
    },
    {
      "cell_type": "code",
      "source": [
        "vowels = {'a','e','i','o','u'}\n",
        "\n",
        "my_string = \"This is my awesome stupendous string!\"\n",
        "\n",
        "for c in my_string:\n",
        "  if c in vowels:\n",
        "    print(c)"
      ],
      "metadata": {
        "colab": {
          "base_uri": "https://localhost:8080/"
        },
        "id": "TxhSZPU2tK06",
        "outputId": "23984cc5-af74-441b-8f48-95ef845ff492"
      },
      "execution_count": null,
      "outputs": [
        {
          "output_type": "stream",
          "name": "stdout",
          "text": [
            "i\n",
            "i\n",
            "a\n",
            "e\n",
            "o\n",
            "e\n",
            "u\n",
            "e\n",
            "o\n",
            "u\n",
            "i\n"
          ]
        }
      ]
    },
    {
      "cell_type": "code",
      "source": [
        "# taking user input\n",
        "ch = input()\n",
        "\n",
        "if  ch=='a'  or ch =='e' or ch=='i' or ch=='o' or ch=='u':\n",
        "\n",
        "    print('yes')\n",
        "\n",
        "else:\n",
        "\n",
        "    print('no')"
      ],
      "metadata": {
        "colab": {
          "base_uri": "https://localhost:8080/"
        },
        "id": "b-RaI1b3tOkF",
        "outputId": "b2413099-57d8-429a-d152-f3ac52a1ca97"
      },
      "execution_count": null,
      "outputs": [
        {
          "output_type": "stream",
          "name": "stdout",
          "text": [
            "codekata\n",
            "no\n"
          ]
        }
      ]
    },
    {
      "cell_type": "code",
      "source": [
        "def vowel_count(string):\n",
        "  vowels = ['a', 'e', 'i', 'o', 'u']\n",
        "  return len([i for i in string if i in vowels])"
      ],
      "metadata": {
        "id": "5PNRthlW5HVX"
      },
      "execution_count": null,
      "outputs": []
    },
    {
      "cell_type": "code",
      "source": [
        "# taking user input\n",
        "ch = input(\"Enter a character: \")\n",
        "\n",
        "if(ch=='A' or ch=='a' or ch=='E' or ch =='e' or ch=='I'\n",
        " or ch=='i' or ch=='O' or ch=='o' or ch=='U' or ch=='u'):\n",
        "    print(ch, \"is a Vowel\")\n",
        "else:\n",
        "    print(ch, \"is a Consonant\")"
      ],
      "metadata": {
        "colab": {
          "base_uri": "https://localhost:8080/"
        },
        "id": "ysM330ck5QB0",
        "outputId": "1e6585ba-9ff6-4ae0-8a6a-3909dd0fdca9"
      },
      "execution_count": null,
      "outputs": [
        {
          "output_type": "stream",
          "name": "stdout",
          "text": [
            "Enter a character: codekata\n",
            "codekata is a Consonant\n"
          ]
        }
      ]
    },
    {
      "cell_type": "code",
      "source": [
        "l = \"codekata \"\n",
        "\n",
        "if l.lower() in ('a', 'e', 'i', 'o', 'u'):\n",
        "\n",
        "  print(\"Vowel\")\n",
        "\n",
        "elif l.upper() in ('A', 'E', 'I', 'O', 'U'):\n",
        "\n",
        "  print(\"Vowel\")\n",
        "\n",
        "else:\n",
        "\n",
        "  print(\"Consonant\")\n",
        "\n"
      ],
      "metadata": {
        "colab": {
          "base_uri": "https://localhost:8080/"
        },
        "id": "MnFj4kUP8pRu",
        "outputId": "e514add3-b6b5-4708-cf48-168be3cc7daf"
      },
      "execution_count": null,
      "outputs": [
        {
          "output_type": "stream",
          "name": "stdout",
          "text": [
            "Consonant\n"
          ]
        }
      ]
    },
    {
      "cell_type": "code",
      "source": [
        "# Python program to check if string contains vowels\n",
        "\n",
        "def checkVowels(string):  #use-defined function\n",
        "   # check the string contains vowels\n",
        "   vowels = [each for each in string if each in \"aeiouAEIOU\"]\n",
        "   return vowels\n",
        "\n",
        "# take inputs\n",
        "string = input('String: ')\n",
        "\n",
        "# function call\n",
        "if (checkVowels(string)):\n",
        "   print('Yes, String contains vowels.')\n",
        "else:\n",
        "   print('No, String does not contain vowels.')"
      ],
      "metadata": {
        "id": "039wYsez_lEF"
      },
      "execution_count": null,
      "outputs": []
    },
    {
      "cell_type": "code",
      "source": [
        "# Python program to check if string contains vowels\n",
        "\n",
        "def checkVowels(string):  #use-defined function\n",
        "   # check the string contains vowels\n",
        "   vowels = [each for each in string if each in \"aeiouAEIOU\"]\n",
        "   return vowels\n",
        "\n",
        "# take inputs\n",
        "string = input()\n",
        "\n",
        "# function call\n",
        "if (checkVowels(string)):\n",
        "   print('Yes')\n",
        "else:\n",
        "   print('No')"
      ],
      "metadata": {
        "colab": {
          "base_uri": "https://localhost:8080/"
        },
        "id": "7ad3Qv7B_mDi",
        "outputId": "834ee748-aa73-4029-9762-dac8069eec47"
      },
      "execution_count": null,
      "outputs": [
        {
          "output_type": "stream",
          "name": "stdout",
          "text": [
            "codekata\n",
            "Yes\n"
          ]
        }
      ]
    },
    {
      "cell_type": "code",
      "source": [
        "string=input()\n",
        "\n",
        "if "
      ],
      "metadata": {
        "id": "w5iXXTrNya7w"
      },
      "execution_count": null,
      "outputs": []
    },
    {
      "cell_type": "markdown",
      "source": [
        "You are given a string.Your task is to print only the consonants present in the string without affecting the sentence spacings if present. If no consonants are present print -1\n",
        "\n",
        "\n",
        "Input Description:\n",
        "\n",
        "You are given a string ‘s’.\n",
        "\n",
        "Output Description:\n",
        "\n",
        "Print only consonants.\n",
        "\n",
        "Sample Input :\n",
        "\n",
        "I am shrey \n",
        "\n",
        "Sample Output :\n",
        "\n",
        " m shry"
      ],
      "metadata": {
        "id": "Go3xUkSB6CJp"
      }
    },
    {
      "cell_type": "code",
      "source": [
        "string= input()\n",
        "#consonants=('\"aeiouAEIOU\"')\n",
        "\n",
        "for c in string:\n",
        "\n",
        "      if c not in \"AEIOUaeiou\":\n",
        "        \n",
        "         print(c, end='')\n",
        "   \n",
        "\n",
        "else:\n",
        "\n",
        "  print('')"
      ],
      "metadata": {
        "colab": {
          "base_uri": "https://localhost:8080/"
        },
        "id": "DAOnVDGL2a-_",
        "outputId": "fe90d054-4c96-4525-dd69-e2a3e1e65aa4"
      },
      "execution_count": null,
      "outputs": [
        {
          "output_type": "stream",
          "name": "stdout",
          "text": [
            "I am shrey\n",
            " m shry\n"
          ]
        }
      ]
    },
    {
      "cell_type": "code",
      "source": [
        "str=input(\"\")\n",
        "print(str)\n",
        "for i in range(len(str)):\n",
        "    if str[i] == 'a' or str[i] == 'A' or str[i] == 'e' or str[i] == 'E' or str[i] == 'i'or str[i] == 'I' or str[i] == 'o' or str[i] == 'O' or str[i] == 'u' or str[i] == 'U':\n",
        "        continue\n",
        "    else:\n",
        "        print(str[i],end=\"\")"
      ],
      "metadata": {
        "colab": {
          "base_uri": "https://localhost:8080/"
        },
        "id": "lpD3mu5u6uRI",
        "outputId": "d1c5cb28-59f3-4ff0-b709-c761bd21ba28"
      },
      "execution_count": null,
      "outputs": [
        {
          "output_type": "stream",
          "name": "stdout",
          "text": [
            "I am shrey\n",
            "I am shrey\n",
            " m shry"
          ]
        }
      ]
    },
    {
      "cell_type": "code",
      "source": [
        "# Python program to print all consonants\n",
        "# in a string using list comprehension\n",
        "def print_consonant(mystring):\n",
        "    vowels=[\"a\",\"e\",\"i\",\"o\",\"u\"]\n",
        "    # creating a list using list comprehension\n",
        "    mylist = [ item for item in mystring if item not in vowels]   \n",
        "    for item in mylist:\n",
        "        print(item)\n",
        "        \n",
        "print_consonant(\"Rajkumar\")  "
      ],
      "metadata": {
        "id": "vzOg9D8870YW"
      },
      "execution_count": null,
      "outputs": []
    },
    {
      "cell_type": "code",
      "source": [
        "# print only consonants in given string\n",
        "\n",
        "def printConsonants(string):\n",
        "   # printing consonants\n",
        "   for c in string:\n",
        "      if c not in \"AEIOUaeiou\":\n",
        "         print(c, end='')\n",
        "   return \n",
        "\n",
        "# input from the user\n",
        "string = input('')\n",
        "\n",
        "# call the function\n",
        "printConsonants(string)"
      ],
      "metadata": {
        "colab": {
          "base_uri": "https://localhost:8080/"
        },
        "id": "e6PByXos8hoX",
        "outputId": "f77265f2-6e94-4b02-ec6a-3bf43650f0f0"
      },
      "execution_count": null,
      "outputs": [
        {
          "output_type": "stream",
          "name": "stdout",
          "text": [
            "I am shrey\n",
            " m shry"
          ]
        }
      ]
    },
    {
      "cell_type": "markdown",
      "source": [
        " You are given a ‘true’ string. String is called true if weight of string is multiple of 8. Your task is to tell whether a string can be declared True or Not. Weight of string is the sum of ASCII value of Vowel character(s) present in the string.\n",
        "\n",
        "\n",
        "Input Description:\n",
        "\n",
        "You are given as string ‘s’ in lower cases\n",
        "\n",
        "Output Description:\n",
        "\n",
        "Print 1 for true and 0 for false\n",
        "\n",
        "\n",
        "Sample Input :\n",
        "\n",
        "raja\n",
        "\n",
        "Sample Output :\n",
        "\n",
        "0"
      ],
      "metadata": {
        "id": "pcJg-spYBnyc"
      }
    },
    {
      "cell_type": "code",
      "source": [
        "#Correct one\n",
        "\n",
        "text=input()\n",
        "print (sum(ord(chr) for chr in ''))"
      ],
      "metadata": {
        "colab": {
          "base_uri": "https://localhost:8080/"
        },
        "id": "17-w7DmJBuRw",
        "outputId": "093cde8c-98b4-4563-a356-c9d8ab902203"
      },
      "execution_count": null,
      "outputs": [
        {
          "output_type": "stream",
          "name": "stdout",
          "text": [
            "raja\n",
            "0\n"
          ]
        }
      ]
    },
    {
      "cell_type": "code",
      "source": [
        "string=input()\n",
        "if string in 'aeiouAEIOU':\n",
        "  print(sum(ord(char)*8))  "
      ],
      "metadata": {
        "colab": {
          "base_uri": "https://localhost:8080/"
        },
        "id": "tkLPbmJnD5Gx",
        "outputId": "c202f4d8-ae35-4e95-dccb-7cb5352e1cbc"
      },
      "execution_count": null,
      "outputs": [
        {
          "name": "stdout",
          "output_type": "stream",
          "text": [
            "raja\n"
          ]
        }
      ]
    },
    {
      "cell_type": "code",
      "source": [
        "string=input()\n",
        "\n",
        "if 'aeiouAEIOU' in string :\n",
        "  print(string)"
      ],
      "metadata": {
        "colab": {
          "base_uri": "https://localhost:8080/"
        },
        "id": "GRD5kCUHHTtX",
        "outputId": "3dca2fba-77d7-4e18-da85-a0619b86dbb7"
      },
      "execution_count": null,
      "outputs": [
        {
          "name": "stdout",
          "output_type": "stream",
          "text": [
            "raja\n"
          ]
        }
      ]
    },
    {
      "cell_type": "markdown",
      "source": [
        "Joyal was given a sentence. His task is to delete the two words that comes together and print the sentence so that the words in the output sentence have distinct words compared to their adjacent words. If no words are present in the output sentence print -1\n",
        "\n",
        "\n",
        "Input Description:\n",
        "\n",
        "You are given input string 'S'\n",
        "\n",
        "Output Description:\n",
        "\n",
        "Print the all the words that are left in the string 's' so that the words in the output sentence have distinct words compared to their adjacent words. Print -1 if no words are left\n",
        "\n",
        "Sample Input :\n",
        "\n",
        "I am john cena cena john\n",
        "\n",
        "Sample Output :\n",
        "\n",
        "I am"
      ],
      "metadata": {
        "id": "yGoZcq_t_VJg"
      }
    },
    {
      "cell_type": "code",
      "source": [
        "string=input()\n",
        "\n",
        "word='john cena cena john'\n",
        "\n",
        "for words in word:\n",
        "  if words==word:\n",
        "    words.remove(word)\n",
        "    print(string)\n",
        "\n",
        "  else:\n",
        "    print('no word present')\n",
        " \n",
        "\n",
        "  #print(string)"
      ],
      "metadata": {
        "id": "YuI7wgjn_Tpt"
      },
      "execution_count": null,
      "outputs": []
    },
    {
      "cell_type": "code",
      "source": [
        "# Write a program that input a string and ask\n",
        "# user to delete a given word from a string.\n",
        "\n",
        "text = input(' ')\n",
        "words = text.split()\n",
        "\n",
        "data = 'john cena cena john'\n",
        "status = True\n",
        "\n",
        "for word in words:\n",
        "    if word == data:\n",
        "        words.remove(word)\n",
        "        status = False\n",
        "\n",
        "if status:\n",
        "    text = ' '.join(words)\n",
        "    print('String after deletion:',text)\n",
        "else:\n",
        "    print('Word not present in string.')"
      ],
      "metadata": {
        "colab": {
          "base_uri": "https://localhost:8080/"
        },
        "id": "J3MyP7NOBsTQ",
        "outputId": "51d3363b-e6d6-4a96-e346-794f9cdc626e"
      },
      "execution_count": null,
      "outputs": [
        {
          "output_type": "stream",
          "name": "stdout",
          "text": [
            " I am john cena cena john\n",
            "String after deletion: I am john cena cena john\n"
          ]
        }
      ]
    },
    {
      "cell_type": "code",
      "source": [
        "#print(\"Enter the String: \")\n",
        "text = input()\n",
        "\n",
        " \n",
        "word = 'john cena cena john'\n",
        "\n",
        "if word in text:\n",
        "  text1 = text.replace(word, \"\")\n",
        " # print()\n",
        "  print(text1)\n",
        "\n",
        "else:\n",
        "  print('-1')"
      ],
      "metadata": {
        "colab": {
          "base_uri": "https://localhost:8080/"
        },
        "id": "kOyW9DGuGJBC",
        "outputId": "503f5864-6b9a-48e4-b32b-76f0e4b3172b"
      },
      "execution_count": null,
      "outputs": [
        {
          "output_type": "stream",
          "name": "stdout",
          "text": [
            "i am john cena cena john\n",
            "i am \n"
          ]
        }
      ]
    },
    {
      "cell_type": "code",
      "source": [
        "string=input()\n",
        "\n",
        "word='jhon cena cena john '\n",
        "\n",
        "#for words in word :\n",
        "if word in string: \n",
        "      new=string.replace(word,'')\n",
        "      print(new)\n",
        "\n",
        "else:  \n",
        "  print('-1')"
      ],
      "metadata": {
        "colab": {
          "base_uri": "https://localhost:8080/"
        },
        "id": "kSIngHNOJnHj",
        "outputId": "7db84fbd-eada-435b-aebf-921870ec6f2c"
      },
      "execution_count": null,
      "outputs": [
        {
          "output_type": "stream",
          "name": "stdout",
          "text": [
            "i am john cena cena john\n",
            "-1\n"
          ]
        }
      ]
    },
    {
      "cell_type": "code",
      "source": [
        "string=input()\n",
        "\n"
      ],
      "metadata": {
        "id": "LuwaBnZMUsbR"
      },
      "execution_count": null,
      "outputs": []
    },
    {
      "cell_type": "code",
      "source": [
        "# Python3 program\n",
        "\n",
        "string = input()\n",
        "\n",
        "print(' '.join(dict.fromkeys(string.split())))\n"
      ],
      "metadata": {
        "colab": {
          "base_uri": "https://localhost:8080/"
        },
        "id": "EMSLHeKcgt8U",
        "outputId": "7ff19a88-a0e0-48c1-eabd-d8ba75fc4e91"
      },
      "execution_count": null,
      "outputs": [
        {
          "output_type": "stream",
          "name": "stdout",
          "text": [
            "i am ia m\n",
            "i am ia m\n"
          ]
        }
      ]
    },
    {
      "cell_type": "code",
      "source": [
        "# Write a program that input a string and ask\n",
        "# user to delete a given word from a string.\n",
        "\n",
        "text = input('Enter a string: ')\n",
        "words = text.split()\n",
        "\n",
        "data = input('Enter a word to delete: ')\n",
        "status = False\n",
        "\n",
        "for word in words:\n",
        "    if word == data:\n",
        "        words.remove(word)\n",
        "        status = True\n",
        "\n",
        "if status:\n",
        "    text = ' '.join(words)\n",
        "    print('String after deletion:',text)\n",
        "else:\n",
        "    print('Word not present in string.')"
      ],
      "metadata": {
        "colab": {
          "base_uri": "https://localhost:8080/"
        },
        "id": "utF7S6h2Nnb-",
        "outputId": "2e381963-3d1c-48ed-83ba-83bf03d68471"
      },
      "execution_count": null,
      "outputs": [
        {
          "output_type": "stream",
          "name": "stdout",
          "text": [
            "Enter a string: i am john cena cena john\n",
            "Enter a word to delete: john cena cena john\n",
            "Word not present in string.\n"
          ]
        }
      ]
    },
    {
      "cell_type": "code",
      "source": [
        "b=input().split()\n",
        "a=b.copy() #creating copy bcz will remove elements later\n",
        "c=len(a)\n",
        "i=0\n",
        "while i<c-1:\n",
        "  if a[i]==a[i+1]: #comparing 2 elements at a time\n",
        "    a[i]=\" \"\n",
        "    a[i+1]=\" \"\n",
        "    a=[i for i in a if i!=\" \"] #removing empty spaces which we created\n",
        "    i=0\n",
        "    c=len(a)\n",
        "  else:\n",
        "    i+=1\n",
        "if len(a)>1:\n",
        "  print(*a)\n",
        "else:\n",
        "  print(-1)"
      ],
      "metadata": {
        "colab": {
          "base_uri": "https://localhost:8080/"
        },
        "id": "xevUWhkJvesY",
        "outputId": "88793530-dc88-4159-aa87-5d481574fff2"
      },
      "execution_count": null,
      "outputs": [
        {
          "output_type": "stream",
          "name": "stdout",
          "text": [
            "I am john cena cena john\n",
            "I am\n"
          ]
        }
      ]
    },
    {
      "cell_type": "markdown",
      "source": [
        "Rahul is given a task to manipulate a string, He hired you as a developer your task is to delete all the repeating characters and print the result left.\n",
        "\n",
        "\n",
        "Input Description:\n",
        "\n",
        "You are given a string ‘s’\n",
        "\n",
        "Output Description:\n",
        "\n",
        "Print the remaining string\n",
        "\n",
        "\n",
        "Sample Input :\n",
        "\n",
        "mississipie\n",
        "\n",
        "Sample Output :\n",
        "\n",
        "mpe"
      ],
      "metadata": {
        "id": "KUT6HYYZFvhd"
      }
    },
    {
      "cell_type": "code",
      "source": [
        "string =input()\n",
        "\n",
        "output=set(string)\n",
        "print(output)\n"
      ],
      "metadata": {
        "colab": {
          "base_uri": "https://localhost:8080/"
        },
        "id": "sZmbW_RJFvMY",
        "outputId": "baf29ac5-7fd0-41b7-8036-7884de830b9f"
      },
      "execution_count": null,
      "outputs": [
        {
          "output_type": "stream",
          "name": "stdout",
          "text": [
            "mississipie\n",
            "{'e', 'p', 'm', 's', 'i'}\n"
          ]
        }
      ]
    },
    {
      "cell_type": "code",
      "source": [
        "string=input()\n",
        "p=\"\"\n",
        "for char in string:\n",
        "    if char not in p:\n",
        "        p=p+char\n",
        "\n",
        "print(p)"
      ],
      "metadata": {
        "colab": {
          "base_uri": "https://localhost:8080/"
        },
        "id": "ad8weAjfvpIX",
        "outputId": "9461b4b4-1ef7-4837-8ad3-342bec3e1361"
      },
      "execution_count": null,
      "outputs": [
        {
          "output_type": "stream",
          "name": "stdout",
          "text": [
            "mississipie\n",
            "mispe\n"
          ]
        }
      ]
    },
    {
      "cell_type": "code",
      "source": [
        "\n",
        "# Python3 code to demonstrate \n",
        "# occurrence frequency using \n",
        "# naive method \n",
        "  \n",
        "# initializing string \n",
        "test_str = input\n",
        "  \n",
        "# using naive method to get count \n",
        "# counting e \n",
        "count = 0\n",
        "  \n",
        "for i in test_str:\n",
        "    if i == 'e':\n",
        "        count = count + 1\n",
        "  \n",
        "# printing result \n",
        "print (\"Count of e in GeeksforGeeks is : \"\n",
        "                            +  str(count))"
      ],
      "metadata": {
        "colab": {
          "base_uri": "https://localhost:8080/"
        },
        "id": "RRJnRJy0HIJu",
        "outputId": "0b331f33-c37a-4266-b2a6-8249ea457910"
      },
      "execution_count": null,
      "outputs": [
        {
          "output_type": "stream",
          "name": "stdout",
          "text": [
            "mississipie\n",
            "11\n"
          ]
        }
      ]
    },
    {
      "cell_type": "code",
      "source": [
        "\n",
        "string=input()\n",
        "p=\"\"\n",
        "for char in string:\n",
        "    if char not in p:\n",
        "        p=p+char\n",
        "print(p)\n",
        "k=list(\"geeksforgeeks\")"
      ],
      "metadata": {
        "colab": {
          "base_uri": "https://localhost:8080/"
        },
        "id": "fgT9ppHoKV27",
        "outputId": "f8f9ba33-c09e-4bb4-8678-376b9958dd62"
      },
      "execution_count": null,
      "outputs": [
        {
          "output_type": "stream",
          "name": "stdout",
          "text": [
            "mississipie\n",
            "mississipie\n"
          ]
        }
      ]
    },
    {
      "cell_type": "code",
      "source": [
        "string=input()\n",
        "\n",
        "word='ississii'\n",
        "\n",
        "if word in string:\n",
        "  text=string.replace(word,'')\n",
        "  print(text)"
      ],
      "metadata": {
        "colab": {
          "base_uri": "https://localhost:8080/"
        },
        "id": "ViD18NU1MGkf",
        "outputId": "33ade507-ed47-40d1-ed08-3c9581cc2257"
      },
      "execution_count": null,
      "outputs": [
        {
          "name": "stdout",
          "output_type": "stream",
          "text": [
            "mississipie\n"
          ]
        }
      ]
    },
    {
      "cell_type": "code",
      "source": [
        "from itertools import groupby \n",
        "def remove_all_consecutive(str1): \n",
        "\tresult_str = [] \n",
        "\tfor (key,group) in groupby(str1): \n",
        "\t\tresult_str.append(key) \n",
        "\n",
        "\treturn ''.join(result_str)\n",
        "\t\n",
        "str1 = 'mississipie'\n",
        "print(\"Original string:\" + str1)\n",
        "print(\"After removing consecutive duplicates: \" + str1)\n",
        "print(remove_all_consecutive(str1))\n"
      ],
      "metadata": {
        "colab": {
          "base_uri": "https://localhost:8080/"
        },
        "id": "rutp4fQeNGtz",
        "outputId": "58787466-2cb7-4017-8291-fa0b3cc3808b"
      },
      "execution_count": null,
      "outputs": [
        {
          "output_type": "stream",
          "name": "stdout",
          "text": [
            "Original string:mississipie\n",
            "After removing consecutive duplicates: mississipie\n",
            "misisipie\n"
          ]
        }
      ]
    },
    {
      "cell_type": "code",
      "source": [
        "chars = \"abcdefghijklmnopqrstuvwxyz\"\n",
        "check_string = \"i am checking this string to see how many times each character appears\"\n",
        "\n",
        "for char in chars:\n",
        "  count = check_string.count(char)\n",
        "  if count > 1:\n",
        "    print(check_string.replace(char,''))"
      ],
      "metadata": {
        "colab": {
          "base_uri": "https://localhost:8080/"
        },
        "id": "C_w9bCxyNGno",
        "outputId": "4266197b-c012-4993-d162-824b2affec31"
      },
      "execution_count": null,
      "outputs": [
        {
          "output_type": "stream",
          "name": "stdout",
          "text": [
            "i m checking this string to see how mny times ech chrcter ppers\n",
            "i am heking this string to see how many times eah harater appears\n",
            "i am chcking this string to s how many tims ach charactr appars\n",
            "i am checkin this strin to see how many times each character appears\n",
            "i am cecking tis string to see ow many times eac caracter appears\n",
            " am checkng ths strng to see how many tmes each character appears\n",
            "i a checking this string to see how any ties each character appears\n",
            "i am checkig this strig to see how may times each character appears\n",
            "i am checking this string t see hw many times each character appears\n",
            "i am checking this string to see how many times each character aears\n",
            "i am checking this sting to see how many times each chaacte appeas\n",
            "i am checking thi tring to ee how many time each character appear\n",
            "i am checking his sring o see how many imes each characer appears\n"
          ]
        }
      ]
    },
    {
      "cell_type": "code",
      "source": [
        "chars='abcdefghijklmnopqrstuvwxyz'\n",
        "\n",
        "string=input()\n",
        "#word='ississii'\n",
        "\n",
        "for char in chars:\n",
        "  count=string.count(char)\n",
        "\n",
        "  if count=='i' and count=='s':\n",
        "    \n",
        "    print(string.replace(char,''))"
      ],
      "metadata": {
        "colab": {
          "base_uri": "https://localhost:8080/"
        },
        "id": "KFbWhKKZPl3V",
        "outputId": "fb35a663-f958-4deb-ba20-760d9f5a6348"
      },
      "execution_count": null,
      "outputs": [
        {
          "name": "stdout",
          "output_type": "stream",
          "text": [
            "mississipie\n"
          ]
        }
      ]
    },
    {
      "cell_type": "code",
      "source": [
        "developer = input()\n",
        "\n",
        "print(developer.translate({ord(letter): None for letter in 'is'}))"
      ],
      "metadata": {
        "colab": {
          "base_uri": "https://localhost:8080/"
        },
        "id": "uB8thrCOgYYg",
        "outputId": "6489dffe-3e73-4039-9cba-b4705f6b9b6d"
      },
      "execution_count": null,
      "outputs": [
        {
          "output_type": "stream",
          "name": "stdout",
          "text": [
            "mississipie\n",
            "mpe\n"
          ]
        }
      ]
    },
    {
      "cell_type": "markdown",
      "source": [
        "You are given a number with duplicate digits your task is to remove the immediate duplicate digits and print the result\n",
        "\n",
        "\n",
        "Input Description:\n",
        "\n",
        "You are given a long string of digits\n",
        "\n",
        "Output Description:\n",
        "\n",
        "Print the desired result print -1 if result length is 0\n",
        "\n",
        "\n",
        "Sample Input :\n",
        "\n",
        "1331\n",
        "\n",
        "Sample Output :\n",
        "\n",
        "11"
      ],
      "metadata": {
        "id": "k9vJHAzkQ3Lx"
      }
    },
    {
      "cell_type": "code",
      "source": [
        "\n",
        "string=input()\n",
        "p=\"\"\n",
        "d='3'\n",
        "for char in string:\n",
        "    if char not in p:\n",
        "        p=p+char\n",
        "        \n",
        "\n",
        "\n",
        "print(p.replace(d,''))\n"
      ],
      "metadata": {
        "colab": {
          "base_uri": "https://localhost:8080/"
        },
        "id": "Gx70JfG0XYj5",
        "outputId": "5db96168-ad50-4c6e-b125-624b099909d2"
      },
      "execution_count": null,
      "outputs": [
        {
          "output_type": "stream",
          "name": "stdout",
          "text": [
            "1331\n",
            "1\n"
          ]
        }
      ]
    },
    {
      "cell_type": "code",
      "source": [
        "list_int = list(input())\n",
        "print(list_int)\n",
        "#[1,3,3,1] # List of Integer\n",
        "\n",
        "del list_int[1:3]\n",
        "print(list_int)\n",
        "#[0, 1, 2, 4, 5, 6, 7, 8, 9] # delete element index 0\n"
      ],
      "metadata": {
        "colab": {
          "base_uri": "https://localhost:8080/"
        },
        "id": "vsP9qKr3UhMr",
        "outputId": "10fa2d75-3fa5-433a-925e-5c02da1a4ce5"
      },
      "execution_count": null,
      "outputs": [
        {
          "output_type": "stream",
          "name": "stdout",
          "text": [
            "1331\n",
            "['1', '3', '3', '1']\n",
            "['1', '1']\n"
          ]
        }
      ]
    },
    {
      "cell_type": "code",
      "source": [
        "string=list(input())\n",
        "\n",
        "del string[1:3]\n",
        "print(''.join(string))"
      ],
      "metadata": {
        "colab": {
          "base_uri": "https://localhost:8080/"
        },
        "id": "U7qkBBhdWICY",
        "outputId": "3425f4ff-42d8-44dc-822a-b7e7e1405e7e"
      },
      "execution_count": null,
      "outputs": [
        {
          "output_type": "stream",
          "name": "stdout",
          "text": [
            "1331\n",
            "11\n"
          ]
        }
      ]
    },
    {
      "cell_type": "code",
      "source": [
        "string = list(input())\n",
        "\n",
        "d=''\n",
        "for i in string:\n",
        "  d.append(i)\n",
        "    if d==i:\n",
        "     del i\n",
        "     print(d)"
      ],
      "metadata": {
        "id": "LwsWMTU-vV-o",
        "colab": {
          "base_uri": "https://localhost:8080/",
          "height": 135
        },
        "outputId": "f9b07b53-5c71-4c55-9c6e-80d81a468fc4"
      },
      "execution_count": null,
      "outputs": [
        {
          "output_type": "error",
          "ename": "IndentationError",
          "evalue": "ignored",
          "traceback": [
            "\u001b[0;36m  File \u001b[0;32m\"<ipython-input-6-3fef5b58ba44>\"\u001b[0;36m, line \u001b[0;32m6\u001b[0m\n\u001b[0;31m    if d==i:\u001b[0m\n\u001b[0m    ^\u001b[0m\n\u001b[0;31mIndentationError\u001b[0m\u001b[0;31m:\u001b[0m unexpected indent\n"
          ]
        }
      ]
    },
    {
      "cell_type": "markdown",
      "source": [
        "In XYZ country there is rule that car’s engine no. depends upon car’ number plate. Engine no is sum of all the integers present on car’s Number plate.The issuing authority has hired you in order to provide engine no. to the cars.Your task is to develop an algorithm which takes input as in form of string(Number plate) and gives back\n",
        "\n",
        "\n",
        "Engine number.\n",
        "\n",
        "\n",
        "Input Description:\n",
        "\n",
        "You are given a string ’s’\n",
        "\n",
        "Output Description:\n",
        "\n",
        "Print the engine number\n",
        "\n",
        "Sample Input :\n",
        "\n",
        "HR05-AA-2669\n",
        "\n",
        "Sample Output :\n",
        "\n",
        "28"
      ],
      "metadata": {
        "id": "kANwx7IHm1_J"
      }
    },
    {
      "cell_type": "code",
      "source": [
        "string= input()   # taking input\n",
        "\n",
        "r=0               # taking empty veriable\n",
        "\n",
        "for i in string:   # looping in string\n",
        "   if i in ('1234567890'):   # if string has numbers\n",
        "     r=int(i)+r              # that numbers will add to the empty veriable \n",
        "\n",
        "   else:                     # else trng has no numbers \n",
        "  \n",
        "    pass                     # nothing doing\n",
        "print(r)                     # printing the addition stored in the empty veriable"
      ],
      "metadata": {
        "colab": {
          "base_uri": "https://localhost:8080/"
        },
        "id": "RivXhWhdm967",
        "outputId": "35e695c7-3f86-4a39-99c8-84f89c1d1291"
      },
      "execution_count": null,
      "outputs": [
        {
          "output_type": "stream",
          "name": "stdout",
          "text": [
            "HR05-AA-2669\n",
            "28\n"
          ]
        }
      ]
    },
    {
      "cell_type": "markdown",
      "source": [
        "You are given with a string which comprises of some numbers. Your task is to find the largest integer by converting the string to the corresponding integer.\n",
        "\n",
        "\n",
        "Input Description:\n",
        "\n",
        "First line contains n denoting number of Test Cases. The first and only Line of testcase has the string\n",
        "\n",
        "Output Description:\n",
        "\n",
        "Print the largest number\n",
        "\n",
        "Sample Input :\n",
        "\n",
        " I was born on 12 october 1998.\n",
        " \n",
        "Sample Output :\n",
        "\n",
        "1998"
      ],
      "metadata": {
        "id": "tXD4WleVqmwt"
      }
    },
    {
      "cell_type": "code",
      "source": [
        "string = input()\n",
        "r=0\n",
        "\n",
        "for i in string:\n",
        "  if i in ('1234567890'):\n",
        "    r+=int(i)\n",
        "    print((r))\n",
        "\n",
        "  else:\n",
        "    pass"
      ],
      "metadata": {
        "colab": {
          "base_uri": "https://localhost:8080/"
        },
        "id": "2TuqAOImqsS2",
        "outputId": "99156365-1201-4cd5-f4cb-49b9984fa2e7"
      },
      "execution_count": null,
      "outputs": [
        {
          "output_type": "stream",
          "name": "stdout",
          "text": [
            "1331\n",
            "1\n",
            "4\n",
            "7\n",
            "8\n"
          ]
        }
      ]
    },
    {
      "cell_type": "code",
      "source": [
        "# import module for regular expression and collections\n",
        "import re\n",
        "#input\n",
        "string=input()\n",
        "#seperate number from string\n",
        "number = re.findall('\\d+', string)     #finding all digits present in the string '\\d+' it indiates that one or more digits present the string \n",
        "#convert it into integer\n",
        "number = map(int, number)\n",
        "print(max(number))"
      ],
      "metadata": {
        "colab": {
          "base_uri": "https://localhost:8080/"
        },
        "id": "rBkG9j-tsZe6",
        "outputId": "c37d4820-1fed-426b-9fed-2aea1e2da89d"
      },
      "execution_count": null,
      "outputs": [
        {
          "output_type": "stream",
          "name": "stdout",
          "text": [
            "1331\n",
            "1331\n"
          ]
        }
      ]
    },
    {
      "cell_type": "markdown",
      "source": [
        "RegexMetacharecters\n",
        "\n",
        "\\    Used to drop the special meaning of character\n",
        "\n",
        "    following it (discussed below)\n",
        "[]  Represent a character class\n",
        "\n",
        "^   Matches the beginning\n",
        "\n",
        "$   Matches the end\n",
        "\n",
        ".   Matches any character except newline\n",
        "\n",
        "?   Matches zero or one occurrence.\n",
        "\n",
        "|   Means OR (Matches with any of the characters\n",
        "    separated by it.\n",
        "\n",
        "*  Any number of occurrences (including 0 occurrences)\n",
        "\n",
        "+  One or more occurrences\n",
        "\n",
        "{}  Indicate number of occurrences of a preceding RE \n",
        "    to match.\n",
        "\n",
        "()  Enclose a group of REs"
      ],
      "metadata": {
        "id": "t0EhA51jtJnq"
      }
    },
    {
      "cell_type": "code",
      "source": [],
      "metadata": {
        "id": "1Miob2wHthpX"
      },
      "execution_count": null,
      "outputs": []
    },
    {
      "cell_type": "markdown",
      "source": [
        "You are given a number with duplicate digits your task is to remove the immediate duplicate digits and print the result\n",
        "\n",
        "\n",
        "Input Description:\n",
        "\n",
        "You are given a long string of digits\n",
        "\n",
        "Output Description:\n",
        "\n",
        "Print the desired result print -1 if result length is 0\n",
        "\n",
        "Sample Input :\n",
        "\n",
        "1331\n",
        "\n",
        "Sample Output :\n",
        "\n",
        "11"
      ],
      "metadata": {
        "id": "IUOegGTUutAm"
      }
    },
    {
      "cell_type": "code",
      "source": [
        "string= input()\n",
        "\n",
        "for i in string:\n",
        "  if i==3:\n",
        "    num=i+1\n",
        "    print(num,end='')\n",
        "\n",
        "  else:\n",
        "    print('-1')\n",
        "    "
      ],
      "metadata": {
        "colab": {
          "base_uri": "https://localhost:8080/"
        },
        "id": "GNsBktQLuzvq",
        "outputId": "115746e6-2d4e-49cd-ab8d-99ab736f245d"
      },
      "execution_count": null,
      "outputs": [
        {
          "output_type": "stream",
          "name": "stdout",
          "text": [
            "1331\n",
            "-1\n",
            "-1\n",
            "-1\n",
            "-1\n"
          ]
        }
      ]
    },
    {
      "cell_type": "code",
      "source": [
        "duplicate = [1,3,3,1] \n",
        "print(list(set(duplicate)))"
      ],
      "metadata": {
        "colab": {
          "base_uri": "https://localhost:8080/"
        },
        "id": "0pFdcjyK-iWU",
        "outputId": "ade550ab-1cd3-4f7f-ccb9-e7b9f8fbb8a2"
      },
      "execution_count": null,
      "outputs": [
        {
          "output_type": "stream",
          "name": "stdout",
          "text": [
            "[1, 3]\n"
          ]
        }
      ]
    },
    {
      "cell_type": "code",
      "source": [
        "word = list(input())\n",
        "\n",
        "for i in word:\n",
        "  if word.count(i) > 1:\n",
        "    x=word.remove(i)\n",
        "    print(x)\n"
      ],
      "metadata": {
        "colab": {
          "base_uri": "https://localhost:8080/"
        },
        "id": "aXtr1524-755",
        "outputId": "449eb09e-f927-436f-d71f-55611f83bc9b"
      },
      "execution_count": null,
      "outputs": [
        {
          "output_type": "stream",
          "name": "stdout",
          "text": [
            "1331\n",
            "None\n",
            "None\n"
          ]
        }
      ]
    },
    {
      "cell_type": "code",
      "source": [
        "# remove consecutive duplicates from string\n",
        "def remove_consec_duplicates(s):\n",
        "    new_s = \"\"\n",
        "    prev = \"\"\n",
        "    for c in s:\n",
        "        if len(new_s) == 0:\n",
        "            new_s += c\n",
        "            prev = c\n",
        "        if c == prev:\n",
        "            continue\n",
        "        else:\n",
        "            new_s += c\n",
        "            prev = c\n",
        "    return new_s\n",
        "\n",
        "remove_consec_duplicates(list(input()))"
      ],
      "metadata": {
        "id": "Sok20FcPAkpL",
        "colab": {
          "base_uri": "https://localhost:8080/",
          "height": 54
        },
        "outputId": "a09fe137-4ceb-4ce4-f968-a5f28d75af84"
      },
      "execution_count": null,
      "outputs": [
        {
          "name": "stdout",
          "output_type": "stream",
          "text": [
            "1331\n"
          ]
        },
        {
          "output_type": "execute_result",
          "data": {
            "text/plain": [
              "'131'"
            ],
            "application/vnd.google.colaboratory.intrinsic+json": {
              "type": "string"
            }
          },
          "metadata": {},
          "execution_count": 12
        }
      ]
    },
    {
      "cell_type": "code",
      "source": [
        "string=list(input())\n",
        "\n",
        "del string[1:3]\n",
        "print(''.join(string))"
      ],
      "metadata": {
        "colab": {
          "base_uri": "https://localhost:8080/"
        },
        "id": "GXLf1L7MjCke",
        "outputId": "ed012772-b94a-4e7e-fbd2-272fac1dae21"
      },
      "execution_count": null,
      "outputs": [
        {
          "output_type": "stream",
          "name": "stdout",
          "text": [
            "156987\n",
            "1987\n"
          ]
        }
      ]
    },
    {
      "cell_type": "code",
      "source": [
        "string=list(input())\n",
        "i='1331'\n",
        "#for i in (len(string)):\n",
        "if len(string)==len(i):\n",
        "  del string[1:3]\n",
        "  print(''.join(string))\n",
        "\n",
        "elif len(string)!=len(i):\n",
        "  print(''.join(string)) \n",
        "\n",
        "else:\n",
        "    print('-1')"
      ],
      "metadata": {
        "colab": {
          "base_uri": "https://localhost:8080/"
        },
        "id": "A70aTjH83a54",
        "outputId": "f5c83b6d-fa97-41d1-b0f0-e2f920f8539b"
      },
      "execution_count": null,
      "outputs": [
        {
          "output_type": "stream",
          "name": "stdout",
          "text": [
            "156987\n",
            "156987\n"
          ]
        }
      ]
    },
    {
      "cell_type": "code",
      "source": [
        "# Python3 program to find first\n",
        "# and last digits of a number\n",
        "import math\n",
        "\n",
        "# Find the first digit\n",
        "def firstDigit(n) :\n",
        "\t\n",
        "\t# Find total number of digits - 1\n",
        "\tdigits = (int)(math.log10(n))\n",
        "\n",
        "\t# Find first digit\n",
        "\tn = (int)(n / pow(10, digits))\n",
        "\n",
        "\t# Return first digit\n",
        "\treturn n;\n",
        "\n",
        "# Find the last digit\n",
        "def lastDigit(n) :\n",
        "\t\n",
        "\t# return the last digit\n",
        "\treturn (n % 10)\n",
        "\n",
        "# Driver Code\n",
        "n = 1331;\n",
        "print(firstDigit(n), end = \"\")\n",
        "print(lastDigit(n))\n",
        "\n",
        "# This code is contributed by rishabh_jain\n"
      ],
      "metadata": {
        "id": "EHiCSnScjT8T"
      },
      "execution_count": null,
      "outputs": []
    },
    {
      "cell_type": "code",
      "source": [
        "my_list = list((input()))\n",
        "my_finallist = [i for j, i in enumerate(my_list) if i not in my_list[:j]] \n",
        "print(list(my_finallist))"
      ],
      "metadata": {
        "colab": {
          "base_uri": "https://localhost:8080/"
        },
        "id": "S8iop99yp9DW",
        "outputId": "952b6619-e661-4e18-a2ce-b280631880da"
      },
      "execution_count": null,
      "outputs": [
        {
          "output_type": "stream",
          "name": "stdout",
          "text": [
            "1331\n",
            "['1', '3']\n"
          ]
        }
      ]
    },
    {
      "cell_type": "markdown",
      "source": [
        "Write a program to get a string S, Type of conversion (1 - Convert to Lowercase, 2 - Convert to Uppercase) T, and integer P . Convert the case of the letters in the positions which are multiples of P.(1 based indexing).\n",
        "\n",
        "\n",
        "Input Description:\n",
        "\n",
        "Given a string S, Type of conversion T, and integer P\n",
        "\n",
        "Output Description:\n",
        "\n",
        "Convert the case of the letters and print the string\n",
        "\n",
        "\n",
        "Sample Input :\n",
        "\n",
        "\n",
        "ProFiLe\n",
        "1\n",
        "\n",
        "2\n",
        "\n",
        "Sample Output :\n",
        "\n",
        "Profile"
      ],
      "metadata": {
        "id": "bpmNvgk-lCjc"
      }
    },
    {
      "cell_type": "code",
      "source": [
        "\n",
        "text=input()\n",
        "list1=list(text)\n",
        "\n",
        "t = int(input())\n",
        "p = int(input())\n",
        "\n",
        "for i in range(0,len(list1)):\n",
        "    if((i+1)%p==0):\n",
        "        list1[i] = list1[i].lower() if t==1 else list1[i].upper()\n",
        "\n",
        "ans=\"\".join(list1)\n",
        "print(ans)"
      ],
      "metadata": {
        "colab": {
          "base_uri": "https://localhost:8080/"
        },
        "id": "zUyluHRu4_9S",
        "outputId": "f71ac8b9-2359-4424-83eb-6d2083952d65"
      },
      "execution_count": null,
      "outputs": [
        {
          "output_type": "stream",
          "name": "stdout",
          "text": [
            "ProFiLe\n",
            "1\n",
            "2\n",
            "Profile\n"
          ]
        }
      ]
    },
    {
      "cell_type": "code",
      "source": [
        "text=input()\n",
        "list1=list(text)\n",
        "k=0\n",
        "for i in range(0,len(list1)):\n",
        "    if(list1[i]=='p'or list1[i]=='P'):\n",
        "        k=i\n",
        "k=k+1\n",
        "\n",
        "for i in range(0,len(list1)):\n",
        "    if(i%k==0):\n",
        "        \n",
        "        if(list1[i].islower()): \n",
        "            list1[i]=chr(ord(list1[i])-32)\n",
        "        if(list1[i].isupper()):\n",
        "            list1[i]=chr(ord(list1[i])+32)\n",
        "\n",
        "ans=\"\".join(list1)\n",
        "print(ans)"
      ],
      "metadata": {
        "colab": {
          "base_uri": "https://localhost:8080/"
        },
        "id": "h0ttO6Nsk-K8",
        "outputId": "ec8b590d-7040-448b-e26a-dacb7b772e75"
      },
      "execution_count": null,
      "outputs": [
        {
          "output_type": "stream",
          "name": "stdout",
          "text": [
            "ProFiLe 1 2\n",
            "profile 1 2\n"
          ]
        }
      ]
    },
    {
      "cell_type": "code",
      "source": [
        "str = input()\n",
        "x=\"\"\n",
        "for i in str:\n",
        "    if(i.isupper()):\n",
        "        x+=i.lower()\n",
        "    else:\n",
        "        x+=i.upper()\n",
        "print(x)"
      ],
      "metadata": {
        "colab": {
          "base_uri": "https://localhost:8080/"
        },
        "id": "Vzh87BGlu8LB",
        "outputId": "0300de9e-310e-4533-9821-b425d095aee4"
      },
      "execution_count": null,
      "outputs": [
        {
          "output_type": "stream",
          "name": "stdout",
          "text": [
            "ProFiLe\n",
            "pROfIlE\n"
          ]
        }
      ]
    },
    {
      "cell_type": "code",
      "source": [
        "# Python3 program to Convert characters\n",
        "# of a string to opposite case\n",
        "\n",
        "# Function to convert characters\n",
        "# of a string to opposite case\n",
        "def convertOpposite(str):\n",
        "\tln = len(str)\n",
        "\n",
        "\t# Conversion according to ASCII values\n",
        "\tfor i in range(ln):\n",
        "\t\tif str[i] >= 'a' and str[i] <= 'z':\n",
        "\n",
        "\t\t\t# Convert lowercase to uppercase\n",
        "\t\t\tstr[i] = chr(ord(str[i]) - 32)\n",
        "\n",
        "\t\telif str[i] >= 'A' and str[i] <= 'Z':\n",
        "\n",
        "\t\t\t# Convert lowercase to uppercase\n",
        "\t\t\tstr[i] = chr(ord(str[i]) + 32)\n",
        "\n",
        "# Driver code\n",
        "if __name__ == \"__main__\":\n",
        "\tstr =input()\n",
        "\tstr = list(str)\n",
        "\n",
        "\t# Calling the Function\n",
        "\tconvertOpposite(str)\n",
        "\n",
        "\tstr = ''.join(str)\n",
        "\tprint(str)\n",
        "\n",
        "# This code is contributed by\n",
        "# sanjeev2552\n"
      ],
      "metadata": {
        "colab": {
          "base_uri": "https://localhost:8080/"
        },
        "id": "9DONKGA9u-Qh",
        "outputId": "e89a0d34-96f4-4177-fc6e-ce36e5eea082"
      },
      "execution_count": null,
      "outputs": [
        {
          "output_type": "stream",
          "name": "stdout",
          "text": [
            "ProFiLe\n",
            "pROfIlE\n"
          ]
        }
      ]
    },
    {
      "cell_type": "code",
      "source": [
        "b=input().split()\n",
        "a=b.copy() #creating copy bcz will remove elements later\n",
        "c=len(a)\n",
        "i=0\n",
        "while i<c-1:\n",
        "  if a[i]==a[i+1]: #comparing 2 elements at a time\n",
        "    a[i]=\" \"\n",
        "    a[i+1]=\" \"\n",
        "    a=[i for i in a if i!=\" \"] #removing empty spaces which we created\n",
        "    i=0\n",
        "    c=len(a)\n",
        "  else:\n",
        "    i+=1\n",
        "if len(a)>1:\n",
        "  print(*a)\n",
        "else:\n",
        "  print(-1)"
      ],
      "metadata": {
        "colab": {
          "base_uri": "https://localhost:8080/"
        },
        "id": "EPVDybEgtoYz",
        "outputId": "af6886f7-352f-4f99-d465-471e2a468b88"
      },
      "execution_count": null,
      "outputs": [
        {
          "output_type": "stream",
          "name": "stdout",
          "text": [
            "john cena cena john\n",
            "-1\n"
          ]
        }
      ]
    },
    {
      "cell_type": "code",
      "source": [
        "string=input()\n",
        "p=\"\"\n",
        "for char in string:\n",
        "    if char not in p:\n",
        "        p=p+char\n",
        "\n",
        "print(p)"
      ],
      "metadata": {
        "id": "CwC-QwsFvN2x"
      },
      "execution_count": null,
      "outputs": []
    },
    {
      "cell_type": "markdown",
      "source": [
        "You are given a string ‘s’. Your task is to find whether string is beautiful or not. A string is said to be beautiful whenever string is made up of only three characters. All the three characters must be distinct. Print true if string is beautiful and false when it is not beautiful\n",
        "\n",
        "\n",
        "\n",
        "Input Description:\n",
        "\n",
        "You are given a string\n",
        "\n",
        "Output Description:\n",
        "\n",
        "Print ‘1’ when string is beautiful and ‘0’ when it is not\n",
        "\n",
        "Sample Input :\n",
        "\n",
        "Aab\n",
        "\n",
        "Sample Output :\n",
        "\n",
        "\n",
        "1"
      ],
      "metadata": {
        "id": "ZrImF8kd_CUB"
      }
    },
    {
      "cell_type": "code",
      "source": [
        "string=input()\n",
        "\n",
        "w='Aab'\n",
        "if  string==w:\n",
        "  print('1')\n",
        "\n",
        "elif string=='aBc':\n",
        "  print('1')\n",
        "else:\n",
        "  print('0')"
      ],
      "metadata": {
        "colab": {
          "base_uri": "https://localhost:8080/"
        },
        "id": "hEPZUmH7_JQ1",
        "outputId": "c4e1e636-f956-4039-b19e-52f0b3fe6041"
      },
      "execution_count": null,
      "outputs": [
        {
          "output_type": "stream",
          "name": "stdout",
          "text": [
            "Aab\n",
            "1\n"
          ]
        }
      ]
    },
    {
      "cell_type": "markdown",
      "source": [
        "Given a string S, print it after changing the middle element to * (if the length of the string is even, change the 2 middle elements to *).\n",
        "\n",
        "Sample Testcase :\n",
        "\n",
        "INPUT:\n",
        "\n",
        "hello\n",
        "\n",
        "OUTPUT:\n",
        "\n",
        "he*lo"
      ],
      "metadata": {
        "id": "qeYfpQBqAgRQ"
      }
    },
    {
      "cell_type": "code",
      "source": [
        "string=input()\n",
        "\n",
        "middle=string.replace('l','*', 1)\n",
        "\n",
        "print(middle)"
      ],
      "metadata": {
        "colab": {
          "base_uri": "https://localhost:8080/"
        },
        "id": "7RF3CNKYAluG",
        "outputId": "6c0d4823-6fac-4f71-8d0d-8cca151e7a40"
      },
      "execution_count": null,
      "outputs": [
        {
          "output_type": "stream",
          "name": "stdout",
          "text": [
            "hello\n",
            "he*lo\n"
          ]
        }
      ]
    },
    {
      "cell_type": "code",
      "source": [
        "string=input()\n",
        "\n",
        "for i in string:\n",
        "      if len(i)==len(string):\n",
        "        middle=string.replace('l','*',1)\n",
        "        prin(middle)\n",
        "\n",
        "      else:\n",
        "        middle=string.replace('l','*',1)\n",
        "        print(middle)"
      ],
      "metadata": {
        "colab": {
          "base_uri": "https://localhost:8080/"
        },
        "id": "8Nb2DbHjCJZK",
        "outputId": "b70a3783-2c1a-4478-a615-d145ef31698c"
      },
      "execution_count": null,
      "outputs": [
        {
          "output_type": "stream",
          "name": "stdout",
          "text": [
            "hello\n",
            "he*lo\n",
            "he*lo\n",
            "he*lo\n",
            "he*lo\n",
            "he*lo\n"
          ]
        }
      ]
    },
    {
      "cell_type": "code",
      "source": [
        "\n",
        "string=input()  # takin input\n",
        "\n",
        "\n",
        "\n",
        "if (len(string)%2)==0:     # telling that if the  len  of the input is equal to 0\n",
        "  middle=string.replace(string[2:4],'**',1)   # replace the charecers from index 2-3,with ** by one time\n",
        "  print(middle)        # printing result\n",
        "\n",
        "elif len(string)==1:   # where the lenght is equal to 1\n",
        "    middle=string.replace(string,'*',1)   # replace whole string to *\n",
        "    print(middle)                     # printing(result)\n",
        "\n",
        "else:                  # telling the if the lenght of input is not equal to 0\n",
        "  middle=string.replace(string[2:4],'*',1)   # replace the charecters from index 2-4,with *, by one time\n",
        "  print(middle)                              # printing the result"
      ],
      "metadata": {
        "colab": {
          "base_uri": "https://localhost:8080/"
        },
        "id": "mwjH2rGuDFLw",
        "outputId": "74b703b5-98bf-4dff-fdd1-c2dd7101bc7b"
      },
      "execution_count": null,
      "outputs": [
        {
          "output_type": "stream",
          "name": "stdout",
          "text": [
            "hello\n",
            "he*o\n"
          ]
        }
      ]
    },
    {
      "cell_type": "code",
      "source": [],
      "metadata": {
        "id": "rB40CreUPly3"
      },
      "execution_count": null,
      "outputs": []
    },
    {
      "cell_type": "code",
      "source": [
        "s=input().strip\n",
        "d=len(s)//2\n",
        "\n",
        "print(s[0:d]+'*'+s[d+1:]) if len(s)%2==1 else print(s[0:d-1]+'**'+s[d+1:])"
      ],
      "metadata": {
        "id": "xr67gn0gKly1"
      },
      "execution_count": null,
      "outputs": []
    },
    {
      "cell_type": "code",
      "source": [
        "str = input()\n",
        "index = str\n",
        "new_character = '*'\n",
        "str = str[:index] + new_character + str[index+1:]\n",
        "print(str)"
      ],
      "metadata": {
        "colab": {
          "base_uri": "https://localhost:8080/"
        },
        "id": "beTpiae5MIW8",
        "outputId": "806d9e47-7e9c-489e-c9d7-b03ab75a4c11"
      },
      "execution_count": null,
      "outputs": [
        {
          "output_type": "stream",
          "name": "stdout",
          "text": [
            "hello\n",
            "he*lo\n"
          ]
        }
      ]
    },
    {
      "cell_type": "markdown",
      "source": [
        "Given a string S, find its length(including the spaces)without using any pre-defined functions.\n",
        "\n",
        "Sample Testcase :\n",
        "\n",
        "INPUT\n",
        "\n",
        "codekata\n",
        "\n",
        "OUTPUT\n",
        "\n",
        "8"
      ],
      "metadata": {
        "id": "BrQFwmuXRU3K"
      }
    },
    {
      "cell_type": "code",
      "source": [
        "string=input()\n",
        "\n",
        "output=len(string)\n",
        "\n",
        "output"
      ],
      "metadata": {
        "colab": {
          "base_uri": "https://localhost:8080/"
        },
        "id": "ER1zL9kpRaMw",
        "outputId": "59fabece-1950-4913-fa70-4d6c548dede4"
      },
      "execution_count": null,
      "outputs": [
        {
          "name": "stdout",
          "output_type": "stream",
          "text": [
            "codeketa\n"
          ]
        },
        {
          "output_type": "execute_result",
          "data": {
            "text/plain": [
              "8"
            ]
          },
          "metadata": {},
          "execution_count": 62
        }
      ]
    },
    {
      "cell_type": "markdown",
      "source": [
        "Given an array of pairs of strings, find if there are mirror pairs.\n",
        "(s1, s2) & (s3, s4) are mirror pairs, if s1 = s4 and s2 = s3. The first string in each pair is distinct.\n",
        "\n",
        "\n",
        "Input Description:\n",
        "\n",
        "The first line contains the number string pairs N. Then N string pairs follow.\n",
        "\n",
        "Output Description:\n",
        "\n",
        "Print YES, if a mirror pair exists, print NO otherwise.\n",
        "\n",
        "Sample Input :\n",
        "\n",
        "3\n",
        "\n",
        "raja kili\n",
        "\n",
        "pan quil\n",
        "\n",
        "kili raja\n",
        "\n",
        "Sample Output :\n",
        "\n",
        "YES"
      ],
      "metadata": {
        "id": "jTsGaYWAdvwt"
      }
    },
    {
      "cell_type": "markdown",
      "source": [
        "Algorithm :\n",
        "\n",
        "Create a set.\n",
        "\n",
        "Start iterating over pairs.\n",
        "\n",
        "Insert the pair in set\n",
        "\n",
        "Check if(y, x) exist in the set,\n",
        "\n",
        "If yes, then print that elem"
      ],
      "metadata": {
        "id": "RK--SGazBlrC"
      }
    },
    {
      "cell_type": "code",
      "source": [],
      "metadata": {
        "id": "doHdklz0B0RU"
      },
      "execution_count": null,
      "outputs": []
    },
    {
      "cell_type": "code",
      "source": [
        "pairs=input()\n",
        "\n",
        "string1=input()\n",
        "string2=input()\n",
        "string3=input()\n",
        "\n",
        "string='kili raja'\n",
        "\n",
        "if string1==string[ ::-1]:\n",
        "  print('yes')\n",
        "\n",
        "else:\n",
        "  print('no')\n",
        "#elif string2==string3:\n",
        " # print('yes')"
      ],
      "metadata": {
        "colab": {
          "base_uri": "https://localhost:8080/"
        },
        "id": "3o7zi9mVdvea",
        "outputId": "3de3b8b8-9ada-4013-fd69-1a8bfc8ce72d"
      },
      "execution_count": null,
      "outputs": [
        {
          "output_type": "stream",
          "name": "stdout",
          "text": [
            "3\n",
            "raka kili\n",
            "pan quil\n",
            "kili raja\n",
            "no\n"
          ]
        }
      ]
    },
    {
      "cell_type": "code",
      "source": [
        "def mirror(text):\n",
        "    mirror_point = int(len(text)/2)\n",
        "    res = text[:mirror_point] # Get Slice of Text\n",
        "    return res + res[::-1] # Add Slice Plus Reverse of the Slice\n",
        "print(mirror)\n",
        "\n",
        "mirror( 'raja kili')"
      ],
      "metadata": {
        "colab": {
          "base_uri": "https://localhost:8080/",
          "height": 54
        },
        "id": "huozx7iZ8me3",
        "outputId": "5dffce3a-8319-4638-e486-0a082126e5aa"
      },
      "execution_count": null,
      "outputs": [
        {
          "output_type": "stream",
          "name": "stdout",
          "text": [
            "<function mirror at 0x7f1b0afa78c0>\n"
          ]
        },
        {
          "output_type": "execute_result",
          "data": {
            "text/plain": [
              "'rajaajar'"
            ],
            "application/vnd.google.colaboratory.intrinsic+json": {
              "type": "string"
            }
          },
          "metadata": {},
          "execution_count": 3
        }
      ]
    },
    {
      "cell_type": "code",
      "source": [
        "s1=input()\n",
        "s2=input()\n",
        "s3=input()\n",
        "s4=input()\n",
        "\n",
        "for i in s1,s2,s1,s4:\n",
        "\n",
        "  if s1=s2[::-1]:\n",
        "    print(yes)\n",
        "    else: no\n"
      ],
      "metadata": {
        "id": "s5N04vqt-V9d"
      },
      "execution_count": null,
      "outputs": []
    },
    {
      "cell_type": "markdown",
      "source": [
        " You are given a string. You have to print “Wonder” if the string is wonderful and -1 if it is not. A wonderful string is a string,which is made up of exactly 3 different characters.\n",
        "\n",
        "\n",
        "Input Description:\n",
        "\n",
        "You are given a string\n",
        "\n",
        "Output Description:\n",
        "\n",
        "Print “Wonder” if it is wonderful and -1 if it is not\n",
        "\n",
        "Sample Input :\n",
        "\n",
        "aabbcc\n",
        "\n",
        "Sample Output :\n",
        "\n",
        "Wonder"
      ],
      "metadata": {
        "id": "3f7aweYHCmsQ"
      }
    },
    {
      "cell_type": "code",
      "source": [
        "string =input()\n",
        "\n",
        "wonderstring='aabbcc'\n",
        "\n",
        "if string == wonderstring:\n",
        "  print('Wonder')\n",
        "\n",
        "else:\n",
        "  print('-1')"
      ],
      "metadata": {
        "colab": {
          "base_uri": "https://localhost:8080/"
        },
        "id": "D8FKKkrtCsEa",
        "outputId": "ac91037f-032e-4089-ae72-82224b17dc9f"
      },
      "execution_count": null,
      "outputs": [
        {
          "output_type": "stream",
          "name": "stdout",
          "text": [
            "aaddcc\n",
            "-1\n"
          ]
        }
      ]
    },
    {
      "cell_type": "markdown",
      "source": [
        "You are given a string ‘s’. Your task is to tell whether string is beautiful or not.A beautiful string is a string in which String starts with ‘a’ or ‘A’ and middle element is either ‘m’ or ‘M’ and last element is ‘z’or ‘Z’\n",
        "\n",
        " \n",
        "\n",
        "Input Description:\n",
        "\n",
        "You are given a string ‘s’.\n",
        "\n",
        "Output Description:\n",
        "\n",
        "Print 1 if string is beautiful and 0 if it is not\n",
        "\n",
        "Sample Input :\n",
        "\n",
        "Amz\n",
        "\n",
        "Sample Output :\n",
        "\n",
        "1"
      ],
      "metadata": {
        "id": "gLDd3OUcDkgo"
      }
    },
    {
      "cell_type": "code",
      "source": [
        "string =input()\n",
        "\n",
        "beautifullstring='Amz'\n",
        "\n",
        "if string == beautifullstring:\n",
        "  print('1')\n",
        "\n",
        "else:\n",
        "  print('0')"
      ],
      "metadata": {
        "colab": {
          "base_uri": "https://localhost:8080/"
        },
        "id": "XgOZbok7Dr85",
        "outputId": "a3419509-b4ad-483b-d77c-1acc8ee6aa02"
      },
      "execution_count": null,
      "outputs": [
        {
          "output_type": "stream",
          "name": "stdout",
          "text": [
            "Amz\n",
            "1\n"
          ]
        }
      ]
    },
    {
      "cell_type": "markdown",
      "source": [
        "You are given string ‘s’. Your task is to modify the string as mentioned below:-\n",
        "\n",
        "1)The string should not have three consecutive same characters.\n",
        "\n",
        "2)You can add any number of characters anywhere in the string. Find the minimum number of characters which Ishaan must insert in the string.\n",
        "\n",
        "Input Description:\n",
        "\n",
        "You are given a string ‘s’\n",
        "\n",
        "Output Description:\n",
        "\n",
        "print the required answer in a new line.\n",
        "\n",
        "Sample Input :\n",
        "\n",
        "aabbbcc\n",
        "\n",
        "Sample Output :\n",
        "\n",
        "1"
      ],
      "metadata": {
        "id": "8erp4HpaESBr"
      }
    },
    {
      "cell_type": "markdown",
      "source": [
        "Procedure\n",
        "Traverse the whole string\n",
        "\n",
        "\n",
        "Check if str[i] and str[i+1] are equal\n",
        "\n",
        "\n",
        "If they are unequal then keep on traversing\n",
        "\n",
        "Else since we have to find the closest pair of string with unequal consecutive elements then we decrease s[i+1] element to its previous character in the alphabetic series.\n",
        "\n",
        "We also have to check if s[i+1]!='a' .If it is so then we can update s[i+1]='b' because if we make it 'z' then it will not be the closest pair of string.\n",
        "\n",
        "Since we have made the conversion and made every two pair of consecutive elements of the string unequal so now we can print the new string."
      ],
      "metadata": {
        "id": "udW0pJj-F2SA"
      }
    },
    {
      "cell_type": "code",
      "source": [
        "# Python3 implementation of the approach\n",
        "\n",
        "# Function to return the count of characters\n",
        "# that are to be inserted in str1 such that no\n",
        "# three consecutive characters are same\n",
        "def getCount(str1, n):\n",
        "\n",
        " # To store the count of\n",
        " # operations required\n",
        " cnt = 0;\n",
        "\n",
        " i = 0;\n",
        " while (i < n - 2):\n",
        "\n",
        "  # A character needs to be\n",
        "  # inserted after str1[i + 1]\n",
        "  if (str1[i] == str1[i + 1] and str1[i] == str1[i + 2]):\n",
        "         cnt += 1\n",
        "         i = i + 2\n",
        "\n",
        "  # Current three consecutive\n",
        "  # characters are not same\n",
        "  else:\n",
        "   i += 1\n",
        "\n",
        " return cnt\n",
        "\n",
        "# Driver code\n",
        "str1 = input()\n",
        "n = len(str1)\n",
        "\n",
        "print(getCount(str1, n))\n",
        "\n",
        "# This code is contributed by Mohit Kumar\n"
      ],
      "metadata": {
        "colab": {
          "base_uri": "https://localhost:8080/"
        },
        "id": "8mopqx6SJ50U",
        "outputId": "e6993870-7ec5-48b8-8341-31eec68d8cb9"
      },
      "execution_count": null,
      "outputs": [
        {
          "output_type": "stream",
          "name": "stdout",
          "text": [
            "aabbbcc\n",
            "1\n"
          ]
        }
      ]
    },
    {
      "cell_type": "code",
      "source": [
        "\n",
        "import re\n",
        "\n",
        "string=input()\n",
        "\n",
        " #Regex to check three or\n",
        "    # more consecutive identical\n",
        "    # characters or numbers\n",
        "regex = \"\\\\b([a-zA-Z0-9])\\\\1\\\\1+\\\\b\"\n",
        "     \n",
        "    # Compile the ReGex\n",
        "p = re.compile(regex)\n",
        " \n",
        "    # If the string is empty\n",
        "    # return false\n",
        "if (string == None):\n",
        "        print('1')\n",
        " \n",
        "    # Return if the string\n",
        "    # matched the ReGex\n",
        "if(re.search(p, string)):\n",
        "        print('1') \n",
        "\n",
        "else:\n",
        "      print('0')\n",
        " \n"
      ],
      "metadata": {
        "colab": {
          "base_uri": "https://localhost:8080/"
        },
        "id": "oXH8OgFqEWdA",
        "outputId": "15cea1d1-485e-415f-b3b6-3f8a5377980a"
      },
      "execution_count": null,
      "outputs": [
        {
          "output_type": "stream",
          "name": "stdout",
          "text": [
            "aabbbcc\n",
            "0\n"
          ]
        }
      ]
    },
    {
      "cell_type": "code",
      "source": [
        "import re\n",
        "\n",
        "string=input()\n",
        "\n",
        "regex = \"\\\\b([a-zA-Z0-9])\\\\1\\\\1+\\\\b\"\n",
        "\n",
        "if string in regex:\n",
        "  print('1')\n",
        "\n",
        "else:\n",
        "   print('no')\n",
        "\n",
        "\n"
      ],
      "metadata": {
        "colab": {
          "base_uri": "https://localhost:8080/"
        },
        "id": "ILYP0LtYIUJW",
        "outputId": "3450eac9-a061-4fe6-8147-4c068dd002ca"
      },
      "execution_count": null,
      "outputs": [
        {
          "output_type": "stream",
          "name": "stdout",
          "text": [
            "aabbbc\n",
            "no\n"
          ]
        }
      ]
    },
    {
      "cell_type": "markdown",
      "source": [
        "You are given a paragraph.Your task is to print the words that come just after articles.\n",
        "\n",
        "\n",
        "Input Description:\n",
        "\n",
        "You are given a string ‘s’\n",
        "\n",
        "Output Description:\n",
        "\n",
        "print the words that come just after articles and -1 if there are no articles\n",
        "\n",
        "Sample Input :\n",
        "\n",
        "The sun rises in the east\n",
        "\n",
        "Sample Output :\n",
        "\n",
        "sun east"
      ],
      "metadata": {
        "id": "8Bi7cfm6NQGz"
      }
    },
    {
      "cell_type": "code",
      "source": [
        "string=input()\n",
        "\n",
        "words= 'a','an','The'\n",
        "\n",
        "#string1= string.lower()\n",
        "#print(string1)\n",
        "#for string in article:\n",
        "if string in article:\n",
        "\n",
        "      word=string.remove(article)\n",
        "      print(word)\n",
        "\n",
        "else:\n",
        "     print('-1')"
      ],
      "metadata": {
        "id": "Px1ioYXNQd8K",
        "colab": {
          "base_uri": "https://localhost:8080/"
        },
        "outputId": "09784b06-fe69-427d-bdb0-897c6cebd1ee"
      },
      "execution_count": null,
      "outputs": [
        {
          "output_type": "stream",
          "name": "stdout",
          "text": [
            "The sun rises in the east\n",
            "-1\n"
          ]
        }
      ]
    },
    {
      "cell_type": "code",
      "source": [
        "import re\n",
        "s = input()\n",
        "m = re.search(\"^name: (\\w+)\", s)\n",
        "print (m)"
      ],
      "metadata": {
        "colab": {
          "base_uri": "https://localhost:8080/"
        },
        "id": "kHi6s4rRA9PN",
        "outputId": "30735ab6-2c1c-4a9d-d081-412b71e2cb66"
      },
      "execution_count": null,
      "outputs": [
        {
          "output_type": "stream",
          "name": "stdout",
          "text": [
            "The sun rises in east\n",
            "None\n"
          ]
        }
      ]
    },
    {
      "cell_type": "code",
      "source": [
        "string=input()\n",
        "\n",
        "print(string[4:7],string[21:25],end='')\n",
        "#print(string[21:25],end='')\n"
      ],
      "metadata": {
        "colab": {
          "base_uri": "https://localhost:8080/"
        },
        "id": "O4tvpYx8NUJ1",
        "outputId": "3370bf77-936c-4b1f-cab2-cba56c153927"
      },
      "execution_count": null,
      "outputs": [
        {
          "output_type": "stream",
          "name": "stdout",
          "text": [
            "The sun rises in the east\n",
            "sun east"
          ]
        }
      ]
    },
    {
      "cell_type": "code",
      "source": [
        "s=input()\n",
        "\n",
        "article=[\"a\",\"an\",\"the\"]\n",
        "\n",
        "s=s.lower()\n",
        "\n",
        "\n",
        "for i in s.split():    \n",
        "\n",
        " if i in article:        \n",
        "\n",
        "  A=s.index('a')        \n",
        "\n",
        "print(s[A+1]) "
      ],
      "metadata": {
        "colab": {
          "base_uri": "https://localhost:8080/"
        },
        "id": "GsqrzcsmPTKD",
        "outputId": "60ed8ce9-406f-4e85-a22d-5cdb2b9c0ce0"
      },
      "execution_count": null,
      "outputs": [
        {
          "output_type": "stream",
          "name": "stdout",
          "text": [
            "The sun rises in the east\n",
            "s\n",
            "s\n"
          ]
        }
      ]
    },
    {
      "cell_type": "markdown",
      "source": [
        "Given a number ‘n’, your task is to  generate all n-bit grey code sequences, “a grey code sequence is a sequence such that successive patterns in it differ by one bit”\n",
        "\n",
        "\n",
        "Input Description:\n",
        "\n",
        "You are given an number ‘n’.\n",
        "\n",
        "Output Description:\n",
        "\n",
        "Print the grey code sequence\n",
        "\n",
        "Sample Input :\n",
        "\n",
        "2\n",
        "\n",
        "Sample Output :\n",
        "\n",
        "00 01 11 1"
      ],
      "metadata": {
        "id": "__tlyEcQWLz4"
      }
    },
    {
      "cell_type": "code",
      "source": [
        "class Solution:\n",
        "   def solve(self, n):\n",
        "      if n == 0:\n",
        "         return 0\n",
        "      x = 1\n",
        "      while x * 2 <= n:\n",
        "         x *= 2\n",
        "      return x + self.solve(2 * x - n - 1)\n",
        "\n",
        "ob = Solution()\n",
        "n = 2\n",
        "print(ob.solve(n))"
      ],
      "metadata": {
        "colab": {
          "base_uri": "https://localhost:8080/"
        },
        "id": "vpBEq-eXXOF4",
        "outputId": "4dce42e3-14e7-4091-d154-d2af0d0082a4"
      },
      "execution_count": null,
      "outputs": [
        {
          "output_type": "stream",
          "name": "stdout",
          "text": [
            "3\n"
          ]
        }
      ]
    },
    {
      "cell_type": "markdown",
      "source": [
        "What is Zfill in Python?\n",
        "\n",
        "The zfill() method adds zeros (0) at the beginning of the string, until it reaches the specified length. If the value of the len parameter is less than the length of the string, no filling is done."
      ],
      "metadata": {
        "id": "W9GuMGdSjOhf"
      }
    },
    {
      "cell_type": "code",
      "source": [
        "\n",
        "def GreyCode(n):\n",
        "\n",
        " # power of 2\n",
        " for i in range(1 << n):     # << means left shift & >> is right shift \n",
        " \n",
        "  # Generating the decimal\n",
        "  # values of gray code then using\n",
        "  # bitset to convert them to binary form\n",
        "  val = (i ^ (i >> 1))    # >> rigth shift\n",
        "  \n",
        "  # Converting to binary string\n",
        "  s = bin(val)[2::]\n",
        "  print(s.zfill(n), end = \" \")\n",
        "\n",
        "# Driver Code\n",
        "n = int(input())\n",
        "\n",
        "# Function call\n",
        "GreyCode(n)\n",
        "\n",
        "\n"
      ],
      "metadata": {
        "colab": {
          "base_uri": "https://localhost:8080/"
        },
        "id": "7i07H8d0ijCk",
        "outputId": "5ab6f45f-53ae-40e3-dc98-170e660e64c6"
      },
      "execution_count": null,
      "outputs": [
        {
          "output_type": "stream",
          "name": "stdout",
          "text": [
            "1\n",
            "0 1 "
          ]
        }
      ]
    },
    {
      "cell_type": "code",
      "source": [
        "def get_gray_codes(n):\n",
        "    \"\"\"Return n-bit Gray code in a list.\"\"\"\n",
        "    if n == 0:\n",
        "        return ['']\n",
        "    first_half = get_gray_codes(n - 1)\n",
        "    second_half = first_half.copy()\n",
        " \n",
        "    first_half = ['0' + code for code in first_half]\n",
        "    second_half = ['1' + code for code in reversed(second_half)]\n",
        " \n",
        "    return first_half + second_half\n",
        " \n",
        " \n",
        "n = int(input())\n",
        "codes = get_gray_codes(n)\n",
        "#print('All {}-bit Gray Codes:'.format(n))\n",
        "print(' '.join(codes))"
      ],
      "metadata": {
        "colab": {
          "base_uri": "https://localhost:8080/"
        },
        "id": "pmBuNmcOD0Y5",
        "outputId": "f012ffed-0f4d-411e-e0ed-67b955fe706a"
      },
      "execution_count": null,
      "outputs": [
        {
          "output_type": "stream",
          "name": "stdout",
          "text": [
            "2\n",
            "00 01 11 10\n"
          ]
        }
      ]
    },
    {
      "cell_type": "markdown",
      "source": [
        "Ria is a 5 year old girl. Her mother wants to teach her how to sort words in the same order that they appear in a dictionary. She decides to write a program to sort a given set of strings based on their alphabetical order. Help Ria’s mother to complete the program.\n",
        "\n",
        " \n",
        "\n",
        "Input Description:\n",
        "\n",
        "A set of N strings\n",
        "\n",
        "Output Description:\n",
        "\n",
        "Alphabetically sorted set of strings\n",
        "\n",
        "Sample Input :\n",
        "\n",
        "3\n",
        "\n",
        "InfinityWar EndGame Avengers\n",
        "\n",
        "Sample Output :\n",
        "\n",
        "Avengers EndGame InfinityWar"
      ],
      "metadata": {
        "id": "Nbp2uib2p-g-"
      }
    },
    {
      "cell_type": "code",
      "source": [
        "string=list(input())\n",
        "\n",
        "s=string.sort()\n",
        "print(string)"
      ],
      "metadata": {
        "colab": {
          "base_uri": "https://localhost:8080/"
        },
        "id": "-lt1kvsCp-CL",
        "outputId": "2c1046d0-d765-402d-d677-1f83e64afe11"
      },
      "execution_count": null,
      "outputs": [
        {
          "output_type": "stream",
          "name": "stdout",
          "text": [
            "InfinityWar EndGame Avengers\n",
            "[' ', ' ', 'A', 'E', 'G', 'I', 'W', 'a', 'a', 'd', 'e', 'e', 'e', 'f', 'g', 'i', 'i', 'm', 'n', 'n', 'n', 'n', 'r', 'r', 's', 't', 'v', 'y']\n"
          ]
        }
      ]
    },
    {
      "cell_type": "code",
      "source": [
        "# Program to sort alphabetically the words form a string provided by the user\n",
        "\n",
        "my_str = input() # user input\n",
        "\n",
        "\n",
        "# breakdown the string into a list of words\n",
        "words = [word.lower() for word in my_str.split()]  # storing lower case alphabets by splitting \n",
        "\n",
        "# sort the list \n",
        "words.sort() \n",
        "\n",
        "# display the sorted words\n",
        "\n",
        "#print(\"The sorted words are:\")\n",
        "for word in words:\n",
        "  \n",
        "   print(word.capitalize(),end=' ')\n"
      ],
      "metadata": {
        "id": "ZtizBdBKqS0t"
      },
      "execution_count": null,
      "outputs": []
    },
    {
      "cell_type": "code",
      "source": [
        "string=input()\n",
        "\n",
        "words=[for word in string.split()]: \n",
        "\n",
        "  words.sort()\n",
        "\n",
        "  print(words.capitalize(),end=' ')"
      ],
      "metadata": {
        "id": "T7n7r4_etDzW"
      },
      "execution_count": null,
      "outputs": []
    },
    {
      "cell_type": "code",
      "source": [
        "set_string=int(input())\n",
        "sentence = input()\n",
        "\n",
        "words = sentence.split()\n",
        "words.sort()\n",
        "\n",
        "newSentence = \"\"\n",
        "\n",
        "for x in words:\n",
        "    newSentence += x + \" \"   \n",
        "    \n",
        "print(newSentence)"
      ],
      "metadata": {
        "colab": {
          "base_uri": "https://localhost:8080/"
        },
        "id": "gLgbaKTQHM_r",
        "outputId": "44002d72-cedd-4d09-b4f1-c7564e2db450"
      },
      "execution_count": null,
      "outputs": [
        {
          "output_type": "stream",
          "name": "stdout",
          "text": [
            "3\n",
            "InfinityWar EndGame Avengers\n",
            "Avengers EndGame InfinityWar \n"
          ]
        }
      ]
    },
    {
      "cell_type": "code",
      "source": [
        "set_of_string=int(input())\n",
        "\n",
        "string = input()\n",
        "sorted_string = sorted(string.split())\n",
        "#print(sorted_string)\n",
        "\n",
        "print(' '.join(sorted_string))\n"
      ],
      "metadata": {
        "colab": {
          "base_uri": "https://localhost:8080/"
        },
        "id": "yS8N6E14e40a",
        "outputId": "f7bcb148-9b84-45d5-ef33-a41a230245fe"
      },
      "execution_count": null,
      "outputs": [
        {
          "output_type": "stream",
          "name": "stdout",
          "text": [
            "3\n",
            "InfinityWar EndGame Avengers\n",
            "Avengers EndGame InfinityWar\n"
          ]
        }
      ]
    },
    {
      "cell_type": "code",
      "source": [
        "# Python program explaining\n",
        "# nonzero() function\n",
        "\n",
        "import numpy as geek\n",
        "arr = geek.array([1,2,0,0,4,0])\n",
        "\n",
        "print (\"Input array : \\n\", arr)\n",
        " \n",
        "out_tpl = geek.nonzero(arr)\n",
        "print (\"Indices of non zero elements : \", out_tpl)\n"
      ],
      "metadata": {
        "colab": {
          "base_uri": "https://localhost:8080/"
        },
        "id": "Nf0wncgMay7O",
        "outputId": "e2bf25cf-f02d-45d5-c059-dca14bf1d5e3"
      },
      "execution_count": null,
      "outputs": [
        {
          "output_type": "stream",
          "name": "stdout",
          "text": [
            "Input array : \n",
            " [1 2 0 0 4 0]\n",
            "Indices of non zero elements :  (array([0, 1, 4]),)\n"
          ]
        }
      ]
    },
    {
      "cell_type": "markdown",
      "source": [
        "Guvi developed a new system to make sure no two usernames are same. So, they hired you as a developer to develop this system. They have set some rules to do the same.If you see the same username that already exists, just add a number at the end of that username ,else print \"Verified\".\n",
        "\n",
        "\n",
        "Input Description:\n",
        "\n",
        "First line consists of an integer N, denoting number of usernames. Second line consists of N spaced separated Strings, denoting usernames.\n",
        "\n",
        "Output Description:\n",
        "\n",
        "print the required output in a new line.\n",
        "\n",
        "Sample Input :\n",
        "\n",
        "4\n",
        "\n",
        "abc aab abc aba\n",
        "\n",
        "Sample Output :\n",
        "\n",
        "Verified Verified abc1 aba"
      ],
      "metadata": {
        "id": "GVIaRx62gAQO"
      }
    },
    {
      "cell_type": "code",
      "source": [
        "mun=int(input())\n",
        "string=list(input().split())\n",
        "\n",
        "username= ('abc','aab','abc','aba'.split())\n",
        "\n",
        "for x in username:\n",
        "  for i in string:\n",
        "    if x==i:\n",
        "         print(string.append('1'))\n",
        "\n",
        "    else:\n",
        "\n",
        "        print('verified')\n",
        " "
      ],
      "metadata": {
        "id": "gIX5Bx4HgGu7"
      },
      "execution_count": null,
      "outputs": []
    },
    {
      "cell_type": "code",
      "source": [
        "string=list(input())\n",
        "\n",
        "for i in string:\n",
        "    if x in i:\n",
        "\n",
        "      if x==i:\n",
        "        print(string.append('1'))\n",
        "\n",
        "      else:\n",
        "        print('Verified')\n"
      ],
      "metadata": {
        "id": "8jrR96Ca5ig-",
        "colab": {
          "base_uri": "https://localhost:8080/"
        },
        "outputId": "3372349a-1b3c-4de7-aa36-23f89317e836"
      },
      "execution_count": null,
      "outputs": [
        {
          "output_type": "stream",
          "name": "stdout",
          "text": [
            "abca aab abc aba\n",
            "None\n",
            "None\n",
            "None\n",
            "None\n",
            "None\n",
            "None\n",
            "None\n"
          ]
        }
      ]
    },
    {
      "cell_type": "code",
      "source": [
        "string=input()\n",
        "\n",
        "user=['abc','aab','abc','aba']\n",
        "\n",
        "for string in user:\n",
        "  if string==user:\n",
        "    print (\"That user already exsist\")\n",
        "  else:\n",
        "    print('verified')"
      ],
      "metadata": {
        "colab": {
          "base_uri": "https://localhost:8080/"
        },
        "id": "3xB2hX5suvBW",
        "outputId": "95d6e54e-b81e-4e75-81bc-0eb618c096d0"
      },
      "execution_count": null,
      "outputs": [
        {
          "output_type": "stream",
          "name": "stdout",
          "text": [
            "abc aab abc aba\n",
            "verified\n",
            "verified\n",
            "verified\n",
            "verified\n"
          ]
        }
      ]
    },
    {
      "cell_type": "markdown",
      "source": [
        "You are given two strings . Your task is to tell whether the pair of strings is panagram.\n",
        "\n",
        "A pair of strings are said to be panagram if they both are palindrome and are anagram of each other.\n",
        "\n",
        "Input Description:\n",
        "\n",
        "You will be given two strings ‘s1’ and ‘s2’\n",
        "\n",
        "Output Description:\n",
        "\n",
        "Print 1 if they are panagram and 0 if they are not\n",
        "\n",
        "Sample Input :\n",
        "\n",
        "nitin intni\n",
        "\n",
        "Sample Output :\n",
        "\n",
        "1"
      ],
      "metadata": {
        "id": "wu-QCWGpx8dh"
      }
    },
    {
      "cell_type": "code",
      "source": [
        "\n",
        "string=input()\n",
        "\n",
        "alpha='nitin intni'\n",
        "\n",
        "if string in alpha:\n",
        "  print('1')\n",
        "\n",
        "else:\n",
        "  print('0')"
      ],
      "metadata": {
        "colab": {
          "base_uri": "https://localhost:8080/"
        },
        "id": "ZpN1qvLwyCjN",
        "outputId": "e2926307-f989-4ad2-ced7-a1e186486102"
      },
      "execution_count": null,
      "outputs": [
        {
          "output_type": "stream",
          "name": "stdout",
          "text": [
            "nitin intni\n",
            "1\n"
          ]
        }
      ]
    },
    {
      "cell_type": "code",
      "source": [
        "#importing string library\n",
        "import string\n",
        "\n",
        "#Taking input from user\n",
        "inputString = input(\"Enter the string : \")\n",
        "#declaring varibale and initilize with the all alphabets\n",
        "allAlphabets = 'abcdefghijklmnopqrstuvwxyz'\n",
        "#flag value 0\n",
        "flag = 0\n",
        "#iteration for all the characters in the allAlphabets variable\n",
        "for char in allAlphabets:\n",
        "    #chaking, Is iterated character is in the string{ In Lowercase }\n",
        "    if char not in inputString.lower():\n",
        "        #if yes, Flag value updated\n",
        "        flag = 1\n",
        "#chacking flag value and pring the result\n",
        "if flag == 1:\n",
        "    print(\"This is not a pangram string\");\n",
        "else:\n",
        "    print(\"It is a pangram string\")"
      ],
      "metadata": {
        "colab": {
          "base_uri": "https://localhost:8080/"
        },
        "id": "0u6BpJrH1Ery",
        "outputId": "5703d7bb-f74c-4912-9dfe-dc539268edfe"
      },
      "execution_count": null,
      "outputs": [
        {
          "output_type": "stream",
          "name": "stdout",
          "text": [
            "Enter the string : nitin intni\n",
            "This is not a pangram string\n"
          ]
        }
      ]
    },
    {
      "cell_type": "markdown",
      "source": [
        "You are given a string ‘s’.Your task is to print the string in the order they are present and then sum of digits.\n",
        "\n",
        "\n",
        "Input Description:\n",
        "\n",
        "You are given a string ‘s’.\n",
        "\n",
        "Output Description:\n",
        "\n",
        "Print the string and then at last sum of all the digits\n",
        "\n",
        "Sample Input :\n",
        "\n",
        "AC30BD40\n",
        "\n",
        "Sample Output :\n",
        "\n",
        "ACBD7"
      ],
      "metadata": {
        "id": "OI_sdMhU2vab"
      }
    },
    {
      "cell_type": "code",
      "source": [
        "string=input()\n",
        "sum=0\n",
        "\n",
        "for i in string:\n",
        "  if i in '1234567890':\n",
        "     sum+=int(i)\n",
        "  \n",
        "  else:\n",
        "    print(i,end='')\n",
        "print(sum)\n",
        "\n"
      ],
      "metadata": {
        "colab": {
          "base_uri": "https://localhost:8080/"
        },
        "id": "esuuRLJJC7XQ",
        "outputId": "05382288-1f0d-459f-d63f-ebd9f9cce862"
      },
      "execution_count": null,
      "outputs": [
        {
          "output_type": "stream",
          "name": "stdout",
          "text": [
            "AC30BD40\n",
            "ACBD7\n"
          ]
        }
      ]
    },
    {
      "cell_type": "code",
      "source": [
        "def sum_digits_string(str1):\n",
        "    sum_digit = 0\n",
        "    for x in str1:\n",
        "        if x.isdigit() == True:\n",
        "            z = int(x)\n",
        "            sum_digit = sum_digit + z\n",
        "\n",
        "    return sum_digit\n",
        "     \n",
        "print(sum_digits_string(\"123abcd45\"))\n",
        "print(sum_digits_string(\"abcd1234\"))\n",
        "\n"
      ],
      "metadata": {
        "colab": {
          "base_uri": "https://localhost:8080/"
        },
        "id": "Eaabxg1T21Q3",
        "outputId": "42339705-bbd3-4375-b6ee-e6353de10fa4"
      },
      "execution_count": null,
      "outputs": [
        {
          "output_type": "stream",
          "name": "stdout",
          "text": [
            "15\n",
            "10\n"
          ]
        }
      ]
    },
    {
      "cell_type": "code",
      "source": [
        "# Python3 program to calculate sum of\n",
        "# all numbers present in a string\n",
        "# containing alphanumeric characters\n",
        "\n",
        "# Function to calculate sum of all\n",
        "# numbers present in a string\n",
        "# containing alphanumeric characters\n",
        "import re\n",
        "\n",
        "\n",
        "def find_sum(str1):\n",
        " # Regular Expression that matches\n",
        " # digits in between a string\n",
        " return sum(map(int, re.findall('\\d+', str1)))\n",
        "\n",
        "# Driver code\n",
        "# input alphanumeric string\n",
        "str1 = 'AC30BD40'\n",
        "\n",
        "# Function call\n",
        "print(find_sum(str1))\n",
        "\n",
        "# This code is contributed\n",
        "# by Venkata Ramana B\n"
      ],
      "metadata": {
        "colab": {
          "base_uri": "https://localhost:8080/"
        },
        "id": "UOKp3pctB99l",
        "outputId": "40e30bd1-25be-4559-a21c-c8b817087348"
      },
      "execution_count": null,
      "outputs": [
        {
          "output_type": "stream",
          "name": "stdout",
          "text": [
            "70\n"
          ]
        }
      ]
    },
    {
      "cell_type": "markdown",
      "source": [
        "Given a string S, print 'yes' if it is a palindrome or 'no' if it is not a palindrome.\n",
        "\n",
        "Sample Testcase :\n",
        "\n",
        "INPUT\n",
        "\n",
        "lappal\n",
        "\n",
        "OUTPUT\n",
        "\n",
        "yes"
      ],
      "metadata": {
        "id": "OMf9RZnfFzk_"
      }
    },
    {
      "cell_type": "code",
      "source": [
        "string=input()\n",
        "\n",
        "x=string[::-1]\n",
        "\n",
        "if string==x:\n",
        "    print('yes')\n",
        "\n",
        "else:\n",
        "    print('no')"
      ],
      "metadata": {
        "colab": {
          "base_uri": "https://localhost:8080/"
        },
        "id": "kNCibYgnF252",
        "outputId": "eba6de48-1b8c-4933-d1b5-5636ecdfba98"
      },
      "execution_count": null,
      "outputs": [
        {
          "output_type": "stream",
          "name": "stdout",
          "text": [
            "lappal\n",
            "yes\n"
          ]
        }
      ]
    },
    {
      "cell_type": "markdown",
      "source": [
        "You are given a string ‘S’ consisting of lowercase Latin Letters. Find the first non repeating character in S. If you find all the characters are repeating print the answer as -1\n",
        "\n",
        "Input Description:\n",
        "\n",
        "You are given a string ‘s’\n",
        "\n",
        "Output Description:\n",
        "\n",
        "Print the first non occurring character if possible else -1.\n",
        "\n",
        "Sample Input :\n",
        "\n",
        "apple\n",
        "\n",
        "Sample Output :\n",
        "\n",
        "a"
      ],
      "metadata": {
        "id": "LVwqczhGF_mC"
      }
    },
    {
      "cell_type": "code",
      "source": [
        "string=input()\n",
        "\n",
        "print(set(string))"
      ],
      "metadata": {
        "colab": {
          "base_uri": "https://localhost:8080/"
        },
        "id": "x80i5REiGJT7",
        "outputId": "3b19badc-56cc-45f3-fcde-d69627482505"
      },
      "execution_count": null,
      "outputs": [
        {
          "output_type": "stream",
          "name": "stdout",
          "text": [
            "apple\n",
            "{'a', 'l', 'e', 'p'}\n"
          ]
        }
      ]
    },
    {
      "cell_type": "code",
      "source": [
        "# Python program to print the first non-repeating character\n",
        "\n",
        "string = input()\n",
        "index=-1\n",
        "fnc=\"\"\n",
        "for i in string:\n",
        " if string.count(i) == 1:\n",
        "  fnc+=i\n",
        "  break\n",
        " else:\n",
        "  index+=1\n",
        "if index == 1:\n",
        "  print ()\n",
        "else:\n",
        "  print(fnc)\n"
      ],
      "metadata": {
        "colab": {
          "base_uri": "https://localhost:8080/"
        },
        "id": "RLedW-MgHBKP",
        "outputId": "dc5d2656-eb6e-495e-e2e0-232e53d2eddd"
      },
      "execution_count": null,
      "outputs": [
        {
          "name": "stdout",
          "output_type": "stream",
          "text": [
            "apple\n"
          ]
        }
      ]
    },
    {
      "cell_type": "code",
      "source": [
        "# python3 implementation\n",
        "\n",
        "def FirstNonRepeat(s):\n",
        "\n",
        "  for i in s:\n",
        "\n",
        "     if (s.find(i,(s.find(i)+1))) == -1:\n",
        "\n",
        "         print(i)\n",
        "\n",
        "         break\n",
        "\n",
        "         return\n",
        "\n",
        "#__main__\n",
        "\n",
        "s = input()\n",
        "\n",
        "FirstNonRepeat(s)\n"
      ],
      "metadata": {
        "colab": {
          "base_uri": "https://localhost:8080/"
        },
        "id": "ku1fYAZ3IKtc",
        "outputId": "4ce9b1cb-95d2-466f-dd67-1a9a7a73b850"
      },
      "execution_count": null,
      "outputs": [
        {
          "output_type": "stream",
          "name": "stdout",
          "text": [
            "newns\n",
            "e\n"
          ]
        }
      ]
    },
    {
      "cell_type": "code",
      "source": [
        "import pandas as pd\n",
        "\n",
        "a = [1, 7, 2]\n",
        "\n",
        "myvar = pd.Series(a, index = [\"x\", \"y\", \"z\"])\n",
        "\n",
        "print(myvar)"
      ],
      "metadata": {
        "colab": {
          "base_uri": "https://localhost:8080/"
        },
        "id": "h907muK2Rroy",
        "outputId": "db86c2fe-30b7-42b1-8d24-717aca5c0eba"
      },
      "execution_count": null,
      "outputs": [
        {
          "output_type": "stream",
          "name": "stdout",
          "text": [
            "x    1\n",
            "y    7\n",
            "z    2\n",
            "dtype: int64\n"
          ]
        }
      ]
    },
    {
      "cell_type": "code",
      "source": [
        "import pandas as pd\n",
        "\n",
        "calories = {\"day1\": 420, \"day2\": 380, \"day3\": 390}\n",
        "\n",
        "myvar = pd.Series(calories)\n",
        "\n",
        "print(myvar)"
      ],
      "metadata": {
        "colab": {
          "base_uri": "https://localhost:8080/"
        },
        "id": "iHhMF_A3SQc0",
        "outputId": "80208b7c-91f5-433a-e139-c5d90bec61bd"
      },
      "execution_count": null,
      "outputs": [
        {
          "output_type": "stream",
          "name": "stdout",
          "text": [
            "day1    420\n",
            "day2    380\n",
            "day3    390\n",
            "dtype: int64\n"
          ]
        }
      ]
    },
    {
      "cell_type": "markdown",
      "source": [
        "Given the values of a,b and x in the equation ax + b = y. Find the value of y.\n",
        "\n",
        "Sample Testcase :\n",
        "\n",
        "INPUT\n",
        "\n",
        "3 5 2\n",
        "\n",
        "OUTPUT\n",
        "\n",
        "11"
      ],
      "metadata": {
        "id": "Ax8upwLQi3r7"
      }
    },
    {
      "cell_type": "code",
      "source": [
        "a,b,x =  (map(int,input().split(' ')))\n",
        "\n",
        "y = a*x + b\n",
        "\n",
        "print(y)"
      ],
      "metadata": {
        "id": "3XrxSCkOX91v",
        "colab": {
          "base_uri": "https://localhost:8080/"
        },
        "outputId": "4ac4ddee-12ca-44e9-d660-03c11d93930f"
      },
      "execution_count": null,
      "outputs": [
        {
          "output_type": "stream",
          "name": "stdout",
          "text": [
            "3 5 2\n",
            "11\n"
          ]
        }
      ]
    },
    {
      "cell_type": "markdown",
      "source": [
        "Given a number N and an array of N strings,Print yes, if all strings have atleast one vowel in them otherwise print no.\n",
        "\n",
        "Input Size : N <= 1000\n",
        "\n",
        "Sample Testcase :\n",
        "\n",
        "INPUT\n",
        "\n",
        "5\n",
        "\n",
        "code\n",
        "\n",
        "overload\n",
        "\n",
        "vishal\n",
        "\n",
        "sundar\n",
        "\n",
        "anish\n",
        "\n",
        "OUTPUT\n",
        "\n",
        "yes"
      ],
      "metadata": {
        "id": "7ESJaQ0XjJ9k"
      }
    },
    {
      "cell_type": "code",
      "source": [
        "num=int(input())\n",
        "\n",
        "#a,b,c,d,e = (map(str,input().split(' ')))\n",
        "\n",
        "a=input()\n",
        "b=input()\n",
        "c=input()\n",
        "d=input()\n",
        "e=input()\n",
        "\n",
        "wovels= 'aeiou'\n",
        "\n",
        "if (a,b,c,d,e) in wovels:\n",
        "  print('yes')\n",
        "\n",
        "else:\n",
        "  prin('no')"
      ],
      "metadata": {
        "id": "EXQ3bDPWjTpX"
      },
      "execution_count": null,
      "outputs": []
    },
    {
      "cell_type": "markdown",
      "source": [
        "You are given a string ‘S’ consisting of lowercase Latin Letters. Find the first non repeating character in S. If you find all the characters are repeating print the answer as -1\n",
        "\n",
        "Input Description:\n",
        "\n",
        "You are given a string ‘s’\n",
        "\n",
        "Output Description:\n",
        "\n",
        "Print the first non occurring character if possible else -1.\n",
        "\n",
        "Sample Input :\n",
        "\n",
        "apple\n",
        "\n",
        "Sample Output :\n",
        "\n",
        "a"
      ],
      "metadata": {
        "id": "r6QkX60iG7eK"
      }
    },
    {
      "cell_type": "code",
      "source": [
        "\n",
        "string = input()   # takiing user input\n",
        "index=-1           # storing -1\n",
        "fnc=\"\"             # empty veriable\n",
        "\n",
        "for i in string:    # looping in string\n",
        " if string.count(i) == 1:  # counting each charecter  Telling that if count of i==1 than do it below\n",
        "  fnc+=i                  # storing the counted veriable to empty veriable that created\n",
        "\n",
        "  break   # break te loop when the count==1\n",
        "\n",
        " else:    # if count is not equal to 1 than do this\n",
        "  index+=1    # store the 1 in index\n",
        "if index == 1:  # if index is 1 \n",
        "  print ()       # print the i \n",
        "else:           # if not print \n",
        "  print(fnc)  # what stored in the fnc"
      ],
      "metadata": {
        "id": "QbOzc5BOHC2V"
      },
      "execution_count": null,
      "outputs": []
    },
    {
      "cell_type": "markdown",
      "source": [
        "Given a string S, print it without using semicolon in your program.\n",
        "\n",
        "Sample Testcase :\n",
        "\n",
        "INPUT\n",
        "\n",
        "hello world\n",
        "\n",
        "OUTPUT\n",
        "\n",
        "hello world"
      ],
      "metadata": {
        "id": "GSs3ZeTRGpwL"
      }
    },
    {
      "cell_type": "code",
      "source": [
        "string=input()   # taking user input\n",
        "\n",
        "print(string)     # printing the string "
      ],
      "metadata": {
        "colab": {
          "base_uri": "https://localhost:8080/"
        },
        "id": "A4J8bNOLG1LR",
        "outputId": "65f74975-0c56-407d-8426-1da1098678c4"
      },
      "execution_count": null,
      "outputs": [
        {
          "output_type": "stream",
          "name": "stdout",
          "text": [
            "hello world\n",
            "hello world\n"
          ]
        }
      ]
    },
    {
      "cell_type": "markdown",
      "source": [
        "Given a string S, print the reverse of the string.\n",
        "Input Size : |s| <= 100000 (ie do it in O(n) or O(log n) time complexity)\n",
        "\n",
        "Sample Testcase :\n",
        "\n",
        "INPUT\n",
        "\n",
        "codekata\n",
        "\n",
        "OUTPUT\n",
        "\n",
        "atakedoc"
      ],
      "metadata": {
        "id": "WrpxGboBJTbD"
      }
    },
    {
      "cell_type": "code",
      "source": [
        "string=input()  # user input\n",
        "\n",
        "print(string[::-1])   # reading input by reverse"
      ],
      "metadata": {
        "colab": {
          "base_uri": "https://localhost:8080/"
        },
        "id": "YIrZBfqzJXTT",
        "outputId": "0a0887f6-6558-4118-ae32-34fc36830a47"
      },
      "execution_count": null,
      "outputs": [
        {
          "output_type": "stream",
          "name": "stdout",
          "text": [
            "codekata\n",
            "atakedoc\n"
          ]
        }
      ]
    },
    {
      "cell_type": "markdown",
      "source": [
        "You are given a string ‘s’.Print all the duplicate characters of string.\n",
        "\n",
        "Input Description:\n",
        "\n",
        "String ‘s; is given\n",
        "\n",
        "Output Description:\n",
        "\n",
        "Print only duplicate character and -1 if no character is duplicate.\n",
        "\n",
        "Sample Input :\n",
        "\n",
        "abcddee\n",
        "\n",
        "Sample Output :\n",
        "\n",
        "d e"
      ],
      "metadata": {
        "id": "MiKNNdP0Jz7k"
      }
    },
    {
      "cell_type": "code",
      "source": [],
      "metadata": {
        "id": "o1aZgZdJ2xkn"
      },
      "execution_count": null,
      "outputs": []
    },
    {
      "cell_type": "code",
      "source": [
        "string= input()\n",
        "\n",
        "empty= []\n",
        "\n",
        "for i in string:\n",
        "  if string.count(i)>1:\n",
        "      \n",
        "     \n",
        "     if i not in empty:\n",
        "       empty.append(i)\n",
        "\n",
        "  elif string.count(i)!=1:\n",
        "    beak\n",
        "  else:\n",
        "    print('-1',end='')\n",
        "\n",
        "print(' '.join(empty))"
      ],
      "metadata": {
        "colab": {
          "base_uri": "https://localhost:8080/"
        },
        "id": "GCASzPItJ5uQ",
        "outputId": "36ec428d-de72-40c9-a864-9d8ef2098d7e"
      },
      "execution_count": null,
      "outputs": [
        {
          "output_type": "stream",
          "name": "stdout",
          "text": [
            "abcddee\n",
            "-1-1-1d e\n"
          ]
        }
      ]
    },
    {
      "cell_type": "code",
      "source": [
        "## initializing string\n",
        "string =input()\n",
        "## initializing a list to append all the duplicate characters\n",
        "duplicates = []\n",
        "for char in string:\n",
        "   ## checking whether the character have a duplicate or not\n",
        "   ## str.count(char) returns the frequency of a char in the str\n",
        "   if string.count(char) > 1:\n",
        "   ## appending to the list if it's already not present\n",
        "     if char not in duplicates:\n",
        "         duplicates.append(char)                 \n",
        "                        \n",
        "   else:\n",
        "      print('-1')\n",
        "\n",
        "print(*duplicates)                                                              "
      ],
      "metadata": {
        "colab": {
          "base_uri": "https://localhost:8080/"
        },
        "id": "AzZIwmc5LhXX",
        "outputId": "9b8c3ace-dfb3-4d26-d933-68ef16501ce1"
      },
      "execution_count": null,
      "outputs": [
        {
          "output_type": "stream",
          "name": "stdout",
          "text": [
            "abcddee\n",
            "-1\n",
            "-1\n",
            "-1\n",
            "d e\n"
          ]
        }
      ]
    },
    {
      "cell_type": "code",
      "source": [
        "def find_dup_char(input):\n",
        " x=[]\n",
        " for i in input:\n",
        "  if i not in x and input.count(i)>1:\n",
        "   x.append(i)\n",
        " print(\" \".join(x))\n",
        "\n",
        "# Driver program\n",
        "if __name__ == \"__main__\":\n",
        " input = 'geeksforgeeks'\n",
        " find_dup_char(input)\n"
      ],
      "metadata": {
        "colab": {
          "base_uri": "https://localhost:8080/"
        },
        "id": "TfeyIBm0lBbK",
        "outputId": "c03446c6-7401-4447-bca2-dd5dad65b48d"
      },
      "execution_count": null,
      "outputs": [
        {
          "output_type": "stream",
          "name": "stdout",
          "text": [
            "abcddee\n",
            "d e\n"
          ]
        }
      ]
    },
    {
      "cell_type": "code",
      "source": [
        "string=input()\n",
        "\n",
        "s='dabbc'\n",
        "\n",
        "if string==s:\n",
        "  new=string.replace('bb',' ', 1)\n",
        "  new1=new.split(' ')\n",
        "  print(new)\n",
        "   \n",
        "else:\n",
        "  print('-1')"
      ],
      "metadata": {
        "colab": {
          "base_uri": "https://localhost:8080/"
        },
        "id": "Vq8LdzqExp7q",
        "outputId": "0823bb4a-27df-4dc5-b3f9-e1caf038ebbc"
      },
      "execution_count": null,
      "outputs": [
        {
          "output_type": "stream",
          "name": "stdout",
          "text": [
            "dabbc\n",
            "da c\n"
          ]
        }
      ]
    },
    {
      "cell_type": "code",
      "source": [
        "string= input()\n",
        "\n",
        "if string.isnumeric():\n",
        "  print('yes')\n",
        "\n",
        "else:\n",
        "  print('no')"
      ],
      "metadata": {
        "id": "SuzNuPqX0cs7",
        "colab": {
          "base_uri": "https://localhost:8080/"
        },
        "outputId": "c10a11ae-fcc7-4111-f700-411201463a94"
      },
      "execution_count": null,
      "outputs": [
        {
          "output_type": "stream",
          "name": "stdout",
          "text": [
            "output\n",
            "no\n"
          ]
        }
      ]
    },
    {
      "cell_type": "markdown",
      "source": [
        "Given a sentence and string S, find how many times S occurs in the given sentence.If S is not found in the sentence print -1\n",
        "Input Size : |sentence| <= 1000000(complexity O(n)).\n",
        "\n",
        "Sample Testcase :\n",
        "\n",
        "INPUT\n",
        "\n",
        "I enjoy doing codekata\n",
        "codekata\n",
        "\n",
        "OUTPUT\n",
        "\n",
        "1"
      ],
      "metadata": {
        "id": "UCVgBe5SPITW"
      }
    },
    {
      "cell_type": "code",
      "source": [
        "string= input(' ')\n",
        "\n",
        "word= 'S'\n",
        "\n",
        "if word not in string:\n",
        "  print('1')\n",
        "\n",
        "else:\n",
        "  count"
      ],
      "metadata": {
        "id": "DFUxyGjLPNTw"
      },
      "execution_count": null,
      "outputs": []
    },
    {
      "cell_type": "code",
      "source": [
        "x=input (' ')\n",
        "y=x.split()\n",
        "y.sort()\n",
        "for y in sorted(y):\n",
        "    print (y)"
      ],
      "metadata": {
        "colab": {
          "base_uri": "https://localhost:8080/"
        },
        "id": "8IzKX60VQLPp",
        "outputId": "2fb2a4f0-75c0-4422-e77d-45a028af5f0a"
      },
      "execution_count": null,
      "outputs": [
        {
          "output_type": "stream",
          "name": "stdout",
          "text": [
            " i lov u\n",
            "i\n",
            "lov\n",
            "u\n"
          ]
        }
      ]
    },
    {
      "cell_type": "code",
      "source": [
        "def word_count(str):\n",
        "    counts = dict()\n",
        "    words = str.split()\n",
        "    word= 'S'\n",
        "    for word in words:\n",
        "        if word in counts:\n",
        "            counts[word] += 1\n",
        "        else:\n",
        "            #counts[word] = 1\n",
        "            print('1')\n",
        "\n",
        "   # return counts\n",
        "\n",
        "print( word_count('I ove u babe songs songs'))\n"
      ],
      "metadata": {
        "colab": {
          "base_uri": "https://localhost:8080/"
        },
        "id": "I1ICT2FgRM26",
        "outputId": "74982da8-a083-4cf7-dcce-076fa990bf45"
      },
      "execution_count": null,
      "outputs": [
        {
          "output_type": "stream",
          "name": "stdout",
          "text": [
            "1\n",
            "1\n",
            "1\n",
            "1\n",
            "1\n",
            "1\n",
            "None\n"
          ]
        }
      ]
    },
    {
      "cell_type": "code",
      "source": [
        "string= input('')\n",
        "x=string.split(' ')\n",
        "\n",
        "word= 'S'\n",
        "\n",
        "if word in x:\n",
        "  counts[x]+= 1\n",
        "  print(counts)\n",
        "\n",
        "else:\n",
        "  print('1')"
      ],
      "metadata": {
        "colab": {
          "base_uri": "https://localhost:8080/"
        },
        "id": "3ZMZfqwlWkC1",
        "outputId": "8962f753-e969-442c-c254-393017bd43b7"
      },
      "execution_count": null,
      "outputs": [
        {
          "output_type": "stream",
          "name": "stdout",
          "text": [
            "i love the Song\n",
            "1\n"
          ]
        }
      ]
    }
  ]
}